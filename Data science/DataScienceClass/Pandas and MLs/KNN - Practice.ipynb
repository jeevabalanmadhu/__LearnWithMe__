{
 "cells": [
  {
   "cell_type": "code",
   "execution_count": 8,
   "metadata": {},
   "outputs": [
    {
     "name": "stdout",
     "output_type": "stream",
     "text": [
      "    Height  Weight Size\n",
      "0      148      35    S\n",
      "1      148      35    S\n",
      "2      150      37    S\n",
      "3      150      40    S\n",
      "4      152      42    S\n",
      "5      152      44    S\n",
      "6      152      46    S\n",
      "7      158      58    M\n",
      "8      158      59    M\n",
      "9      158      63    M\n",
      "10     160      59    M\n",
      "11     160      60    M\n",
      "12     163      60    M\n",
      "13     163      61    M\n",
      "14     160      64    L\n",
      "15     163      64    L\n",
      "16     165      61    L\n",
      "17     165      62    L\n",
      "18     165      65    L\n",
      "19     168      62    L\n",
      "20     168      63    L\n",
      "21     168      66    L\n",
      "22     170      63    L\n",
      "23     170      64    L\n",
      "24     170      68    L\n"
     ]
    }
   ],
   "source": [
    "import pandas as pd\n",
    "df=pd.read_excel(r\"D:\\Learning\\Data science\\KNN Data.xlsx\",sheet_name=0)\n",
    "print(df)"
   ]
  },
  {
   "cell_type": "code",
   "execution_count": 9,
   "metadata": {},
   "outputs": [
    {
     "name": "stdout",
     "output_type": "stream",
     "text": [
      "    Height  Weight\n",
      "0      148      35\n",
      "1      148      35\n",
      "2      150      37\n",
      "3      150      40\n",
      "4      152      42\n",
      "5      152      44\n",
      "6      152      46\n",
      "7      158      58\n",
      "8      158      59\n",
      "9      158      63\n",
      "10     160      59\n",
      "11     160      60\n",
      "12     163      60\n",
      "13     163      61\n",
      "14     160      64\n",
      "15     163      64\n",
      "16     165      61\n",
      "17     165      62\n",
      "18     165      65\n",
      "19     168      62\n",
      "20     168      63\n",
      "21     168      66\n",
      "22     170      63\n",
      "23     170      64\n",
      "24     170      68\n",
      "   Size\n",
      "0     S\n",
      "1     S\n",
      "2     S\n",
      "3     S\n",
      "4     S\n",
      "5     S\n",
      "6     S\n",
      "7     M\n",
      "8     M\n",
      "9     M\n",
      "10    M\n",
      "11    M\n",
      "12    M\n",
      "13    M\n",
      "14    L\n",
      "15    L\n",
      "16    L\n",
      "17    L\n",
      "18    L\n",
      "19    L\n",
      "20    L\n",
      "21    L\n",
      "22    L\n",
      "23    L\n",
      "24    L\n"
     ]
    }
   ],
   "source": [
    "#training data\n",
    "x=df.loc[:,[\"Height\",\"Weight\"]]\n",
    "print(x)\n",
    "y=df.loc[:,[\"Size\"]]\n",
    "print(y)"
   ]
  },
  {
   "cell_type": "code",
   "execution_count": 10,
   "metadata": {},
   "outputs": [
    {
     "data": {
      "text/plain": [
       "<matplotlib.collections.PathCollection at 0x703c6e3a20>"
      ]
     },
     "execution_count": 10,
     "metadata": {},
     "output_type": "execute_result"
    },
    {
     "data": {
      "image/png": "[encoded data removed]",
      "text/plain": [
       "<Figure size 432x288 with 1 Axes>"
      ]
     },
     "metadata": {
      "needs_background": "light"
     },
     "output_type": "display_data"
    }
   ],
   "source": [
    "#Graphs and charts\n",
    "import matplotlib.pyplot as plt\n",
    "plt.scatter(df.Height,df.Size, color=\"steelblue\")\n",
    "plt.scatter(df.Weight,df.Size, color=\"Red\")"
   ]
  },
  {
   "cell_type": "code",
   "execution_count": 15,
   "metadata": {},
   "outputs": [
    {
     "name": "stderr",
     "output_type": "stream",
     "text": [
      "C:\\Users\\HP1\\Anaconda3\\lib\\site-packages\\ipykernel_launcher.py:5: DataConversionWarning: A column-vector y was passed when a 1d array was expected. Please change the shape of y to (n_samples, ), for example using ravel().\n",
      "  \"\"\"\n"
     ]
    },
    {
     "data": {
      "text/plain": [
       "KNeighborsClassifier(algorithm='auto', leaf_size=30, metric='minkowski',\n",
       "           metric_params=None, n_jobs=None, n_neighbors=5, p=2,\n",
       "           weights='uniform')"
      ]
     },
     "execution_count": 15,
     "metadata": {},
     "output_type": "execute_result"
    }
   ],
   "source": [
    "from sklearn.neighbors import KNeighborsClassifier\n",
    "\n",
    "model=KNeighborsClassifier()\n",
    "\n",
    "model.fit(x,y)"
   ]
  },
  {
   "cell_type": "code",
   "execution_count": 16,
   "metadata": {},
   "outputs": [
    {
     "name": "stdout",
     "output_type": "stream",
     "text": [
      "0.92\n"
     ]
    }
   ],
   "source": [
    "goodness_score=model.score(x,y)\n",
    "print(goodness_score)"
   ]
  },
  {
   "cell_type": "code",
   "execution_count": 28,
   "metadata": {},
   "outputs": [
    {
     "name": "stdout",
     "output_type": "stream",
     "text": [
      "['M' 'L' 'S' 'L']\n"
     ]
    }
   ],
   "source": [
    "predict_size=model.predict([[131,70],[170,50],[155,50],[170,70]])\n",
    "print(predict_size)"
   ]
  },
  {
   "cell_type": "code",
   "execution_count": null,
   "metadata": {},
   "outputs": [],
   "source": []
  },
  {
   "cell_type": "code",
   "execution_count": null,
   "metadata": {},
   "outputs": [],
   "source": []
  }
 ],
 "metadata": {
  "kernelspec": {
   "display_name": "Python 3",
   "language": "python",
   "name": "python3"
  },
  "language_info": {
   "codemirror_mode": {
    "name": "ipython",
    "version": 3
   },
   "file_extension": ".py",
   "mimetype": "text/x-python",
   "name": "python",
   "nbconvert_exporter": "python",
   "pygments_lexer": "ipython3",
   "version": "3.7.3"
  }
 },
 "nbformat": 4,
 "nbformat_minor": 2
}
