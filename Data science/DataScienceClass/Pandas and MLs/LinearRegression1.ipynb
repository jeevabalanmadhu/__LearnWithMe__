{
 "cells": [
  {
   "cell_type": "code",
   "execution_count": 23,
   "metadata": {},
   "outputs": [
    {
     "name": "stderr",
     "output_type": "stream",
     "text": [
      "C:\\Users\\HP1\\Anaconda3\\lib\\site-packages\\matplotlib\\cbook\\__init__.py:424: MatplotlibDeprecationWarning: \n",
      "Passing one of 'on', 'true', 'off', 'false' as a boolean is deprecated; use an actual boolean (True/False) instead.\n",
      "  warn_deprecated(\"2.2\", \"Passing one of 'on', 'true', 'off', 'false' as a \"\n"
     ]
    },
    {
     "data": {
      "image/png": "[encoded data removed]",
      "text/plain": [
       "<Figure size 432x288 with 1 Axes>"
      ]
     },
     "metadata": {
      "needs_background": "light"
     },
     "output_type": "display_data"
    },
    {
     "name": "stdout",
     "output_type": "stream",
     "text": [
      "R^2 value:  0.994360902255639\n",
      "Enter the Experience: 33\n",
      "predicted salary for the age 33: Rs [[58318.18181818]]\n",
      "Co-efficient: [[1045.45454545]]\n",
      "Intercept: [23818.18181818]\n"
     ]
    }
   ],
   "source": [
    "import pandas as pd\n",
    "df=pd.read_excel(r\"D:\\Learning\\Data science\\DATA\\PythonSpreadSheet.xls\",sheet_name=1)\n",
    "\n",
    "x=df.loc[:,[\"Experience\"]]\n",
    "\n",
    "y=df.loc[:,[\"Salary\"]]\n",
    "\n",
    "import matplotlib.pyplot as plt\n",
    "\n",
    "plt.scatter(df.Experience,df.Salary)\n",
    "plt.title(\"Scatter plot: Experience vs Salary\")\n",
    "plt.xlabel(\"Experience\")\n",
    "plt.ylabel(\"Salary\")\n",
    "plt.grid(\"True\")\n",
    "plt.show()\n",
    "\n",
    "from sklearn.linear_model import LinearRegression\n",
    "\n",
    "model=LinearRegression()\n",
    "\n",
    "model.fit(x,y)\n",
    "\n",
    "goodness_model=model.score(x,y)\n",
    "         \n",
    "print(\"R^2 value: \",goodness_model)\n",
    "\n",
    "Experience=int(input(\"Enter the Experience: \"))\n",
    "\n",
    "salary_prediction=model.predict([[Experience]])\n",
    "\n",
    "print(\"predicted salary for the Experiencel {}: Rs {}\".format(Experience,salary_prediction))\n",
    "\n",
    "print(\"Co-efficient:\",model.coef_)\n",
    "print(\"Intercept:\",model.intercept_)\n",
    "\n"
   ]
  },
  {
   "cell_type": "code",
   "execution_count": null,
   "metadata": {},
   "outputs": [],
   "source": []
  }
 ],
 "metadata": {
  "kernelspec": {
   "display_name": "Python 3",
   "language": "python",
   "name": "python3"
  },
  "language_info": {
   "codemirror_mode": {
    "name": "ipython",
    "version": 3
   },
   "file_extension": ".py",
   "mimetype": "text/x-python",
   "name": "python",
   "nbconvert_exporter": "python",
   "pygments_lexer": "ipython3",
   "version": "3.7.3"
  }
 },
 "nbformat": 4,
 "nbformat_minor": 2
}
