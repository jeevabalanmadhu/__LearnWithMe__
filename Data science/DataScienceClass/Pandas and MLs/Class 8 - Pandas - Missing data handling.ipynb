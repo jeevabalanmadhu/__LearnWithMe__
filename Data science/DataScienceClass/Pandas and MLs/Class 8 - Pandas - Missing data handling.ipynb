{
 "cells": [
  {
   "cell_type": "markdown",
   "metadata": {},
   "source": [
    "Pandas - Missing data handling\n",
    "=========================="
   ]
  },
  {
   "cell_type": "code",
   "execution_count": null,
   "metadata": {},
   "outputs": [],
   "source": [
    "* Missing data is always a problem in real life scenarios.\n",
    "* Areas like machine learning and data mining face sever issues in the accuracy of their model\n",
    "* Predeictions because of poor quality of data caused by missing values\n",
    "* in these areas, missing value treatment is a major point of focus to make their models are accurate and valid."
   ]
  },
  {
   "cell_type": "code",
   "execution_count": 4,
   "metadata": {},
   "outputs": [
    {
     "name": "stdout",
     "output_type": "stream",
     "text": [
      "D:\\Learning\n",
      "Data science\\DATA\\MissingData.xlsx\n",
      "D:\\Learning\\nData science\\DATA\\MissingData.xlsx\n"
     ]
    }
   ],
   "source": [
    "#using r in print before double quotation will convert the string into raw string. \n",
    "\n",
    "print(\"D:\\Learning\\nData science\\DATA\\MissingData.xlsx\")\n",
    "\n",
    "print(r\"D:\\Learning\\nData science\\DATA\\MissingData.xlsx\")"
   ]
  },
  {
   "cell_type": "code",
   "execution_count": 10,
   "metadata": {},
   "outputs": [
    {
     "name": "stdout",
     "output_type": "stream",
     "text": [
      "          Name   Age   Salary Department  Experience  Gender\n",
      "0      Sridevi  21.0  25000.0  Developer           1       0\n",
      "1      Sathish  22.0  26000.0  Developer           2       1\n",
      "2     Dhayalan  23.0      NaN  Developer           3       1\n",
      "3         Teja  24.0  28000.0  Developer           4       1\n",
      "4         Rani  25.0  29000.0  Developer           5       0\n",
      "5       Sundar   NaN  30000.0  Developer           6       1\n",
      "6        Deepa  27.0  31000.0  Developer           7       0\n",
      "7  Jeyalakshmi  28.0  32000.0  Developer           8       0\n",
      "8       Prince  29.0  33000.0        NaN           9       1\n",
      "9      Shanker  30.0  34000.0  Developer          10       1\n",
      "\n",
      "checking the null values\n",
      "\n",
      "    Name    Age  Salary  Department  Experience  Gender\n",
      "0  False  False   False       False       False   False\n",
      "1  False  False   False       False       False   False\n",
      "2  False  False    True       False       False   False\n",
      "3  False  False   False       False       False   False\n",
      "4  False  False   False       False       False   False\n",
      "5  False   True   False       False       False   False\n",
      "6  False  False   False       False       False   False\n",
      "7  False  False   False       False       False   False\n",
      "8  False  False   False        True       False   False\n",
      "9  False  False   False       False       False   False\n",
      "\n",
      "0    False\n",
      "1    False\n",
      "2    False\n",
      "3    False\n",
      "4    False\n",
      "5     True\n",
      "6    False\n",
      "7    False\n",
      "8    False\n",
      "9    False\n",
      "Name: Age, dtype: bool\n",
      "\n",
      "Name          0\n",
      "Age           1\n",
      "Salary        1\n",
      "Department    1\n",
      "Experience    0\n",
      "Gender        0\n",
      "dtype: int64\n",
      "\n",
      "Salary column empty value count= 1\n"
     ]
    }
   ],
   "source": [
    "import pandas as pd\n",
    "\n",
    "df=pd.read_excel(r\"D:\\Learning\\Data science\\DATA\\MissingData.xlsx\")\n",
    "\n",
    "print(df)\n",
    "\n",
    "print(\"\\nchecking the null values\\n\")\n",
    "\n",
    "print(df.isnull())\n",
    "print()\n",
    "print(df[\"Age\"].isnull())\n",
    "print()\n",
    "print(df.isnull().sum())\n",
    "print()\n",
    "print(\"Salary column empty value count=\",df[\"Salary\"].isnull().sum())"
   ]
  },
  {
   "cell_type": "code",
   "execution_count": 12,
   "metadata": {},
   "outputs": [
    {
     "name": "stdout",
     "output_type": "stream",
     "text": [
      "   Name    Age  Salary  Department  Experience  Gender\n",
      "0  True   True    True        True        True    True\n",
      "1  True   True    True        True        True    True\n",
      "2  True   True   False        True        True    True\n",
      "3  True   True    True        True        True    True\n",
      "4  True   True    True        True        True    True\n",
      "5  True  False    True        True        True    True\n",
      "6  True   True    True        True        True    True\n",
      "7  True   True    True        True        True    True\n",
      "8  True   True    True       False        True    True\n",
      "9  True   True    True        True        True    True\n",
      "\n",
      "Value count in each column\n",
      " Name          10\n",
      "Age            9\n",
      "Salary         9\n",
      "Department     9\n",
      "Experience    10\n",
      "Gender        10\n",
      "dtype: int64\n",
      "\n",
      "Salary column values count= 9\n"
     ]
    }
   ],
   "source": [
    "print(df.notnull())\n",
    "print()\n",
    "print(\"Value count in each column\\n\",df.notnull().sum())\n",
    "print()\n",
    "print(\"Salary column values count=\",df[\"Salary\"].notnull().sum())"
   ]
  },
  {
   "cell_type": "markdown",
   "metadata": {},
   "source": [
    "Cleaning or filling missing data:\n",
    "============"
   ]
  },
  {
   "cell_type": "code",
   "execution_count": null,
   "metadata": {},
   "outputs": [],
   "source": [
    "* pandas provides various methods for cleaning the missing values\n",
    "* The .fillna function can \"fill in\" NA values with non-null data in a couple of ways, \n",
    "    which we have illustrated in the following sections."
   ]
  },
  {
   "cell_type": "code",
   "execution_count": 16,
   "metadata": {},
   "outputs": [
    {
     "name": "stdout",
     "output_type": "stream",
     "text": [
      "          Name   Age   Salary Department  Experience  Gender\n",
      "0      Sridevi  21.0  25000.0  Developer           1       0\n",
      "1      Sathish  22.0  26000.0  Developer           2       1\n",
      "2     Dhayalan  23.0      NaN  Developer           3       1\n",
      "3         Teja  24.0  28000.0  Developer           4       1\n",
      "4         Rani  25.0  29000.0  Developer           5       0\n",
      "5       Sundar   NaN  30000.0  Developer           6       1\n",
      "6        Deepa  27.0  31000.0  Developer           7       0\n",
      "7  Jeyalakshmi  28.0  32000.0  Developer           8       0\n",
      "8       Prince  29.0  33000.0        NaN           9       1\n",
      "9      Shanker  30.0  34000.0  Developer          10       1\n",
      "\n",
      "          Name   Age   Salary Department  Experience  Gender\n",
      "0      Sridevi  21.0  25000.0  Developer           1       0\n",
      "1      Sathish  22.0  26000.0  Developer           2       1\n",
      "2     Dhayalan  23.0      0.0  Developer           3       1\n",
      "3         Teja  24.0  28000.0  Developer           4       1\n",
      "4         Rani  25.0  29000.0  Developer           5       0\n",
      "5       Sundar   0.0  30000.0  Developer           6       1\n",
      "6        Deepa  27.0  31000.0  Developer           7       0\n",
      "7  Jeyalakshmi  28.0  32000.0  Developer           8       0\n",
      "8       Prince  29.0  33000.0          0           9       1\n",
      "9      Shanker  30.0  34000.0  Developer          10       1\n",
      "\n",
      "\n",
      "0    21.0\n",
      "1    22.0\n",
      "2    23.0\n",
      "3    24.0\n",
      "4    25.0\n",
      "5     0.0\n",
      "6    27.0\n",
      "7    28.0\n",
      "8    29.0\n",
      "9    30.0\n",
      "Name: Age, dtype: float64\n",
      "\n",
      "          Name   Age   Salary Department  Experience  Gender  Summa column\n",
      "0      Sridevi  21.0  25000.0  Developer           1       0          21.0\n",
      "1      Sathish  22.0  26000.0  Developer           2       1          22.0\n",
      "2     Dhayalan  23.0      NaN  Developer           3       1          23.0\n",
      "3         Teja  24.0  28000.0  Developer           4       1          24.0\n",
      "4         Rani  25.0  29000.0  Developer           5       0          25.0\n",
      "5       Sundar   0.0  30000.0  Developer           6       1           0.0\n",
      "6        Deepa  27.0  31000.0  Developer           7       0          27.0\n",
      "7  Jeyalakshmi  28.0  32000.0  Developer           8       0          28.0\n",
      "8       Prince  29.0  33000.0        NaN           9       1          29.0\n",
      "9      Shanker  30.0  34000.0  Developer          10       1          30.0\n"
     ]
    }
   ],
   "source": [
    "import pandas as pd\n",
    "\n",
    "df=pd.read_excel(r\"D:\\Learning\\Data science\\DATA\\MissingData.xlsx\")\n",
    "\n",
    "print(df)\n",
    "\n",
    "print()\n",
    "\n",
    "print(df.fillna(value=0))\n",
    "\n",
    "print()\n",
    "\n",
    "x=df[\"Age\"].fillna(value=0) #these three lines can be df[\"Age\"]=df[\"Age\"].fillin(value=0), just for understanding the dictionary\n",
    "                            #this is given\n",
    "\n",
    "print()\n",
    "print(x)\n",
    "print()\n",
    "\n",
    "df[\"Age\"]=x\n",
    "df[\"Summa column\"]=x # new column appending for testing\n",
    "\n",
    "print(df)"
   ]
  },
  {
   "cell_type": "code",
   "execution_count": null,
   "metadata": {},
   "outputs": [],
   "source": [
    "FillNA forward and backward:\n",
    "    * usig the concepts of fulling in the ReIndexing chapter we will fill the missing values."
   ]
  },
  {
   "cell_type": "code",
   "execution_count": 18,
   "metadata": {},
   "outputs": [
    {
     "name": "stdout",
     "output_type": "stream",
     "text": [
      "          Name   Age   Salary Department  Experience  Gender\n",
      "0      Sridevi  21.0  25000.0  Developer           1       0\n",
      "1      Sathish  22.0  26000.0  Developer           2       1\n",
      "2     Dhayalan  23.0      NaN  Developer           3       1\n",
      "3         Teja  24.0  28000.0  Developer           4       1\n",
      "4         Rani  25.0  29000.0  Developer           5       0\n",
      "5       Sundar   NaN  30000.0  Developer           6       1\n",
      "6        Deepa  27.0  31000.0  Developer           7       0\n",
      "7  Jeyalakshmi  28.0  32000.0  Developer           8       0\n",
      "8       Prince  29.0  33000.0        NaN           9       1\n",
      "9      Shanker  30.0  34000.0  Developer          10       1\n",
      "\n",
      "          Name   Age   Salary Department  Experience  Gender\n",
      "0      Sridevi  21.0  25000.0  Developer           1       0\n",
      "1      Sathish  22.0  26000.0  Developer           2       1\n",
      "2     Dhayalan  23.0  26000.0  Developer           3       1\n",
      "3         Teja  24.0  28000.0  Developer           4       1\n",
      "4         Rani  25.0  29000.0  Developer           5       0\n",
      "5       Sundar  25.0  30000.0  Developer           6       1\n",
      "6        Deepa  27.0  31000.0  Developer           7       0\n",
      "7  Jeyalakshmi  28.0  32000.0  Developer           8       0\n",
      "8       Prince  29.0  33000.0  Developer           9       1\n",
      "9      Shanker  30.0  34000.0  Developer          10       1\n",
      "\n",
      "          Name   Age   Salary Department  Experience  Gender\n",
      "0      Sridevi  21.0  25000.0  Developer           1       0\n",
      "1      Sathish  22.0  26000.0  Developer           2       1\n",
      "2     Dhayalan  23.0  26000.0  Developer           3       1\n",
      "3         Teja  24.0  28000.0  Developer           4       1\n",
      "4         Rani  25.0  29000.0  Developer           5       0\n",
      "5       Sundar  25.0  30000.0  Developer           6       1\n",
      "6        Deepa  27.0  31000.0  Developer           7       0\n",
      "7  Jeyalakshmi  28.0  32000.0  Developer           8       0\n",
      "8       Prince  29.0  33000.0  Developer           9       1\n",
      "9      Shanker  30.0  34000.0  Developer          10       1\n"
     ]
    }
   ],
   "source": [
    "#method=\"pad\" or method=\"ffill\" will fill the previous values\n",
    "\n",
    "import pandas as pd\n",
    "\n",
    "df=pd.read_excel(r\"D:\\Learning\\Data science\\DATA\\MissingData.xlsx\")\n",
    "\n",
    "print(df)\n",
    "\n",
    "print()\n",
    "\n",
    "print(df.fillna(method=\"pad\"))\n",
    "\n",
    "print()\n",
    "\n",
    "print(df.fillna(method=\"ffill\"))"
   ]
  },
  {
   "cell_type": "code",
   "execution_count": 19,
   "metadata": {},
   "outputs": [
    {
     "name": "stdout",
     "output_type": "stream",
     "text": [
      "          Name   Age   Salary Department  Experience  Gender\n",
      "0      Sridevi  21.0  25000.0  Developer           1       0\n",
      "1      Sathish  22.0  26000.0  Developer           2       1\n",
      "2     Dhayalan  23.0      NaN  Developer           3       1\n",
      "3         Teja  24.0  28000.0  Developer           4       1\n",
      "4         Rani  25.0  29000.0  Developer           5       0\n",
      "5       Sundar   NaN  30000.0  Developer           6       1\n",
      "6        Deepa  27.0  31000.0  Developer           7       0\n",
      "7  Jeyalakshmi  28.0  32000.0  Developer           8       0\n",
      "8       Prince  29.0  33000.0        NaN           9       1\n",
      "9      Shanker  30.0  34000.0  Developer          10       1\n",
      "\n",
      "          Name   Age   Salary Department  Experience  Gender\n",
      "0      Sridevi  21.0  25000.0  Developer           1       0\n",
      "1      Sathish  22.0  26000.0  Developer           2       1\n",
      "2     Dhayalan  23.0  28000.0  Developer           3       1\n",
      "3         Teja  24.0  28000.0  Developer           4       1\n",
      "4         Rani  25.0  29000.0  Developer           5       0\n",
      "5       Sundar  27.0  30000.0  Developer           6       1\n",
      "6        Deepa  27.0  31000.0  Developer           7       0\n",
      "7  Jeyalakshmi  28.0  32000.0  Developer           8       0\n",
      "8       Prince  29.0  33000.0  Developer           9       1\n",
      "9      Shanker  30.0  34000.0  Developer          10       1\n"
     ]
    }
   ],
   "source": [
    "#method=\"bfill\" will fill the next value\n",
    "\n",
    "import pandas as pd\n",
    "\n",
    "df=pd.read_excel(r\"D:\\Learning\\Data science\\DATA\\MissingData.xlsx\")\n",
    "\n",
    "print(df)\n",
    "\n",
    "print()\n",
    "\n",
    "print(df.fillna(method=\"bfill\"))\n"
   ]
  },
  {
   "cell_type": "code",
   "execution_count": 21,
   "metadata": {},
   "outputs": [
    {
     "name": "stdout",
     "output_type": "stream",
     "text": [
      "          Name   Age   Salary Department  Experience  Gender\n",
      "0      Sridevi  21.0  25000.0  Developer           1       0\n",
      "1      Sathish  22.0  26000.0  Developer           2       1\n",
      "2     Dhayalan  23.0      NaN  Developer           3       1\n",
      "3         Teja  24.0  28000.0  Developer           4       1\n",
      "4         Rani  25.0  29000.0  Developer           5       0\n",
      "5       Sundar   NaN  30000.0  Developer           6       1\n",
      "6        Deepa  27.0  31000.0  Developer           7       0\n",
      "7  Jeyalakshmi  28.0  32000.0  Developer           8       0\n",
      "8       Prince  29.0  33000.0        NaN           9       1\n",
      "9      Shanker  30.0  34000.0  Developer          10       1\n",
      "\n",
      "          Name   Age   Salary Department  Experience  Gender\n",
      "0      Sridevi  21.0  25000.0  Developer           1       0\n",
      "1      Sathish  22.0  26000.0  Developer           2       1\n",
      "3         Teja  24.0  28000.0  Developer           4       1\n",
      "4         Rani  25.0  29000.0  Developer           5       0\n",
      "6        Deepa  27.0  31000.0  Developer           7       0\n",
      "7  Jeyalakshmi  28.0  32000.0  Developer           8       0\n",
      "9      Shanker  30.0  34000.0  Developer          10       1\n",
      "\n",
      "          Name   Age   Salary Department  Experience  Gender\n",
      "0      Sridevi  21.0  25000.0  Developer           1       0\n",
      "1      Sathish  22.0  26000.0  Developer           2       1\n",
      "3         Teja  24.0  28000.0  Developer           4       1\n",
      "4         Rani  25.0  29000.0  Developer           5       0\n",
      "6        Deepa  27.0  31000.0  Developer           7       0\n",
      "7  Jeyalakshmi  28.0  32000.0  Developer           8       0\n",
      "9      Shanker  30.0  34000.0  Developer          10       1\n",
      "\n",
      "          Name  Experience  Gender\n",
      "0      Sridevi           1       0\n",
      "1      Sathish           2       1\n",
      "2     Dhayalan           3       1\n",
      "3         Teja           4       1\n",
      "4         Rani           5       0\n",
      "5       Sundar           6       1\n",
      "6        Deepa           7       0\n",
      "7  Jeyalakshmi           8       0\n",
      "8       Prince           9       1\n",
      "9      Shanker          10       1\n"
     ]
    }
   ],
   "source": [
    "#.dropna will drop the row or column based on arguement axis=0 or 1\n",
    "\n",
    "#method=\"pad\" or method=\"ffill\" will fill the previous values\n",
    "\n",
    "import pandas as pd\n",
    "\n",
    "df=pd.read_excel(r\"D:\\Learning\\Data science\\DATA\\MissingData.xlsx\")\n",
    "\n",
    "print(df)\n",
    "\n",
    "print()\n",
    "\n",
    "print(df.dropna()) #default empty value row will get removed\n",
    "\n",
    "print()\n",
    "\n",
    "print(df.dropna(axis=0)) #remove the rows if any value in the row is null or empty\n",
    "\n",
    "print()\n",
    "\n",
    "print(df.dropna(axis=1)) #remove the columns if any value in the columns is null or empty\n",
    "\n"
   ]
  },
  {
   "cell_type": "code",
   "execution_count": 24,
   "metadata": {},
   "outputs": [
    {
     "name": "stdout",
     "output_type": "stream",
     "text": [
      "average of age without empty value:  25.444444444444443\n"
     ]
    }
   ],
   "source": [
    "# to find mean of age without null values\n",
    "\n",
    "print(\"average of age without empty value: \",df[\"Age\"].dropna(axis=0).mean())"
   ]
  },
  {
   "cell_type": "markdown",
   "metadata": {},
   "source": [
    "Replace missing or generic values:\n",
    "====="
   ]
  },
  {
   "cell_type": "code",
   "execution_count": 26,
   "metadata": {},
   "outputs": [
    {
     "name": "stdout",
     "output_type": "stream",
     "text": [
      "          Name   Age   Salary Department  Experience  Gender\n",
      "0      Sridevi  21.0  25000.0  Developer           1       0\n",
      "1      Sathish  22.0  26000.0  Developer           2       1\n",
      "2     Dhayalan  23.0      NaN  Developer           3       1\n",
      "3         Teja  24.0  28000.0  Developer           4       1\n",
      "4         Rani  25.0  29000.0  Developer           5       0\n",
      "5       Sundar   NaN  30000.0  Developer           6       1\n",
      "6        Deepa  27.0  31000.0  Developer           7       0\n",
      "7  Jeyalakshmi  28.0  32000.0  Developer           8       0\n",
      "8       Prince  29.0  33000.0        NaN           9       1\n",
      "9      Shanker  30.0  34000.0  Developer          10       1\n",
      "\n",
      "0    Female\n",
      "1      Male\n",
      "2      Male\n",
      "3      Male\n",
      "4    Female\n",
      "5      Male\n",
      "6    Female\n",
      "7    Female\n",
      "8      Male\n",
      "9      Male\n",
      "Name: Gender, dtype: object\n"
     ]
    }
   ],
   "source": [
    "import pandas as pd\n",
    "\n",
    "df=pd.read_excel(r\"D:\\Learning\\Data science\\DATA\\MissingData.xlsx\")\n",
    "\n",
    "print(df)\n",
    "\n",
    "df=df[\"Gender\"].replace({0:\"Female\",1:\"Male\"})\n",
    "\n",
    "print()\n",
    "print(df)"
   ]
  },
  {
   "cell_type": "code",
   "execution_count": 31,
   "metadata": {},
   "outputs": [
    {
     "name": "stdout",
     "output_type": "stream",
     "text": [
      "          Name   Age   Salary Department  Experience  Gender\n",
      "0      Sridevi  21.0  25000.0  Developer           1       0\n",
      "1      Sathish  22.0  26000.0  Developer           2       1\n",
      "2     Dhayalan  23.0      NaN  Developer           3       1\n",
      "3         Teja  24.0  28000.0  Developer           4       1\n",
      "4         Rani  25.0  29000.0  Developer           5       0\n",
      "5       Sundar   NaN  30000.0  Developer           6       1\n",
      "6        Deepa  27.0  31000.0  Developer           7       0\n",
      "7  Jeyalakshmi  28.0  32000.0  Developer           8       0\n",
      "8       Prince  29.0  33000.0        NaN           9       1\n",
      "9      Shanker  30.0  34000.0  Developer          10       1\n",
      "\n",
      "          Name    Age   Salary Department  Experience  Gender\n",
      "0      Sridevi     21  25000.0  Developer           1  Female\n",
      "1      Sathish     22  26000.0  Developer           2    Male\n",
      "2     Dhayalan     23      NaN  Developer           3    Male\n",
      "3         Teja     24  28000.0  Developer           4    Male\n",
      "4         Rani     25  29000.0  Developer           5  Female\n",
      "5       Sundar  Empty  30000.0  Developer           6    Male\n",
      "6        Deepa     27  31000.0  Developer           7  Female\n",
      "7  Jeyalakshmi     28  32000.0  Developer           8  Female\n",
      "8       Prince     29  33000.0        NaN           9    Male\n",
      "9      Shanker     30  34000.0  Developer          10    Male\n"
     ]
    }
   ],
   "source": [
    "import pandas as pd\n",
    "\n",
    "df=pd.read_excel(r\"D:\\Learning\\Data science\\DATA\\MissingData.xlsx\")\n",
    "\n",
    "print(df)\n",
    "\n",
    "df[\"Gender\"]=df[\"Gender\"].replace({0:\"Female\",1:\"Male\"})\n",
    "df[\"Age\"]=df[\"Age\"].fillna(value=\"Empty\")\n",
    "\n",
    "print()\n",
    "print(df)"
   ]
  },
  {
   "cell_type": "code",
   "execution_count": null,
   "metadata": {},
   "outputs": [],
   "source": []
  }
 ],
 "metadata": {
  "kernelspec": {
   "display_name": "Python 3",
   "language": "python",
   "name": "python3"
  },
  "language_info": {
   "codemirror_mode": {
    "name": "ipython",
    "version": 3
   },
   "file_extension": ".py",
   "mimetype": "text/x-python",
   "name": "python",
   "nbconvert_exporter": "python",
   "pygments_lexer": "ipython3",
   "version": "3.7.3"
  }
 },
 "nbformat": 4,
 "nbformat_minor": 2
}
