{
 "cells": [
  {
   "cell_type": "code",
   "execution_count": 24,
   "metadata": {},
   "outputs": [],
   "source": [
    "#getting data from excel sheet\n",
    "\n",
    "import pandas as pd\n",
    "df=pd.read_excel(r\"D:\\Learning\\Data science\\mobile_cleaned-1549119762886.xlsx\", sheet_name=\"Train\")\n",
    "\n",
    "#Training data\n",
    "x=df.loc[:,[\"sim_type\",\"aperture\",\"gpu_rank\",\"weight\",\"stand_by_time\",\"processor_frequency\",\"thickness\",\"flash_type\",\"front_camera_resolution\",\"auto_focus\",\"screen_size\",\"frames_per_second\",\"FM\",\"no_of_reviews_in_gsmarena_in_week\",\"os\",\"phone_height\",\"screen_protection\",\"sim_size\",\"price\",\"talk_time\",\"video_resolution\",\"display_resolution\",\"removable_battery\",\"display_type\",\"primary_camera_resolution\",\"battery_type\",\"ram_memory\",\"internal_memory\",\"brand_rank\",\"no_of_cores\",\"micro_sd_slot\",\"screen_pixel_density\",\"water_proof_rate\",\"phone_width\",\"expandable_memory\",\"version\",\"usb_type\",\"battery_capacity\",\"processor_rank\"]]\n",
    "#x=df.loc[:,[\"sim_type\",\"aperture\",\"gpu_rank\",\"weight\",\"stand_by_time\"]]\n",
    "y=df.loc[:,[\"is_liked\"]]\n",
    "\n"
   ]
  },
  {
   "cell_type": "code",
   "execution_count": 25,
   "metadata": {},
   "outputs": [
    {
     "data": {
      "text/plain": [
       "<function matplotlib.pyplot.show(*args, **kw)>"
      ]
     },
     "execution_count": 25,
     "metadata": {},
     "output_type": "execute_result"
    },
    {
     "data": {
      "image/png": "[encoded data removed]",
      "text/plain": [
       "<Figure size 432x288 with 1 Axes>"
      ]
     },
     "metadata": {
      "needs_background": "light"
     },
     "output_type": "display_data"
    }
   ],
   "source": [
    "#Graphs and charts\n",
    "import matplotlib.pyplot as plt\n",
    "plt.scatter(df.stand_by_time,df.is_liked, color=\"Red\")\n",
    "plt.show"
   ]
  },
  {
   "cell_type": "code",
   "execution_count": 20,
   "metadata": {},
   "outputs": [
    {
     "name": "stderr",
     "output_type": "stream",
     "text": [
      "C:\\Users\\HP1\\Anaconda3\\lib\\site-packages\\sklearn\\linear_model\\logistic.py:433: FutureWarning: Default solver will be changed to 'lbfgs' in 0.22. Specify a solver to silence this warning.\n",
      "  FutureWarning)\n",
      "C:\\Users\\HP1\\Anaconda3\\lib\\site-packages\\sklearn\\utils\\validation.py:761: DataConversionWarning: A column-vector y was passed when a 1d array was expected. Please change the shape of y to (n_samples, ), for example using ravel().\n",
      "  y = column_or_1d(y, warn=True)\n"
     ]
    },
    {
     "data": {
      "text/plain": [
       "LogisticRegression(C=1.0, class_weight=None, dual=False, fit_intercept=True,\n",
       "          intercept_scaling=1, max_iter=100, multi_class='warn',\n",
       "          n_jobs=None, penalty='l2', random_state=0, solver='warn',\n",
       "          tol=0.0001, verbose=0, warm_start=False)"
      ]
     },
     "execution_count": 20,
     "metadata": {},
     "output_type": "execute_result"
    }
   ],
   "source": [
    "#Data analytics or prediction using machine learning\n",
    "\n",
    "from sklearn.linear_model import LogisticRegression\n",
    "\n",
    "model=LogisticRegression(random_state=0)\n",
    "\n",
    "model.fit(x,y)"
   ]
  },
  {
   "cell_type": "code",
   "execution_count": 26,
   "metadata": {},
   "outputs": [
    {
     "name": "stdout",
     "output_type": "stream",
     "text": [
      "R^2 value:  0.9905660377358491\n"
     ]
    }
   ],
   "source": [
    "goodness_score=model.score(x,y)\n",
    "\n",
    "print(\"R^2 value: \",goodness_score)"
   ]
  },
  {
   "cell_type": "code",
   "execution_count": 27,
   "metadata": {},
   "outputs": [
    {
     "name": "stdout",
     "output_type": "stream",
     "text": [
      "Predicted value is: [1]\n"
     ]
    }
   ],
   "source": [
    "predict_liked=model.predict([[3,10,12,129,250,1.4,6.9,2,1.2,3,4.7,60,4,39,2,138.1,16,11,48329,14,1080,7,1,2,8,2,1,6,1,0,1,13,6,67,0,12,13,1810,7]])\n",
    "\n",
    "print(\"Predicted value is:\",predict_liked)"
   ]
  },
  {
   "cell_type": "code",
   "execution_count": 28,
   "metadata": {},
   "outputs": [
    {
     "name": "stdout",
     "output_type": "stream",
     "text": [
      "Predicted value is: [1]\n"
     ]
    }
   ],
   "source": [
    "predict_liked=model.predict([[2,8,3,158,400,2.2,7.4,6,8,3,5.5,30,1,0,0,152.7,7,8,27999,40,2160,9,1,6,16,4,6,6,12,6,5,16,6,74.7,0,10,12,3000,2]])\n",
    "\n",
    "print(\"Predicted value is:\",predict_liked)"
   ]
  },
  {
   "cell_type": "code",
   "execution_count": 31,
   "metadata": {},
   "outputs": [
    {
     "name": "stdout",
     "output_type": "stream",
     "text": [
      "Predicted value is: [0 1 1]\n"
     ]
    }
   ],
   "source": [
    "predict_liked=model.predict([[1,1,55,234,385,1.3,7.9,5,1.92,3,5,15,3,0,0,179,18,3,5990,11,720,17,3,1,5,1,1,7,4,6,4,1,6,91,32,6,3,3000,165],[2,8,3,158,400,2.2,7.4,6,8,3,5.5,30,1,0,0,152.7,7,8,27999,40,2160,9,1,6,16,4,6,6,12,6,5,16,6,74.7,0,10,12,3000,2],[3,12,16,149,410,2.5,8.9,3,2.1,3,5.5,30,3,0,0,146.3,5,1,38000,19,2160,10,3,1,13,5,3,4,9,7,4,28,6,74.6,32,4,3,3000,15]])\n",
    "\n",
    "print(\"Predicted value is:\",predict_liked)"
   ]
  },
  {
   "cell_type": "code",
   "execution_count": null,
   "metadata": {},
   "outputs": [],
   "source": []
  }
 ],
 "metadata": {
  "kernelspec": {
   "display_name": "Python 3",
   "language": "python",
   "name": "python3"
  },
  "language_info": {
   "codemirror_mode": {
    "name": "ipython",
    "version": 3
   },
   "file_extension": ".py",
   "mimetype": "text/x-python",
   "name": "python",
   "nbconvert_exporter": "python",
   "pygments_lexer": "ipython3",
   "version": "3.7.3"
  }
 },
 "nbformat": 4,
 "nbformat_minor": 2
}
