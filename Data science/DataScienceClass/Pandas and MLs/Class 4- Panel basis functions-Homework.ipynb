{
 "cells": [
  {
   "cell_type": "code",
   "execution_count": 1,
   "metadata": {},
   "outputs": [
    {
     "name": "stdout",
     "output_type": "stream",
     "text": [
      "[[[ 0.5291553  -0.54914809 -0.6677881  -2.07978723  0.74569542\n",
      "   -1.34823719]\n",
      "  [ 0.99308875 -0.88551633  0.78622295  0.11337345  1.89928095\n",
      "    0.58801624]\n",
      "  [ 0.45745899  0.47077066 -0.18947734  1.26111999  0.03010172\n",
      "    0.31886656]\n",
      "  [ 1.50704545 -0.16776406 -0.55487717 -0.05741393  0.30283927\n",
      "    0.93448999]]\n",
      "\n",
      " [[-0.31157853  0.56800732  1.58715609  0.17291788  0.46133876\n",
      "    0.41569239]\n",
      "  [ 2.9643243   2.07431489  0.43208501 -0.03577269  0.17660223\n",
      "   -0.91434418]\n",
      "  [ 0.9068176  -1.7045639  -1.68064901 -0.61863965  0.29303519\n",
      "   -0.1394975 ]\n",
      "  [ 0.13101461 -0.01569433 -1.3503368  -1.21258947 -0.81034365\n",
      "    1.62035993]]\n",
      "\n",
      " [[-1.00662702  0.99212477  0.89359751 -1.8317002  -0.66673349\n",
      "    0.97967423]\n",
      "  [ 0.23249421 -0.37884601  0.36266132  0.37874158 -1.16344852\n",
      "    1.48463833]\n",
      "  [ 0.20703065  0.86107355 -0.51944761  0.443811   -3.06508133\n",
      "    0.33280594]\n",
      "  [ 0.23186297  0.37838415  1.01368796 -0.29987466 -0.48086324\n",
      "    0.19165815]]]\n",
      "<class 'pandas.core.panel.Panel'>\n",
      "Dimensions: 3 (items) x 4 (major_axis) x 6 (minor_axis)\n",
      "Items axis: A to C\n",
      "Major_axis axis: R1 to R4\n",
      "Minor_axis axis: C1 to C6\n",
      "          C1        C2        C3        C4        C5        C6\n",
      "R1 -1.006627  0.992125  0.893598 -1.831700 -0.666733  0.979674\n",
      "R2  0.232494 -0.378846  0.362661  0.378742 -1.163449  1.484638\n",
      "R3  0.207031  0.861074 -0.519448  0.443811 -3.065081  0.332806\n",
      "R4  0.231863  0.378384  1.013688 -0.299875 -0.480863  0.191658\n",
      "           A         B         C\n",
      "C1  0.993089  2.964324  0.232494\n",
      "C2 -0.885516  2.074315 -0.378846\n",
      "C3  0.786223  0.432085  0.362661\n",
      "C4  0.113373 -0.035773  0.378742\n",
      "C5  1.899281  0.176602 -1.163449\n",
      "C6  0.588016 -0.914344  1.484638\n",
      "           A         B         C\n",
      "R1  0.529155 -0.311579 -1.006627\n",
      "R2  0.993089  2.964324  0.232494\n",
      "R3  0.457459  0.906818  0.207031\n",
      "R4  1.507045  0.131015  0.231863\n"
     ]
    },
    {
     "name": "stderr",
     "output_type": "stream",
     "text": [
      "C:\\Users\\HP1\\Anaconda3\\lib\\site-packages\\IPython\\core\\interactiveshell.py:3296: FutureWarning: \n",
      "Panel is deprecated and will be removed in a future version.\n",
      "The recommended way to represent these types of 3-dimensional data are with a MultiIndex on a DataFrame, via the Panel.to_frame() method\n",
      "Alternatively, you can use the xarray package http://xarray.pydata.org/en/stable/.\n",
      "Pandas provides a `.to_xarray()` method to help automate this conversion.\n",
      "\n",
      "  exec(code_obj, self.user_global_ns, self.user_ns)\n"
     ]
    }
   ],
   "source": [
    "#HomeWork\n",
    "import pandas as pd\n",
    "import numpy as np\n",
    "\n",
    "myData=np.random.randn(3,4,6)\n",
    "print(myData)\n",
    "\n",
    "panel_Data=pd.Panel(data=myData,items=[\"A\",\"B\",\"C\"],major_axis=[\"R1\",\"R2\",\"R3\",\"R4\"],minor_axis=[\"C1\",\"C2\",\"C3\",\"C4\",\"C5\",\"C6\"])\n",
    "print(panel_Data)\n",
    "print(panel_Data[\"C\"])\n",
    "print(panel_Data.major_xs(\"R2\"))\n",
    "print(panel_Data.minor_xs(\"C1\"))"
   ]
  },
  {
   "cell_type": "code",
   "execution_count": 2,
   "metadata": {},
   "outputs": [
    {
     "name": "stdout",
     "output_type": "stream",
     "text": [
      "    A  B  C\n",
      "C1  4  4  4\n",
      "C2  4  4  4\n",
      "C3  4  4  4\n",
      "C4  4  4  4\n",
      "C5  4  4  4\n",
      "C6  4  4  4\n"
     ]
    }
   ],
   "source": [
    "#Count\n",
    "print(panel_Data.count())"
   ]
  },
  {
   "cell_type": "code",
   "execution_count": 3,
   "metadata": {},
   "outputs": [
    {
     "name": "stdout",
     "output_type": "stream",
     "text": [
      "           A         B         C\n",
      "C1  3.486748  3.690578 -0.335239\n",
      "C2 -1.131658  0.922064  1.852736\n",
      "C3 -0.625920 -1.011745  1.750499\n",
      "C4 -0.762708 -1.694084 -1.309022\n",
      "C5  2.977917  0.120633 -5.376127\n",
      "C6  0.493136  0.982211  2.988777\n"
     ]
    }
   ],
   "source": [
    "#Sum\n",
    "print(panel_Data.sum())"
   ]
  },
  {
   "cell_type": "code",
   "execution_count": 4,
   "metadata": {},
   "outputs": [
    {
     "name": "stdout",
     "output_type": "stream",
     "text": [
      "           A         B         C\n",
      "C1  0.871687  0.922644 -0.083810\n",
      "C2 -0.282914  0.230516  0.463184\n",
      "C3 -0.156480 -0.252936  0.437625\n",
      "C4 -0.190677 -0.423521 -0.327256\n",
      "C5  0.744479  0.030158 -1.344032\n",
      "C6  0.123284  0.245553  0.747194\n"
     ]
    }
   ],
   "source": [
    "#Mean\n",
    "print(panel_Data.mean())"
   ]
  },
  {
   "cell_type": "code",
   "execution_count": 5,
   "metadata": {},
   "outputs": [
    {
     "name": "stdout",
     "output_type": "stream",
     "text": [
      "           A         B         C\n",
      "C1  0.761122  0.518916  0.219447\n",
      "C2 -0.358456  0.276156  0.619729\n",
      "C3 -0.372177 -0.459126  0.628129\n",
      "C4  0.027980 -0.327206  0.039433\n",
      "C5  0.524267  0.234819 -0.915091\n",
      "C6  0.453441  0.138097  0.656240\n"
     ]
    }
   ],
   "source": [
    "#Median\n",
    "print(panel_Data.median())"
   ]
  },
  {
   "cell_type": "code",
   "execution_count": 6,
   "metadata": {},
   "outputs": [
    {
     "name": "stdout",
     "output_type": "stream",
     "text": [
      "         C1        C2        C3        C4        C5        C6\n",
      "0  0.457459 -0.885516 -0.667788 -2.079787  0.030102 -1.348237\n",
      "1  0.529155 -0.549148 -0.554877 -0.057414  0.302839  0.318867\n",
      "2  0.993089 -0.167764 -0.189477  0.113373  0.745695  0.588016\n",
      "3  1.507045  0.470771  0.786223  1.261120  1.899281  0.934490\n",
      "          A         B         C\n",
      "0 -2.079787 -0.311579 -1.831700\n",
      "1 -1.348237  0.172918 -1.006627\n",
      "2 -0.667788  0.415692 -0.666733\n",
      "3 -0.549148  0.461339  0.893598\n",
      "4  0.529155  0.568007  0.979674\n",
      "5  0.745695  1.587156  0.992125\n"
     ]
    }
   ],
   "source": [
    "#mode\n",
    "print(panel_Data[\"A\"].mode())\n",
    "print(panel_Data.major_xs(\"R1\").mode())"
   ]
  },
  {
   "cell_type": "code",
   "execution_count": 7,
   "metadata": {},
   "outputs": [
    {
     "name": "stdout",
     "output_type": "stream",
     "text": [
      "           A         B         C\n",
      "C1  0.485569  1.451286  0.615326\n",
      "C2  0.581753  1.561906  0.620296\n",
      "C3  0.660791  1.538164  0.697941\n",
      "C4  1.388843  0.623642  1.057840\n",
      "C5  0.824409  0.572396  1.182993\n",
      "C6  1.012860  1.066563  0.599502\n",
      "A    1.080175\n",
      "B    0.625922\n",
      "C    1.223712\n",
      "dtype: float64\n"
     ]
    }
   ],
   "source": [
    "#std\n",
    "print(panel_Data.std())\n",
    "print(panel_Data.major_xs(\"R1\").std())"
   ]
  },
  {
   "cell_type": "code",
   "execution_count": 8,
   "metadata": {},
   "outputs": [
    {
     "name": "stdout",
     "output_type": "stream",
     "text": [
      "           A         B         C\n",
      "C1  0.457459 -0.311579 -1.006627\n",
      "C2 -0.885516 -1.704564 -0.378846\n",
      "C3 -0.667788 -1.680649 -0.519448\n",
      "C4 -2.079787 -1.212589 -1.831700\n",
      "C5  0.030102 -0.810344 -3.065081\n",
      "C6 -1.348237 -0.914344  0.191658\n",
      "A   -2.079787\n",
      "B   -0.311579\n",
      "C   -1.831700\n",
      "dtype: float64\n"
     ]
    }
   ],
   "source": [
    "#min\n",
    "print(panel_Data.min())\n",
    "print(panel_Data.major_xs(\"R1\").min())"
   ]
  },
  {
   "cell_type": "code",
   "execution_count": 9,
   "metadata": {},
   "outputs": [
    {
     "name": "stdout",
     "output_type": "stream",
     "text": [
      "           A         B         C\n",
      "C1  1.507045  2.964324  0.232494\n",
      "C2  0.470771  2.074315  0.992125\n",
      "C3  0.786223  1.587156  1.013688\n",
      "C4  1.261120  0.172918  0.443811\n",
      "C5  1.899281  0.461339 -0.480863\n",
      "C6  0.934490  1.620360  1.484638\n",
      "A    0.745695\n",
      "B    1.587156\n",
      "C    0.992125\n",
      "dtype: float64\n"
     ]
    }
   ],
   "source": [
    "#max\n",
    "print(panel_Data.max())\n",
    "print(panel_Data.major_xs(\"R1\").max())"
   ]
  },
  {
   "cell_type": "code",
   "execution_count": null,
   "metadata": {},
   "outputs": [],
   "source": []
  }
 ],
 "metadata": {
  "kernelspec": {
   "display_name": "Python 3",
   "language": "python",
   "name": "python3"
  },
  "language_info": {
   "codemirror_mode": {
    "name": "ipython",
    "version": 3
   },
   "file_extension": ".py",
   "mimetype": "text/x-python",
   "name": "python",
   "nbconvert_exporter": "python",
   "pygments_lexer": "ipython3",
   "version": "3.7.3"
  }
 },
 "nbformat": 4,
 "nbformat_minor": 2
}
