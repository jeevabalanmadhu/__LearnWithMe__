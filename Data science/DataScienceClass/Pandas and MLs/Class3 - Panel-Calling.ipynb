{
 "cells": [
  {
   "cell_type": "markdown",
   "metadata": {},
   "source": [
    "\n",
    "1. Select the data from the panel using\n",
    "  1. items\n",
    "  2. Major_axis\n",
    "  3. Minor_axis\n",
    "   \n",
    " "
   ]
  },
  {
   "cell_type": "code",
   "execution_count": 4,
   "metadata": {},
   "outputs": [
    {
     "name": "stdout",
     "output_type": "stream",
     "text": [
      "[[[ 1.22873629  0.30851502  1.85853769 -1.655059  ]\n",
      "  [ 0.10016562  1.37679601  0.56614398 -1.4580943 ]\n",
      "  [ 0.80342793 -0.54105575 -1.3919495   1.12372948]]\n",
      "\n",
      " [[-1.48608603 -0.3195224  -0.50161891  1.25355059]\n",
      "  [ 1.28016606  2.13248647 -2.24031603  1.68081343]\n",
      "  [ 0.45903777  0.4883715  -0.03110636 -0.28449813]]]\n",
      "<class 'pandas.core.panel.Panel'>\n",
      "Dimensions: 2 (items) x 3 (major_axis) x 4 (minor_axis)\n",
      "Items axis: A to B\n",
      "Major_axis axis: R1 to R3\n",
      "Minor_axis axis: C1 to C4\n",
      "          C1        C2        C3        C4\n",
      "R1  1.228736  0.308515  1.858538 -1.655059\n",
      "R2  0.100166  1.376796  0.566144 -1.458094\n",
      "R3  0.803428 -0.541056 -1.391950  1.123729\n"
     ]
    }
   ],
   "source": [
    "#printing single item\n",
    "import numpy\n",
    "MyData=numpy.random.randn(2,3,4)\n",
    "print(MyData)\n",
    "\n",
    "import pandas\n",
    "panal_Data=pandas.Panel(data=MyData,items=[\"A\",\"B\"],major_axis=[\"R1\",\"R2\",\"R3\"],minor_axis=[\"C1\",\"C2\",\"C3\",\"C4\"])\n",
    "print(panal_Data)\n",
    "print(panal_Data[\"A\"]) #printing single item"
   ]
  },
  {
   "cell_type": "code",
   "execution_count": 5,
   "metadata": {},
   "outputs": [
    {
     "name": "stdout",
     "output_type": "stream",
     "text": [
      "[[[ 0.01076208 -0.01684369  0.79870043 -1.92717828]\n",
      "  [ 0.21465731  1.5912075  -0.35476676  0.05940478]\n",
      "  [-0.16191328  0.72417493  0.86718629 -1.8563862 ]]\n",
      "\n",
      " [[ 0.53862013 -0.40890649  1.20681821  0.54279205]\n",
      "  [-0.93050667 -0.82996596  0.89479227  2.16163188]\n",
      "  [-1.32929741  1.14648166  0.75555409 -1.23539954]]]\n",
      "<class 'pandas.core.panel.Panel'>\n",
      "Dimensions: 2 (items) x 3 (major_axis) x 4 (minor_axis)\n",
      "Items axis: A to B\n",
      "Major_axis axis: R1 to R3\n",
      "Minor_axis axis: C1 to C4\n",
      "           A         B\n",
      "C1  0.010762  0.538620\n",
      "C2 -0.016844 -0.408906\n",
      "C3  0.798700  1.206818\n",
      "C4 -1.927178  0.542792\n"
     ]
    },
    {
     "name": "stderr",
     "output_type": "stream",
     "text": [
      "C:\\Users\\HP1\\Anaconda3\\lib\\site-packages\\IPython\\core\\interactiveshell.py:3296: FutureWarning: \n",
      "Panel is deprecated and will be removed in a future version.\n",
      "The recommended way to represent these types of 3-dimensional data are with a MultiIndex on a DataFrame, via the Panel.to_frame() method\n",
      "Alternatively, you can use the xarray package http://xarray.pydata.org/en/stable/.\n",
      "Pandas provides a `.to_xarray()` method to help automate this conversion.\n",
      "\n",
      "  exec(code_obj, self.user_global_ns, self.user_ns)\n"
     ]
    }
   ],
   "source": [
    "#printing major axis\n",
    "import numpy\n",
    "MyData=numpy.random.randn(2,3,4)\n",
    "print(MyData)\n",
    "\n",
    "import pandas\n",
    "panal_Data=pandas.Panel(data=MyData,items=[\"A\",\"B\"],major_axis=[\"R1\",\"R2\",\"R3\"],minor_axis=[\"C1\",\"C2\",\"C3\",\"C4\"])\n",
    "print(panal_Data)\n",
    "print(panal_Data.major_xs(\"R1\")) #printing major axis"
   ]
  },
  {
   "cell_type": "code",
   "execution_count": 7,
   "metadata": {},
   "outputs": [
    {
     "name": "stdout",
     "output_type": "stream",
     "text": [
      "[[[ 1.34401544e+00 -1.18257452e+00 -1.06823633e+00 -3.91919234e-01]\n",
      "  [-7.54578375e-01  1.22634697e+00  4.98464215e-01 -1.35217806e+00]\n",
      "  [ 1.46015328e+00 -8.66335929e-01 -5.64201901e-02  1.50683219e+00]]\n",
      "\n",
      " [[-1.66490295e+00  2.57503538e-03 -3.07402434e+00 -8.55701113e-01]\n",
      "  [-1.46394778e+00 -1.05055178e+00 -1.33854141e+00 -1.27565934e+00]\n",
      "  [ 3.17107208e-01 -8.40885413e-01  6.34260094e-01  1.93454050e-01]]]\n",
      "<class 'pandas.core.panel.Panel'>\n",
      "Dimensions: 2 (items) x 3 (major_axis) x 4 (minor_axis)\n",
      "Items axis: A to B\n",
      "Major_axis axis: R1 to R3\n",
      "Minor_axis axis: C1 to C4\n",
      "           A         B\n",
      "R1 -1.182575  0.002575\n",
      "R2  1.226347 -1.050552\n",
      "R3 -0.866336 -0.840885\n"
     ]
    }
   ],
   "source": [
    "#printing minor axis\n",
    "import numpy\n",
    "MyData=numpy.random.randn(2,3,4)\n",
    "print(MyData)\n",
    "\n",
    "import pandas\n",
    "panal_Data=pandas.Panel(data=MyData,items=[\"A\",\"B\"],major_axis=[\"R1\",\"R2\",\"R3\"],minor_axis=[\"C1\",\"C2\",\"C3\",\"C4\"])\n",
    "print(panal_Data)\n",
    "print(panal_Data.minor_xs(\"C2\")) #printing minor axis"
   ]
  },
  {
   "cell_type": "code",
   "execution_count": null,
   "metadata": {},
   "outputs": [],
   "source": []
  }
 ],
 "metadata": {
  "kernelspec": {
   "display_name": "Python 3",
   "language": "python",
   "name": "python3"
  },
  "language_info": {
   "codemirror_mode": {
    "name": "ipython",
    "version": 3
   },
   "file_extension": ".py",
   "mimetype": "text/x-python",
   "name": "python",
   "nbconvert_exporter": "python",
   "pygments_lexer": "ipython3",
   "version": "3.7.3"
  }
 },
 "nbformat": 4,
 "nbformat_minor": 2
}
