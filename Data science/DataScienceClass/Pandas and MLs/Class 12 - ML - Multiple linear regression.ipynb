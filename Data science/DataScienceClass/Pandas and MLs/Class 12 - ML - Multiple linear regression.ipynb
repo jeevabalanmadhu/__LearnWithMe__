{
 "cells": [
  {
   "cell_type": "code",
   "execution_count": null,
   "metadata": {},
   "outputs": [],
   "source": [
    "1. Multiple regression is an extension of linear regression into relationship between more than two variable\n",
    "2. In simple linear relation we have one predictor and one response variable, but in multiple regression \n",
    "we have more than one predictor variable and one responce variable.\n",
    "\n",
    "y=a+b1x1+b2x2+....bnxn"
   ]
  },
  {
   "cell_type": "code",
   "execution_count": 9,
   "metadata": {},
   "outputs": [
    {
     "name": "stdout",
     "output_type": "stream",
     "text": [
      "           Name  Age  Salary Department  Experience  Gender\n",
      "0       Sridevi   21   25000  Developer           1       0\n",
      "1       Sathish   23   26000  Developer           2       1\n",
      "2      Dhayalan   25   27000  Developer           3       1\n",
      "3          Teja   27   28000  Developer           4       1\n",
      "4          Rani   29   29000  Developer           5       0\n",
      "5        Sundar   31   30000  Developer           6       1\n",
      "6         Deepa   33   31000  Developer           7       0\n",
      "7   Jeyalakshmi   35   32000  Developer           8       0\n",
      "8        Prince   37   33000  Developer           9       1\n",
      "9       Shanker   40   34000  Developer          10       1\n",
      "10        Kumar   42   40000  Developer          12       1\n",
      "x:     Age  Experience\n",
      "0    21           1\n",
      "1    23           2\n",
      "2    25           3\n",
      "3    27           4\n",
      "4    29           5\n",
      "5    31           6\n",
      "6    33           7\n",
      "7    35           8\n",
      "8    37           9\n",
      "9    40          10\n",
      "10   42          12\n",
      "y:     Salary\n",
      "0    25000\n",
      "1    26000\n",
      "2    27000\n",
      "3    28000\n",
      "4    29000\n",
      "5    30000\n",
      "6    31000\n",
      "7    32000\n",
      "8    33000\n",
      "9    34000\n",
      "10   40000\n"
     ]
    },
    {
     "data": {
      "image/png": "[encoded data removed]",
      "text/plain": [
       "<Figure size 432x288 with 1 Axes>"
      ]
     },
     "metadata": {
      "needs_background": "light"
     },
     "output_type": "display_data"
    },
    {
     "name": "stdout",
     "output_type": "stream",
     "text": [
      "Score or R^2 value:  0.9819252362042997\n",
      "the salary prediction: [[24522.93577982]]\n",
      "Co-efficient a value: [[-1834.86238532  4834.86238532]]\n",
      "Intercept b vlaue: [58220.18348624]\n"
     ]
    }
   ],
   "source": [
    "#Getting data from excel sheet\n",
    "import pandas as pd\n",
    "df=pd.read_excel(r\"D:\\Learning\\Data science\\DATA\\PythonSpreadSheet.xls\",sheet_name=1)\n",
    "print(df)\n",
    "\n",
    "#Training Data\n",
    "x=df.loc[:,[\"Age\",\"Experience\"]]\n",
    "print(\"x:\",x)\n",
    "\n",
    "y=df.loc[:,['Salary']]\n",
    "print(\"y:\",y)\n",
    "\n",
    "#Graphs and charts:\n",
    "import matplotlib.pyplot as plt\n",
    "plt.scatter(df.Age,df.Salary,color=\"steelblue\")\n",
    "plt.scatter(df.Experience,df.Salary,color=\"steelblue\")\n",
    "plt.title(\"Line Plot-Age vs Salary\",color=\"Green\",fontsize=20)\n",
    "plt.xlabel(\"Age\",color=\"Red\",fontsize=12)\n",
    "plt.ylabel(\"Salary\",color=\"Red\",fontsize=12)\n",
    "plt.grid(True)\n",
    "plt.legend([\"Age vs Salary\",\"Experience vs Salary\"])\n",
    "plt.show()\n",
    "\n",
    "#Data Analytics or prediction using machin learning;\n",
    "#sklearn = sceince kit learn\n",
    "\n",
    "from sklearn.linear_model import LinearRegression\n",
    "\n",
    "model=LinearRegression()\n",
    "\n",
    "model.fit(x,y)\n",
    "\n",
    "Goodness_Score=model.score(x,y)\n",
    "print(\"Score or R^2 value: \",Goodness_Score)\n",
    "\n",
    "#Age=int(input(\"Enter predictor age:\"))\n",
    "\n",
    "Salary_Prediction=model.predict([[21,1]])\n",
    "\n",
    "print(\"the salary prediction:\",Salary_Prediction)\n",
    "\n",
    "\n",
    "#Co-efficient\n",
    "Co_efficient=model.coef_\n",
    "print(\"Co-efficient a value:\",Co_efficient)\n",
    "\n",
    "#Intercept\n",
    "Intercept=model.intercept_\n",
    "print(\"Intercept b vlaue:\",Intercept)\n"
   ]
  },
  {
   "cell_type": "code",
   "execution_count": 8,
   "metadata": {},
   "outputs": [
    {
     "name": "stdout",
     "output_type": "stream",
     "text": [
      "25000.000000000004\n"
     ]
    }
   ],
   "source": [
    "#y=a+b1x1+b2x2\n",
    "#Salary=Intercept+Age_Coef*Age+Exp_Coef*Experience\n",
    "Salary=24000+2.43455558e-13*21+1.00000000e+03*1\n",
    "print(Salary)"
   ]
  },
  {
   "cell_type": "code",
   "execution_count": null,
   "metadata": {},
   "outputs": [],
   "source": []
  }
 ],
 "metadata": {
  "kernelspec": {
   "display_name": "Python 3",
   "language": "python",
   "name": "python3"
  },
  "language_info": {
   "codemirror_mode": {
    "name": "ipython",
    "version": 3
   },
   "file_extension": ".py",
   "mimetype": "text/x-python",
   "name": "python",
   "nbconvert_exporter": "python",
   "pygments_lexer": "ipython3",
   "version": "3.7.3"
  }
 },
 "nbformat": 4,
 "nbformat_minor": 2
}
