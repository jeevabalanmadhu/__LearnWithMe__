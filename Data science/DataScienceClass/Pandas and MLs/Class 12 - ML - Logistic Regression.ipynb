{
 "cells": [
  {
   "cell_type": "code",
   "execution_count": null,
   "metadata": {},
   "outputs": [],
   "source": [
    "1. Dont get confused by its name!, its a classification not a regression algarithm\n",
    "2. It is used to estimate discrete values (Binary values like 0/1, yes/no, true/false) \n",
    "based on given set of independed variable(s)\n",
    "3. In simple words, it predicts the probability of occurence of an event by fitting data to alogit function\n",
    "4. Hence, it is also known as logit regression\n",
    "5. Since it predicts the probability its output values lies between 0 and 1 (as expected)\n",
    "\n",
    "coming to the math, the log odds of the outcome is modeled as linear combination of the predictor of the predictor variable.\n",
    "odds=p/(1-p) = probability of event occurrence/probability of not event occurrence\n",
    "\n",
    "ln(odds)=ln(p/(1-p))\n",
    "\n",
    "log(p)=ln(p/1-p)=b0+b1x1+b2x2+b3x3+.....+bkxk"
   ]
  },
  {
   "cell_type": "code",
   "execution_count": 5,
   "metadata": {},
   "outputs": [
    {
     "name": "stdout",
     "output_type": "stream",
     "text": [
      "    Sugar_Min  Sugar_Max  Value\n",
      "0          79        101      1\n",
      "1          80         99      0\n",
      "2          78         98      1\n",
      "3          82         90      0\n",
      "4          75        120      1\n",
      "5          85         95      0\n",
      "6          71        100      1\n",
      "7          70         99      1\n",
      "8          84         98      0\n",
      "9          70         94      1\n",
      "10         80        100      0\n",
      "11         81         97      0\n",
      "x:     Sugar_Min  Sugar_Max\n",
      "0          79        101\n",
      "1          80         99\n",
      "2          78         98\n",
      "3          82         90\n",
      "4          75        120\n",
      "5          85         95\n",
      "6          71        100\n",
      "7          70         99\n",
      "8          84         98\n",
      "9          70         94\n",
      "10         80        100\n",
      "11         81         97\n",
      "y:     Value\n",
      "0       1\n",
      "1       0\n",
      "2       1\n",
      "3       0\n",
      "4       1\n",
      "5       0\n",
      "6       1\n",
      "7       1\n",
      "8       0\n",
      "9       1\n",
      "10      0\n",
      "11      0\n"
     ]
    },
    {
     "data": {
      "image/png": "[encoded data removed]",
      "text/plain": [
       "<Figure size 432x288 with 1 Axes>"
      ]
     },
     "metadata": {
      "needs_background": "light"
     },
     "output_type": "display_data"
    },
    {
     "name": "stdout",
     "output_type": "stream",
     "text": [
      "Score or R^2 value:  1.0\n",
      "the salary prediction: [1 0]\n",
      "Co-efficient a value: [[-0.77264589  0.61490814]]\n",
      "Intercept b vlaue: [0.01038078]\n"
     ]
    },
    {
     "name": "stderr",
     "output_type": "stream",
     "text": [
      "C:\\Users\\HP1\\Anaconda3\\lib\\site-packages\\sklearn\\linear_model\\logistic.py:433: FutureWarning: Default solver will be changed to 'lbfgs' in 0.22. Specify a solver to silence this warning.\n",
      "  FutureWarning)\n",
      "C:\\Users\\HP1\\Anaconda3\\lib\\site-packages\\sklearn\\utils\\validation.py:761: DataConversionWarning: A column-vector y was passed when a 1d array was expected. Please change the shape of y to (n_samples, ), for example using ravel().\n",
      "  y = column_or_1d(y, warn=True)\n"
     ]
    }
   ],
   "source": [
    "#Getting data from excel sheet\n",
    "import pandas as pd\n",
    "df=pd.read_excel(r\"D:\\Learning\\Data science\\DATA\\LogisticRegression.xlsx\",sheet_name=1)\n",
    "print(df)\n",
    "\n",
    "#Training Data\n",
    "x=df.loc[:,[\"Sugar_Min\",\"Sugar_Max\"]]\n",
    "print(\"x:\",x)\n",
    "\n",
    "y=df.loc[:,['Value']]\n",
    "print(\"y:\",y)\n",
    "\n",
    "#Graphs and charts:\n",
    "import matplotlib.pyplot as plt\n",
    "plt.scatter(df.Sugar_Min,df.Value,color=\"steelblue\")\n",
    "plt.scatter(df.Sugar_Max,df.Value,color=\"Red\")\n",
    "plt.title(\"Line Plot- Sugar min & max vs Value\",color=\"Green\",fontsize=20)\n",
    "plt.xlabel(\"Sugar min & max\",color=\"Red\",fontsize=12)\n",
    "plt.ylabel(\"Value\",color=\"Red\",fontsize=12)\n",
    "plt.grid(True)\n",
    "plt.legend([\"Sugar_Min vs Value\",\"Sugar_Max vs Value\"])\n",
    "plt.show()\n",
    "\n",
    "#Data Analytics or prediction using machin learning;\n",
    "#sklearn = sceince kit learn\n",
    "\n",
    "from sklearn.linear_model import LogisticRegression\n",
    "\n",
    "model=LogisticRegression()\n",
    "\n",
    "model.fit(x,y)\n",
    "\n",
    "Goodness_Score=model.score(x,y)\n",
    "print(\"Score or R^2 value: \",Goodness_Score)\n",
    "\n",
    "#Age=int(input(\"Enter predictor age:\"))\n",
    "\n",
    "Salary_Prediction=model.predict([[71,95],[80,90]])\n",
    "\n",
    "print(\"the salary prediction:\",Salary_Prediction)\n",
    "\n",
    "\n",
    "#Co-efficient\n",
    "Co_efficient=model.coef_\n",
    "print(\"Co-efficient a value:\",Co_efficient)\n",
    "\n",
    "#Intercept\n",
    "Intercept=model.intercept_\n",
    "print(\"Intercept b vlaue:\",Intercept)\n"
   ]
  },
  {
   "cell_type": "code",
   "execution_count": 6,
   "metadata": {},
   "outputs": [
    {
     "name": "stdout",
     "output_type": "stream",
     "text": [
      "3.568795890000011\n"
     ]
    }
   ],
   "source": [
    "p=0.01038078+(-0.77264589)*71+0.61490814*95\n",
    "\n",
    "print(p)"
   ]
  },
  {
   "cell_type": "code",
   "execution_count": null,
   "metadata": {},
   "outputs": [],
   "source": []
  }
 ],
 "metadata": {
  "kernelspec": {
   "display_name": "Python 3",
   "language": "python",
   "name": "python3"
  },
  "language_info": {
   "codemirror_mode": {
    "name": "ipython",
    "version": 3
   },
   "file_extension": ".py",
   "mimetype": "text/x-python",
   "name": "python",
   "nbconvert_exporter": "python",
   "pygments_lexer": "ipython3",
   "version": "3.7.3"
  }
 },
 "nbformat": 4,
 "nbformat_minor": 2
}
