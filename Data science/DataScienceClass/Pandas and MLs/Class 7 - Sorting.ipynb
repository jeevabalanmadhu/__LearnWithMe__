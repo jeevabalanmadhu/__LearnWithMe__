{
 "cells": [
  {
   "cell_type": "markdown",
   "metadata": {},
   "source": [
    "Sorting\n",
    "==========="
   ]
  },
  {
   "cell_type": "code",
   "execution_count": null,
   "metadata": {},
   "outputs": [],
   "source": [
    "There are two kinds of sorting available in pandas\n",
    "1. By Label\n",
    "2. By Actual value\n",
    "\n",
    "By Label:\n",
    ".sort_index(axis=\"0 or 1\", ascending=True or False) # by default ascending is true\n",
    "\n",
    "By value:\n",
    ".sort_values(by=\"column name\",axis=\"0 or 1\", ascending=True or False) # by default ascending is true"
   ]
  },
  {
   "cell_type": "code",
   "execution_count": 1,
   "metadata": {},
   "outputs": [
    {
     "name": "stdout",
     "output_type": "stream",
     "text": [
      "          Name  Age  Salary Department  Experience  Gender\n",
      "0      Sridevi   21   25000  Developer           1       0\n",
      "1      Sathish   23   26000  Developer           2       1\n",
      "2     Dhayalan   25   27000  Developer           3       1\n",
      "3         Teja   27   28000  Developer           4       1\n",
      "4         Rani   29   29000  Developer           5       0\n",
      "5       Sundar   31   30000  Developer           6       1\n",
      "6        Deepa   33   31000  Developer           7       0\n",
      "7  Jeyalakshmi   35   32000  Developer           8       0\n",
      "8       Prince   37   33000  Developer           9       1\n",
      "9      Shanker   40   34000  Developer          10       1\n",
      "\n",
      " Pandas-renaming\n",
      "           Name  Age  Salary Department  Experience  Gender\n",
      "0       Sridevi   21   25000  Developer           1       0\n",
      "1       Sathish   23   26000  Developer           2       1\n",
      "2      Dhayalan   25   27000  Developer           3       1\n",
      "11         Teja   27   28000  Developer           4       1\n",
      "4          Rani   29   29000  Developer           5       0\n",
      "5        Sundar   31   30000  Developer           6       1\n",
      "6         Deepa   33   31000  Developer           7       0\n",
      "7   Jeyalakshmi   35   32000  Developer           8       0\n",
      "8        Prince   37   33000  Developer           9       1\n",
      "9       Shanker   40   34000  Developer          10       1\n",
      "\n",
      " Pandas-Sorting-Ascending\n",
      "           Name  Age  Salary Department  Experience  Gender\n",
      "0       Sridevi   21   25000  Developer           1       0\n",
      "1       Sathish   23   26000  Developer           2       1\n",
      "2      Dhayalan   25   27000  Developer           3       1\n",
      "4          Rani   29   29000  Developer           5       0\n",
      "5        Sundar   31   30000  Developer           6       1\n",
      "6         Deepa   33   31000  Developer           7       0\n",
      "7   Jeyalakshmi   35   32000  Developer           8       0\n",
      "8        Prince   37   33000  Developer           9       1\n",
      "9       Shanker   40   34000  Developer          10       1\n",
      "11         Teja   27   28000  Developer           4       1\n",
      "\n",
      " Pandas-Sorting-Descending\n",
      "           Name  Age  Salary Department  Experience  Gender\n",
      "11         Teja   27   28000  Developer           4       1\n",
      "9       Shanker   40   34000  Developer          10       1\n",
      "8        Prince   37   33000  Developer           9       1\n",
      "7   Jeyalakshmi   35   32000  Developer           8       0\n",
      "6         Deepa   33   31000  Developer           7       0\n",
      "5        Sundar   31   30000  Developer           6       1\n",
      "4          Rani   29   29000  Developer           5       0\n",
      "2      Dhayalan   25   27000  Developer           3       1\n",
      "1       Sathish   23   26000  Developer           2       1\n",
      "0       Sridevi   21   25000  Developer           1       0\n"
     ]
    }
   ],
   "source": [
    "import pandas as pd\n",
    "df=pd.read_excel(\"D:\\Learning\\Data science\\DATA\\PythonSpreadSheet.xls\",sheet_name=1)\n",
    "print(df)\n",
    "\n",
    "print(\"\\n Pandas-renaming\")\n",
    "\n",
    "x=df.rename(index={3:11})\n",
    "print(x)\n",
    "print(\"\\n Pandas-Sorting-Ascending\")\n",
    "\n",
    "sorted_df=x.sort_index() #Ascending in default is true\n",
    "print(sorted_df)\n",
    "\n",
    "print(\"\\n Pandas-Sorting-Descending\")\n",
    "\n",
    "sorted_df=x.sort_index(axis=0,ascending=False) \n",
    "print(sorted_df)\n"
   ]
  },
  {
   "cell_type": "code",
   "execution_count": 12,
   "metadata": {},
   "outputs": [
    {
     "name": "stdout",
     "output_type": "stream",
     "text": [
      "\n",
      "Sorting columns ascending\n",
      "    Age Department  Experience  Gender         Name  Salary\n",
      "0    21  Developer           1       0      Sridevi   25000\n",
      "1    23  Developer           2       1      Sathish   26000\n",
      "2    25  Developer           3       1     Dhayalan   27000\n",
      "11   27  Developer           4       1         Teja   28000\n",
      "4    29  Developer           5       0         Rani   29000\n",
      "5    31  Developer           6       1       Sundar   30000\n",
      "6    33  Developer           7       0        Deepa   31000\n",
      "7    35  Developer           8       0  Jeyalakshmi   32000\n",
      "8    37  Developer           9       1       Prince   33000\n",
      "9    40  Developer          10       1      Shanker   34000\n",
      "\n",
      "Sorting columns decending\n",
      "    Salary         Name  Gender  Experience Department  Age\n",
      "0    25000      Sridevi       0           1  Developer   21\n",
      "1    26000      Sathish       1           2  Developer   23\n",
      "2    27000     Dhayalan       1           3  Developer   25\n",
      "11   28000         Teja       1           4  Developer   27\n",
      "4    29000         Rani       0           5  Developer   29\n",
      "5    30000       Sundar       1           6  Developer   31\n",
      "6    31000        Deepa       0           7  Developer   33\n",
      "7    32000  Jeyalakshmi       0           8  Developer   35\n",
      "8    33000       Prince       1           9  Developer   37\n",
      "9    34000      Shanker       1          10  Developer   40\n"
     ]
    }
   ],
   "source": [
    "print(\"\\nSorting columns ascending\")\n",
    "sorted_df=x.sort_index(axis=1,ascending=True) \n",
    "print(sorted_df)\n",
    "\n",
    "print(\"\\nSorting columns decending\")\n",
    "sorted_df=x.sort_index(axis=1,ascending=False) \n",
    "print(sorted_df)"
   ]
  },
  {
   "cell_type": "code",
   "execution_count": null,
   "metadata": {},
   "outputs": [],
   "source": [
    "By Value:\n",
    "    * Like index sorting, sort_value() is the method for sorting by values.\n",
    "    * It accepts a 'by' arguement which will use the column name of the Dataframe with which the vlaues are to be sorted."
   ]
  },
  {
   "cell_type": "code",
   "execution_count": 2,
   "metadata": {},
   "outputs": [
    {
     "name": "stdout",
     "output_type": "stream",
     "text": [
      "\n",
      "Sorting values ascending\n",
      "           Name  Age  Salary Department  Experience  Gender\n",
      "6         Deepa   33   31000  Developer           7       0\n",
      "2      Dhayalan   25   27000  Developer           3       1\n",
      "7   Jeyalakshmi   35   32000  Developer           8       0\n",
      "8        Prince   37   33000  Developer           9       1\n",
      "4          Rani   29   29000  Developer           5       0\n",
      "1       Sathish   23   26000  Developer           2       1\n",
      "9       Shanker   40   34000  Developer          10       1\n",
      "0       Sridevi   21   25000  Developer           1       0\n",
      "5        Sundar   31   30000  Developer           6       1\n",
      "11         Teja   27   28000  Developer           4       1\n",
      "\n",
      "Sorting values decending\n",
      "           Name  Age  Salary Department  Experience  Gender\n",
      "11         Teja   27   28000  Developer           4       1\n",
      "5        Sundar   31   30000  Developer           6       1\n",
      "0       Sridevi   21   25000  Developer           1       0\n",
      "9       Shanker   40   34000  Developer          10       1\n",
      "1       Sathish   23   26000  Developer           2       1\n",
      "4          Rani   29   29000  Developer           5       0\n",
      "8        Prince   37   33000  Developer           9       1\n",
      "7   Jeyalakshmi   35   32000  Developer           8       0\n",
      "2      Dhayalan   25   27000  Developer           3       1\n",
      "6         Deepa   33   31000  Developer           7       0\n",
      "\n",
      "Sorting values decending\n",
      "           Name  Age  Salary Department  Experience  Gender\n",
      "9       Shanker   40   34000  Developer          10       1\n",
      "8        Prince   37   33000  Developer           9       1\n",
      "7   Jeyalakshmi   35   32000  Developer           8       0\n",
      "6         Deepa   33   31000  Developer           7       0\n",
      "5        Sundar   31   30000  Developer           6       1\n",
      "4          Rani   29   29000  Developer           5       0\n",
      "11         Teja   27   28000  Developer           4       1\n",
      "2      Dhayalan   25   27000  Developer           3       1\n",
      "1       Sathish   23   26000  Developer           2       1\n",
      "0       Sridevi   21   25000  Developer           1       0\n"
     ]
    }
   ],
   "source": [
    "print(\"\\nSorting values ascending\")\n",
    "sorted_df=x.sort_values(by=\"Name\",axis=0,ascending=True) \n",
    "print(sorted_df)\n",
    "\n",
    "print(\"\\nSorting values decending\")\n",
    "sorted_df=x.sort_values(by=\"Name\",axis=0,ascending=False) \n",
    "print(sorted_df)\n",
    "\n",
    "print(\"\\nSorting values decending\")\n",
    "sorted_df=x.sort_values(by=\"Salary\",axis=0,ascending=False) \n",
    "print(sorted_df)"
   ]
  },
  {
   "cell_type": "code",
   "execution_count": null,
   "metadata": {},
   "outputs": [],
   "source": []
  }
 ],
 "metadata": {
  "kernelspec": {
   "display_name": "Python 3",
   "language": "python",
   "name": "python3"
  },
  "language_info": {
   "codemirror_mode": {
    "name": "ipython",
    "version": 3
   },
   "file_extension": ".py",
   "mimetype": "text/x-python",
   "name": "python",
   "nbconvert_exporter": "python",
   "pygments_lexer": "ipython3",
   "version": "3.7.3"
  }
 },
 "nbformat": 4,
 "nbformat_minor": 2
}
