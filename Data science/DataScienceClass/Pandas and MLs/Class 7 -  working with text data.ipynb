{
 "cells": [
  {
   "cell_type": "markdown",
   "metadata": {},
   "source": [
    "Working with text data\n",
    "=================="
   ]
  },
  {
   "cell_type": "markdown",
   "metadata": {},
   "source": [
    "1. lower() - converts strings to lower case\n",
    "2. upper() - converts strings to upper case\n",
    "3. len() - returns the length of the string\n",
    "4. split(#charactor or string delimeter) - returns the list after splitting the string\n",
    "5. cat(#charactor or string delimeter) - returns a single string of list by cancatenation using delimeter argument\n",
    "6. get_dummies() - retruns encoded 0,1 values to all strings in the list\n",
    "7. contains(#charactor or string) - returns boolean whether it matches\n",
    "8. startswith(#charactor or string) - returns boolean whether it matches\n",
    "9. endswith(#charactor or string) - returns boolean whether it matches\n",
    "10. find(#charactor or string) - returns position of the first finding\n",
    "11. findall(#charactor or string) - returns list of all findings\n",
    "12. swapecase() - converts to opposite case\n",
    "13. islower() - return boolean whether if all charactor in string is lower\n",
    "14. isupper() - return boolean whether if all charactor in string is upper"
   ]
  },
  {
   "cell_type": "code",
   "execution_count": 1,
   "metadata": {},
   "outputs": [
    {
     "name": "stdout",
     "output_type": "stream",
     "text": [
      "           Col1  Col2\n",
      "0          Tom      1\n",
      "1  William Rick     2\n",
      "2          John    33\n",
      "3       Alber@t     4\n",
      "4           NaN     5\n",
      "5          1234     6\n",
      "6    SteveSmith     7\n",
      "7          RAJA     8\n",
      "8          rani     9\n",
      "9          rani    10\n",
      "\n",
      " lower\n",
      "0            tom \n",
      "1    william rick\n",
      "2            john\n",
      "3         alber@t\n",
      "4             NaN\n",
      "5            1234\n",
      "6      stevesmith\n",
      "7            raja\n",
      "8            rani\n",
      "9            rani\n",
      "Name: Col1, dtype: object\n"
     ]
    }
   ],
   "source": [
    "\n",
    "import pandas as pd\n",
    "df=pd.read_excel(\"D:\\Learning\\Data science\\DATA\\WorkingWithText.xlsx\",sheet_name=0)\n",
    "print(df)\n",
    "\n",
    "print(\"\\n lower\")\n",
    "print(df[\"Col1\"].str.lower()) #Lower - converts string in the series/index to lower\n"
   ]
  },
  {
   "cell_type": "code",
   "execution_count": 5,
   "metadata": {},
   "outputs": [
    {
     "name": "stdout",
     "output_type": "stream",
     "text": [
      "\n",
      " upper\n",
      "0            TOM \n",
      "1    WILLIAM RICK\n",
      "2            JOHN\n",
      "3         ALBER@T\n",
      "4             NaN\n",
      "5            1234\n",
      "6      STEVESMITH\n",
      "7            RAJA\n",
      "8            RANI\n",
      "9            RANI\n",
      "Name: Col1, dtype: object\n"
     ]
    }
   ],
   "source": [
    "print(\"\\n upper\")\n",
    "print(df[\"Col1\"].str.upper()) #upper - converts string in the series/index to upper"
   ]
  },
  {
   "cell_type": "code",
   "execution_count": 6,
   "metadata": {},
   "outputs": [
    {
     "name": "stdout",
     "output_type": "stream",
     "text": [
      "\n",
      " Length\n",
      "0     4.0\n",
      "1    12.0\n",
      "2     4.0\n",
      "3     7.0\n",
      "4     NaN\n",
      "5     4.0\n",
      "6    10.0\n",
      "7     4.0\n",
      "8     4.0\n",
      "9     4.0\n",
      "Name: Col1, dtype: float64\n"
     ]
    }
   ],
   "source": [
    "print(\"\\n Length\")\n",
    "print(df[\"Col1\"].str.len()) #string length"
   ]
  },
  {
   "cell_type": "code",
   "execution_count": 8,
   "metadata": {},
   "outputs": [
    {
     "name": "stdout",
     "output_type": "stream",
     "text": [
      "\n",
      " Strip\n",
      "0     4.0\n",
      "1    12.0\n",
      "2     4.0\n",
      "3     7.0\n",
      "4     NaN\n",
      "5     4.0\n",
      "6    10.0\n",
      "7     4.0\n",
      "8     4.0\n",
      "9     4.0\n",
      "Name: Col1, dtype: float64 \n",
      " after stripping\n",
      "0     3.0\n",
      "1    12.0\n",
      "2     4.0\n",
      "3     7.0\n",
      "4     NaN\n",
      "5     4.0\n",
      "6    10.0\n",
      "7     4.0\n",
      "8     4.0\n",
      "9     4.0\n",
      "Name: Col1, dtype: float64\n"
     ]
    }
   ],
   "source": [
    "print(\"\\n Strip\")\n",
    "\n",
    "x=df[\"Col1\"].str.len()\n",
    "print(x,\"\\n after stripping\") #strip string or trim string\n",
    "\n",
    "y=df[\"Col1\"].str.strip()\n",
    "print(y.str.len())"
   ]
  },
  {
   "cell_type": "code",
   "execution_count": 11,
   "metadata": {},
   "outputs": [
    {
     "name": "stdout",
     "output_type": "stream",
     "text": [
      "split a string into list with charector/string delimeter\n",
      "0            [Tom, ]\n",
      "1    [William, Rick]\n",
      "2             [John]\n",
      "3          [Alber@t]\n",
      "4                NaN\n",
      "5             [1234]\n",
      "6       [SteveSmith]\n",
      "7             [RAJA]\n",
      "8             [rani]\n",
      "9             [rani]\n",
      "Name: Col1, dtype: object\n",
      "0            [Tom ]\n",
      "1    [Will, m Rick]\n",
      "2            [John]\n",
      "3         [Alber@t]\n",
      "4               NaN\n",
      "5            [1234]\n",
      "6      [SteveSmith]\n",
      "7            [RAJA]\n",
      "8            [rani]\n",
      "9            [rani]\n",
      "Name: Col1, dtype: object\n"
     ]
    }
   ],
   "source": [
    "print(\"split a string into list with charector/string delimeter\")\n",
    "print(df[\"Col1\"].str.split(\" \"))\n",
    "print(df[\"Col1\"].str.split(\"ia\"))"
   ]
  },
  {
   "cell_type": "code",
   "execution_count": 14,
   "metadata": {},
   "outputs": [
    {
     "name": "stdout",
     "output_type": "stream",
     "text": [
      "cancatination\n",
      "Tom  William Rick John Alber@t 1234 SteveSmith RAJA rani rani\n",
      "Tom -William Rick-John-Alber@t-1234-SteveSmith-RAJA-rani-rani\n"
     ]
    }
   ],
   "source": [
    "print(\"cancatenation\")\n",
    "print(df[\"Col1\"].str.cat(sep=\" \"))\n",
    "print(df[\"Col1\"].str.cat(sep=\"-\"))\n"
   ]
  },
  {
   "cell_type": "code",
   "execution_count": 16,
   "metadata": {},
   "outputs": [
    {
     "name": "stdout",
     "output_type": "stream",
     "text": [
      "   1234  Alber@t  John  RAJA  SteveSmith  Tom   William Rick  rani\n",
      "0     0        0     0     0           0     1             0     0\n",
      "1     0        0     0     0           0     0             1     0\n",
      "2     0        0     1     0           0     0             0     0\n",
      "3     0        1     0     0           0     0             0     0\n",
      "4     0        0     0     0           0     0             0     0\n",
      "5     1        0     0     0           0     0             0     0\n",
      "6     0        0     0     0           1     0             0     0\n",
      "7     0        0     0     1           0     0             0     0\n",
      "8     0        0     0     0           0     0             0     1\n",
      "9     0        0     0     0           0     0             0     1\n"
     ]
    }
   ],
   "source": [
    "#get_dummies() - Returns the dataframe with one-hot encoded values.\n",
    "\n",
    "print(df[\"Col1\"].str.get_dummies())"
   ]
  },
  {
   "cell_type": "code",
   "execution_count": 21,
   "metadata": {},
   "outputs": [
    {
     "name": "stdout",
     "output_type": "stream",
     "text": [
      "0    False\n",
      "1     True\n",
      "2    False\n",
      "3    False\n",
      "4      NaN\n",
      "5    False\n",
      "6    False\n",
      "7    False\n",
      "8     True\n",
      "9     True\n",
      "Name: Col1, dtype: object\n"
     ]
    }
   ],
   "source": [
    "#contains \n",
    "\n",
    "print(df[\"Col1\"].str.contains(\"a\"))"
   ]
  },
  {
   "cell_type": "code",
   "execution_count": 23,
   "metadata": {},
   "outputs": [
    {
     "name": "stdout",
     "output_type": "stream",
     "text": [
      "0            Tom \n",
      "1    William Rick\n",
      "2            John\n",
      "3         Alber@t\n",
      "4             NaN\n",
      "5            1234\n",
      "6      SteveSmith\n",
      "7            RAJA\n",
      "8            raja\n",
      "9            raja\n",
      "Name: Col1, dtype: object\n"
     ]
    }
   ],
   "source": [
    "#Replace \n",
    "\n",
    "print(df[\"Col1\"].str.replace(\"ni\",\"ja\"))"
   ]
  },
  {
   "cell_type": "code",
   "execution_count": 24,
   "metadata": {},
   "outputs": [
    {
     "name": "stdout",
     "output_type": "stream",
     "text": [
      "0                    Tom Tom \n",
      "1    William RickWilliam Rick\n",
      "2                    JohnJohn\n",
      "3              Alber@tAlber@t\n",
      "4                         NaN\n",
      "5                    12341234\n",
      "6        SteveSmithSteveSmith\n",
      "7                    RAJARAJA\n",
      "8                    ranirani\n",
      "9                    ranirani\n",
      "Name: Col1, dtype: object\n"
     ]
    }
   ],
   "source": [
    "#repeat\n",
    "\n",
    "print(df[\"Col1\"].str.repeat(2))"
   ]
  },
  {
   "cell_type": "code",
   "execution_count": 26,
   "metadata": {},
   "outputs": [
    {
     "name": "stdout",
     "output_type": "stream",
     "text": [
      "0            Tom \n",
      "1    William Rick\n",
      "2            John\n",
      "3         Alber@t\n",
      "4             NaN\n",
      "5            1234\n",
      "6      SteveSmith\n",
      "7            RAJA\n",
      "8            rani\n",
      "9            rani\n",
      "Name: Col1, dtype: object\n",
      "0    0.0\n",
      "1    3.0\n",
      "2    0.0\n",
      "3    0.0\n",
      "4    NaN\n",
      "5    0.0\n",
      "6    1.0\n",
      "7    0.0\n",
      "8    1.0\n",
      "9    1.0\n",
      "Name: Col1, dtype: float64\n"
     ]
    }
   ],
   "source": [
    "#count\n",
    "print(df[\"Col1\"])\n",
    "\n",
    "print(df[\"Col1\"].str.count(\"i\"))"
   ]
  },
  {
   "cell_type": "code",
   "execution_count": 29,
   "metadata": {},
   "outputs": [
    {
     "name": "stdout",
     "output_type": "stream",
     "text": [
      "0            Tom \n",
      "1    William Rick\n",
      "2            John\n",
      "3         Alber@t\n",
      "4             NaN\n",
      "5            1234\n",
      "6      SteveSmith\n",
      "7            RAJA\n",
      "8            rani\n",
      "9            rani\n",
      "Name: Col1, dtype: object\n",
      "0    False\n",
      "1    False\n",
      "2    False\n",
      "3    False\n",
      "4      NaN\n",
      "5    False\n",
      "6    False\n",
      "7    False\n",
      "8    False\n",
      "9    False\n",
      "Name: Col1, dtype: object\n"
     ]
    }
   ],
   "source": [
    "#endswith\n",
    "print(df[\"Col1\"])\n",
    "\n",
    "print(df[\"Col1\"].str.endswith(\"r\"))"
   ]
  },
  {
   "cell_type": "code",
   "execution_count": 28,
   "metadata": {},
   "outputs": [
    {
     "name": "stdout",
     "output_type": "stream",
     "text": [
      "0            Tom \n",
      "1    William Rick\n",
      "2            John\n",
      "3         Alber@t\n",
      "4             NaN\n",
      "5            1234\n",
      "6      SteveSmith\n",
      "7            RAJA\n",
      "8            rani\n",
      "9            rani\n",
      "Name: Col1, dtype: object\n",
      "0    False\n",
      "1     True\n",
      "2    False\n",
      "3    False\n",
      "4      NaN\n",
      "5    False\n",
      "6    False\n",
      "7    False\n",
      "8    False\n",
      "9    False\n",
      "Name: Col1, dtype: object\n"
     ]
    }
   ],
   "source": [
    "#startswith\n",
    "print(df[\"Col1\"])\n",
    "\n",
    "print(df[\"Col1\"].str.endswith(\"k\"))"
   ]
  },
  {
   "cell_type": "code",
   "execution_count": 30,
   "metadata": {},
   "outputs": [
    {
     "name": "stdout",
     "output_type": "stream",
     "text": [
      "0            Tom \n",
      "1    William Rick\n",
      "2            John\n",
      "3         Alber@t\n",
      "4             NaN\n",
      "5            1234\n",
      "6      SteveSmith\n",
      "7            RAJA\n",
      "8            rani\n",
      "9            rani\n",
      "Name: Col1, dtype: object\n",
      "0   -1.0\n",
      "1    1.0\n",
      "2   -1.0\n",
      "3   -1.0\n",
      "4    NaN\n",
      "5   -1.0\n",
      "6    7.0\n",
      "7   -1.0\n",
      "8    3.0\n",
      "9    3.0\n",
      "Name: Col1, dtype: float64\n"
     ]
    }
   ],
   "source": [
    "#Find - first occurance position, if not available = -1\n",
    "\n",
    "print(df[\"Col1\"])\n",
    "\n",
    "print(df[\"Col1\"].str.find(\"i\"))"
   ]
  },
  {
   "cell_type": "code",
   "execution_count": 31,
   "metadata": {},
   "outputs": [
    {
     "name": "stdout",
     "output_type": "stream",
     "text": [
      "0            Tom \n",
      "1    William Rick\n",
      "2            John\n",
      "3         Alber@t\n",
      "4             NaN\n",
      "5            1234\n",
      "6      SteveSmith\n",
      "7            RAJA\n",
      "8            rani\n",
      "9            rani\n",
      "Name: Col1, dtype: object\n",
      "0           []\n",
      "1    [i, i, i]\n",
      "2           []\n",
      "3           []\n",
      "4          NaN\n",
      "5           []\n",
      "6          [i]\n",
      "7           []\n",
      "8          [i]\n",
      "9          [i]\n",
      "Name: Col1, dtype: object\n"
     ]
    }
   ],
   "source": [
    "#Findall - first occurance position\n",
    "\n",
    "print(df[\"Col1\"])\n",
    "\n",
    "print(df[\"Col1\"].str.findall(\"i\"))"
   ]
  },
  {
   "cell_type": "code",
   "execution_count": 33,
   "metadata": {},
   "outputs": [
    {
     "name": "stdout",
     "output_type": "stream",
     "text": [
      "0            Tom \n",
      "1    William Rick\n",
      "2            John\n",
      "3         Alber@t\n",
      "4             NaN\n",
      "5            1234\n",
      "6      SteveSmith\n",
      "7            RAJA\n",
      "8            rani\n",
      "9            rani\n",
      "Name: Col1, dtype: object\n",
      "0            tOM \n",
      "1    wILLIAM rICK\n",
      "2            jOHN\n",
      "3         aLBER@T\n",
      "4             NaN\n",
      "5            1234\n",
      "6      sTEVEsMITH\n",
      "7            raja\n",
      "8            RANI\n",
      "9            RANI\n",
      "Name: Col1, dtype: object\n"
     ]
    }
   ],
   "source": [
    "#Swapcase - convert upper case to lower case\n",
    "\n",
    "print(df[\"Col1\"])\n",
    "\n",
    "print(df[\"Col1\"].str.swapcase())"
   ]
  },
  {
   "cell_type": "code",
   "execution_count": 34,
   "metadata": {},
   "outputs": [
    {
     "name": "stdout",
     "output_type": "stream",
     "text": [
      "0            Tom \n",
      "1    William Rick\n",
      "2            John\n",
      "3         Alber@t\n",
      "4             NaN\n",
      "5            1234\n",
      "6      SteveSmith\n",
      "7            RAJA\n",
      "8            rani\n",
      "9            rani\n",
      "Name: Col1, dtype: object\n",
      "0    False\n",
      "1    False\n",
      "2    False\n",
      "3    False\n",
      "4      NaN\n",
      "5    False\n",
      "6    False\n",
      "7    False\n",
      "8     True\n",
      "9     True\n",
      "Name: Col1, dtype: object\n"
     ]
    }
   ],
   "source": [
    "#islower\n",
    "\n",
    "print(df[\"Col1\"])\n",
    "\n",
    "print(df[\"Col1\"].str.islower())"
   ]
  },
  {
   "cell_type": "code",
   "execution_count": 35,
   "metadata": {},
   "outputs": [
    {
     "name": "stdout",
     "output_type": "stream",
     "text": [
      "0            Tom \n",
      "1    William Rick\n",
      "2            John\n",
      "3         Alber@t\n",
      "4             NaN\n",
      "5            1234\n",
      "6      SteveSmith\n",
      "7            RAJA\n",
      "8            rani\n",
      "9            rani\n",
      "Name: Col1, dtype: object\n",
      "0    False\n",
      "1    False\n",
      "2    False\n",
      "3    False\n",
      "4      NaN\n",
      "5    False\n",
      "6    False\n",
      "7     True\n",
      "8    False\n",
      "9    False\n",
      "Name: Col1, dtype: object\n"
     ]
    }
   ],
   "source": [
    "#isupper\n",
    "\n",
    "print(df[\"Col1\"])\n",
    "\n",
    "print(df[\"Col1\"].str.isupper())"
   ]
  },
  {
   "cell_type": "code",
   "execution_count": 36,
   "metadata": {},
   "outputs": [
    {
     "name": "stdout",
     "output_type": "stream",
     "text": [
      "0            Tom \n",
      "1    William Rick\n",
      "2            John\n",
      "3         Alber@t\n",
      "4             NaN\n",
      "5            1234\n",
      "6      SteveSmith\n",
      "7            RAJA\n",
      "8            rani\n",
      "9            rani\n",
      "Name: Col1, dtype: object\n",
      "0    False\n",
      "1    False\n",
      "2    False\n",
      "3    False\n",
      "4      NaN\n",
      "5     True\n",
      "6    False\n",
      "7    False\n",
      "8    False\n",
      "9    False\n",
      "Name: Col1, dtype: object\n"
     ]
    }
   ],
   "source": [
    "#isnumeric\n",
    "\n",
    "print(df[\"Col1\"])\n",
    "\n",
    "print(df[\"Col1\"].str.isnumeric())"
   ]
  },
  {
   "cell_type": "code",
   "execution_count": null,
   "metadata": {},
   "outputs": [],
   "source": []
  }
 ],
 "metadata": {
  "kernelspec": {
   "display_name": "Python 3",
   "language": "python",
   "name": "python3"
  },
  "language_info": {
   "codemirror_mode": {
    "name": "ipython",
    "version": 3
   },
   "file_extension": ".py",
   "mimetype": "text/x-python",
   "name": "python",
   "nbconvert_exporter": "python",
   "pygments_lexer": "ipython3",
   "version": "3.7.3"
  }
 },
 "nbformat": 4,
 "nbformat_minor": 2
}
