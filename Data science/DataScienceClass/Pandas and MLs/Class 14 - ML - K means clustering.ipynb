{
 "cells": [
  {
   "cell_type": "code",
   "execution_count": null,
   "metadata": {},
   "outputs": [],
   "source": [
    "1. It is type of unsupervised algorithm which solves the clustering problem\n",
    "2. Its procedure follows a simple and easy way to classify a given \n",
    "data set through a certain number of clusters (assume k clusters)\n",
    "3. Data points inside a cluster are homogenous and hetrogeneous to peer groups\n",
    "4. The k-means clustering algorithms is a simple Unsupervised algorithm that`s used for quickly predicting grouping\n",
    "from within an unlabled dataset\n",
    "\n",
    "Notes:\n",
    "    1. The most striking difference between supervised and unsupervised learning lies in the result\n",
    "    2. Unsupervised learning creates a new variable, the label, while supervised learning predicts an outcome.\n",
    "    3. The machine learning helps the practitioner in the quest to label the data based on close relations\n",
    "    4. It is up to the anlyst to make use of the groups and give a name to them"
   ]
  },
  {
   "cell_type": "code",
   "execution_count": 9,
   "metadata": {},
   "outputs": [
    {
     "name": "stdout",
     "output_type": "stream",
     "text": [
      "          Name  Age  Salary Department  Experience  Gender\n",
      "0      Sridevi   21   25000  Developer           1       0\n",
      "1      Sathish   23   26000  Developer           2       1\n",
      "2     Dhayalan   25   27000  Developer           3       1\n",
      "3         Teja   27   28000  Developer           4       1\n",
      "4         Rani   29   29000  Developer           5       0\n",
      "5       Sundar   31   30000  Developer           6       1\n",
      "6        Deepa   33   31000  Developer           7       0\n",
      "7  Jeyalakshmi   35   32000  Developer           8       0\n",
      "8       Prince   37   33000  Developer           9       1\n",
      "9      Shanker   40   34000  Developer          10       1\n",
      "x:    Age\n",
      "0   21\n",
      "1   23\n",
      "2   25\n",
      "3   27\n",
      "4   29\n",
      "5   31\n",
      "6   33\n",
      "7   35\n",
      "8   37\n",
      "9   40\n",
      "y:    Salary\n",
      "0   25000\n",
      "1   26000\n",
      "2   27000\n",
      "3   28000\n",
      "4   29000\n",
      "5   30000\n",
      "6   31000\n",
      "7   32000\n",
      "8   33000\n",
      "9   34000\n"
     ]
    },
    {
     "data": {
      "image/png": "[encoded data removed]",
      "text/plain": [
       "<Figure size 432x288 with 1 Axes>"
      ]
     },
     "metadata": {
      "needs_background": "light"
     },
     "output_type": "display_data"
    },
    {
     "name": "stdout",
     "output_type": "stream",
     "text": [
      "[1 1 1 1 1 0 0 0 0 0]\n",
      "[1 1]\n",
      "          Name  Age  Salary Department  Experience  Gender  Clusters\n",
      "5       Sundar   31   30000  Developer           6       1         0\n",
      "6        Deepa   33   31000  Developer           7       0         0\n",
      "7  Jeyalakshmi   35   32000  Developer           8       0         0\n",
      "8       Prince   37   33000  Developer           9       1         0\n",
      "9      Shanker   40   34000  Developer          10       1         0\n",
      "       Name  Age  Salary Department  Experience  Gender  Clusters\n",
      "0   Sridevi   21   25000  Developer           1       0         1\n",
      "1   Sathish   23   26000  Developer           2       1         1\n",
      "2  Dhayalan   25   27000  Developer           3       1         1\n",
      "3      Teja   27   28000  Developer           4       1         1\n",
      "4      Rani   29   29000  Developer           5       0         1\n"
     ]
    },
    {
     "data": {
      "image/png": "[encoded data removed]",
      "text/plain": [
       "<Figure size 432x288 with 1 Axes>"
      ]
     },
     "metadata": {
      "needs_background": "light"
     },
     "output_type": "display_data"
    }
   ],
   "source": [
    "#Getting data from excel sheet\n",
    "import pandas as pd\n",
    "df=pd.read_excel(r\"D:\\Learning\\Data science\\DATA\\PythonSpreadSheet.xls\",sheet_name=1)\n",
    "print(df)\n",
    "\n",
    "#Training Data\n",
    "x=df.loc[:,[\"Age\"]]\n",
    "print(\"x:\",x)\n",
    "\n",
    "y=df.loc[:,['Salary']]\n",
    "print(\"y:\",y)\n",
    "\n",
    "import matplotlib.pyplot as plt\n",
    "plt.scatter(df.Age,df.Salary,color=\"steelblue\")\n",
    "plt.show()\n",
    "\n",
    "from sklearn.cluster import KMeans\n",
    "\n",
    "model=KMeans(n_clusters=2,init='k-means++',random_state=0)\n",
    "model.fit(x,y)\n",
    "\n",
    "y_predict=model.fit_predict(x)\n",
    "print(y_predict)\n",
    "\n",
    "print(model.predict([[21],[27]]))\n",
    "\n",
    "df[\"Clusters\"]=y_predict\n",
    "\n",
    "df0=df[df[\"Clusters\"]==0]\n",
    "print(df0)\n",
    "\n",
    "df1=df[df[\"Clusters\"]==1]\n",
    "print(df1)\n",
    "\n",
    "#Clusters\n",
    "plt.scatter(df0.Age,df0.Salary,color=\"Green\")\n",
    "plt.scatter(df1.Age,df1.Salary,color=\"Red\")\n",
    "plt.show()"
   ]
  },
  {
   "cell_type": "code",
   "execution_count": null,
   "metadata": {},
   "outputs": [],
   "source": []
  }
 ],
 "metadata": {
  "kernelspec": {
   "display_name": "Python 3",
   "language": "python",
   "name": "python3"
  },
  "language_info": {
   "codemirror_mode": {
    "name": "ipython",
    "version": 3
   },
   "file_extension": ".py",
   "mimetype": "text/x-python",
   "name": "python",
   "nbconvert_exporter": "python",
   "pygments_lexer": "ipython3",
   "version": "3.7.3"
  }
 },
 "nbformat": 4,
 "nbformat_minor": 2
}
