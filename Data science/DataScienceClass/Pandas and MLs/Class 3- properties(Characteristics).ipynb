{
 "cells": [
  {
   "cell_type": "markdown",
   "metadata": {},
   "source": [
    "# Python pandas - Basic functionality:"
   ]
  },
  {
   "cell_type": "markdown",
   "metadata": {},
   "source": [
    "Series basic Functionaity:\n",
    "=========================\n",
    "\n",
    "S.No       Attribute or method          Description\n",
    "1. ------------axes-------------Returns a lis of the row axis labels\n",
    "2. ------------dtype------------Returns the dtype of the object\n",
    "3. ------------empty------------Returns True if series is empty\n",
    "4. ------------ndim-------------Returns the number of dimenions of the underlying data, by definition 1.\n",
    "5. ------------size-------------Returns the number of element in the underlying data\n",
    "6. ------------values-----------Returns the series as ndarray\n",
    "7. ------------head()-----------Returns the first n rows\n",
    "8. ------------tail()------------Returns the last n rows\n"
   ]
  },
  {
   "cell_type": "code",
   "execution_count": 7,
   "metadata": {},
   "outputs": [
    {
     "name": "stdout",
     "output_type": "stream",
     "text": [
      "[10, 20, 30, 40, 50, 60, 70, 80, 90, 100]\n",
      "<class 'list'>\n",
      "\n",
      "0     10\n",
      "1     20\n",
      "2     30\n",
      "3     40\n",
      "4     50\n",
      "5     60\n",
      "6     70\n",
      "7     80\n",
      "8     90\n",
      "9    100\n",
      "dtype: int64\n",
      "[RangeIndex(start=0, stop=10, step=1)]\n"
     ]
    }
   ],
   "source": [
    "# Axes\n",
    "\n",
    "import pandas as pd\n",
    "\n",
    "myList=[10,20,30,40,50,60,70,80,90,100]\n",
    "\n",
    "print(myList)\n",
    "print(type(myList))\n",
    "\n",
    "print()\n",
    "\n",
    "series_Data=pd.Series(data=myList)\n",
    "print(series_Data)\n",
    "\n",
    "print(series_Data.axes)"
   ]
  },
  {
   "cell_type": "code",
   "execution_count": 8,
   "metadata": {},
   "outputs": [
    {
     "name": "stdout",
     "output_type": "stream",
     "text": [
      "[10, 20, 30, 40, 50, 60, 70, 80, 90, 100]\n",
      "<class 'list'>\n",
      "\n",
      "0     10\n",
      "1     20\n",
      "2     30\n",
      "3     40\n",
      "4     50\n",
      "5     60\n",
      "6     70\n",
      "7     80\n",
      "8     90\n",
      "9    100\n",
      "dtype: int64\n",
      "int64\n"
     ]
    }
   ],
   "source": [
    "#dtype\n",
    "\n",
    "import pandas as pd\n",
    "\n",
    "myList=[10,20,30,40,50,60,70,80,90,100]\n",
    "\n",
    "print(myList)\n",
    "print(type(myList))\n",
    "\n",
    "print()\n",
    "\n",
    "series_Data=pd.Series(data=myList)\n",
    "print(series_Data)\n",
    "\n",
    "print(series_Data.dtype)"
   ]
  },
  {
   "cell_type": "code",
   "execution_count": 9,
   "metadata": {},
   "outputs": [
    {
     "name": "stdout",
     "output_type": "stream",
     "text": [
      "[10, 20, 30, 40, 50.1, 60, 70, 80, 90, 100]\n",
      "<class 'list'>\n",
      "\n",
      "0     10.0\n",
      "1     20.0\n",
      "2     30.0\n",
      "3     40.0\n",
      "4     50.1\n",
      "5     60.0\n",
      "6     70.0\n",
      "7     80.0\n",
      "8     90.0\n",
      "9    100.0\n",
      "dtype: float64\n",
      "float64\n"
     ]
    }
   ],
   "source": [
    "#dtype\n",
    "\n",
    "import pandas as pd\n",
    "\n",
    "myList=[10,20,30,40,50.1,60,70,80,90,100]\n",
    "\n",
    "print(myList)\n",
    "print(type(myList))\n",
    "\n",
    "print()\n",
    "\n",
    "series_Data=pd.Series(data=myList)\n",
    "print(series_Data)\n",
    "\n",
    "print(series_Data.dtype)"
   ]
  },
  {
   "cell_type": "code",
   "execution_count": 10,
   "metadata": {},
   "outputs": [
    {
     "name": "stdout",
     "output_type": "stream",
     "text": [
      "[10, 20, 30, 40, 50.1, '60', 70, 80, 90, 100]\n",
      "<class 'list'>\n",
      "\n",
      "0      10\n",
      "1      20\n",
      "2      30\n",
      "3      40\n",
      "4    50.1\n",
      "5      60\n",
      "6      70\n",
      "7      80\n",
      "8      90\n",
      "9     100\n",
      "dtype: object\n",
      "object\n"
     ]
    }
   ],
   "source": [
    "#dtype\n",
    "\n",
    "import pandas as pd\n",
    "\n",
    "myList=[10,20,30,40,50.1,\"60\",70,80,90,100]\n",
    "\n",
    "print(myList)\n",
    "print(type(myList))\n",
    "\n",
    "print()\n",
    "\n",
    "series_Data=pd.Series(data=myList)\n",
    "print(series_Data)\n",
    "\n",
    "print(series_Data.dtype)"
   ]
  },
  {
   "cell_type": "code",
   "execution_count": 13,
   "metadata": {},
   "outputs": [
    {
     "name": "stdout",
     "output_type": "stream",
     "text": [
      "[10, 20, 30, 40, 50.1, '60', 70, 80, 90, 100]\n",
      "[]\n",
      "\n",
      "False\n",
      "True\n"
     ]
    }
   ],
   "source": [
    "#empty\n",
    "\n",
    "import pandas as pd\n",
    "\n",
    "myList1=[10,20,30,40,50.1,\"60\",70,80,90,100]\n",
    "myList2=[]\n",
    "\n",
    "print(myList1)\n",
    "print(myList2)\n",
    "\n",
    "print()\n",
    "\n",
    "series_Data1=pd.Series(data=myList1)\n",
    "series_Data2=pd.Series(data=myList2)\n",
    "\n",
    "print(series_Data1.empty)\n",
    "print(series_Data2.empty)"
   ]
  },
  {
   "cell_type": "code",
   "execution_count": 15,
   "metadata": {},
   "outputs": [
    {
     "name": "stdout",
     "output_type": "stream",
     "text": [
      "[10, 20, 30, 40, 50.1, '60', 70, 80, 90, 100]\n",
      "[[1, 2], [3, 4]]\n",
      "\n",
      "1\n",
      "2\n"
     ]
    }
   ],
   "source": [
    "#ndim\n",
    "import pandas as pd\n",
    "\n",
    "myList1=[10,20,30,40,50.1,\"60\",70,80,90,100]\n",
    "myList2=[[1,2],[3,4]]\n",
    "\n",
    "print(myList1)\n",
    "print(myList2)\n",
    "\n",
    "print()\n",
    "\n",
    "series_Data1=pd.Series(data=myList1)\n",
    "dataFrame=pd.DataFrame(data=myList2)\n",
    "\n",
    "print(series_Data1.ndim)\n",
    "print(dataFrame.ndim)"
   ]
  },
  {
   "cell_type": "code",
   "execution_count": 16,
   "metadata": {},
   "outputs": [
    {
     "name": "stdout",
     "output_type": "stream",
     "text": [
      "[10, 20, 30, 40, 50.1, '60', 70, 80, 90, 100]\n",
      "[[1, 2], [3, 4]]\n",
      "\n",
      "10\n",
      "4\n"
     ]
    }
   ],
   "source": [
    "#size\n",
    "import pandas as pd\n",
    "\n",
    "myList1=[10,20,30,40,50.1,\"60\",70,80,90,100]\n",
    "myList2=[[1,2],[3,4]]\n",
    "\n",
    "print(myList1)\n",
    "print(myList2)\n",
    "\n",
    "print()\n",
    "\n",
    "series_Data1=pd.Series(data=myList1)\n",
    "dataFrame=pd.DataFrame(data=myList2)\n",
    "\n",
    "print(series_Data1.size)\n",
    "print(dataFrame.size)"
   ]
  },
  {
   "cell_type": "code",
   "execution_count": 20,
   "metadata": {},
   "outputs": [
    {
     "name": "stdout",
     "output_type": "stream",
     "text": [
      "[10, 20, 30, 40, 50.1, '60', 70, 80, 90, 100]\n",
      "[[1, 2], [3, 4]]\n",
      "\n",
      "[10 20 30 40 50.1 '60' 70 80 90 100]\n",
      "<class 'numpy.ndarray'>\n",
      "<class 'pandas.core.series.Series'>\n",
      "[[1 2]\n",
      " [3 4]]\n",
      "<class 'pandas.core.frame.DataFrame'>\n"
     ]
    }
   ],
   "source": [
    "#values\n",
    "import pandas as pd\n",
    "\n",
    "myList1=[10,20,30,40,50.1,\"60\",70,80,90,100]\n",
    "myList2=[[1,2],[3,4]]\n",
    "\n",
    "print(myList1)\n",
    "print(myList2)\n",
    "\n",
    "print()\n",
    "\n",
    "series_Data1=pd.Series(data=myList1)\n",
    "dataFrame=pd.DataFrame(data=myList2)\n",
    "\n",
    "print(series_Data1.values)\n",
    "print(type(series_Data1.values))\n",
    "print(type(series_Data1))\n",
    "print(dataFrame.values)\n",
    "print(type(dataFrame))"
   ]
  },
  {
   "cell_type": "code",
   "execution_count": 25,
   "metadata": {},
   "outputs": [
    {
     "name": "stdout",
     "output_type": "stream",
     "text": [
      "[10, 20, 30, 40, 50.1, '60', 70, 80, 90, 100]\n",
      "[[1, 2], [3, 4]]\n",
      "\n",
      "0      10\n",
      "1      20\n",
      "2      30\n",
      "3      40\n",
      "4    50.1\n",
      "dtype: object\n",
      "0    10\n",
      "1    20\n",
      "2    30\n",
      "dtype: object\n",
      "   0  1\n",
      "0  1  2\n"
     ]
    }
   ],
   "source": [
    "#head\n",
    "import pandas as pd\n",
    "\n",
    "myList1=[10,20,30,40,50.1,\"60\",70,80,90,100]\n",
    "myList2=[[1,2],[3,4]]\n",
    "\n",
    "print(myList1)\n",
    "print(myList2)\n",
    "\n",
    "print()\n",
    "\n",
    "series_Data1=pd.Series(data=myList1)\n",
    "dataFrame=pd.DataFrame(data=myList2)\n",
    "\n",
    "print(series_Data1.head())\n",
    "print(series_Data1.head(n=3))\n",
    "print(dataFrame.head(n=1))"
   ]
  },
  {
   "cell_type": "code",
   "execution_count": 26,
   "metadata": {},
   "outputs": [
    {
     "name": "stdout",
     "output_type": "stream",
     "text": [
      "[10, 20, 30, 40, 50.1, '60', 70, 80, 90, 100]\n",
      "[[1, 2], [3, 4]]\n",
      "\n",
      "5     60\n",
      "6     70\n",
      "7     80\n",
      "8     90\n",
      "9    100\n",
      "dtype: object\n",
      "7     80\n",
      "8     90\n",
      "9    100\n",
      "dtype: object\n",
      "   0  1\n",
      "1  3  4\n"
     ]
    }
   ],
   "source": [
    "#tail\n",
    "import pandas as pd\n",
    "\n",
    "myList1=[10,20,30,40,50.1,\"60\",70,80,90,100]\n",
    "myList2=[[1,2],[3,4]]\n",
    "\n",
    "print(myList1)\n",
    "print(myList2)\n",
    "\n",
    "print()\n",
    "\n",
    "series_Data1=pd.Series(data=myList1)\n",
    "dataFrame=pd.DataFrame(data=myList2)\n",
    "\n",
    "print(series_Data1.tail())\n",
    "print(series_Data1.tail(n=3))\n",
    "print(dataFrame.tail(n=1))"
   ]
  },
  {
   "cell_type": "markdown",
   "metadata": {},
   "source": [
    "Two Dimentional basic functionality\n",
    "================================"
   ]
  },
  {
   "cell_type": "code",
   "execution_count": 33,
   "metadata": {},
   "outputs": [
    {
     "name": "stdout",
     "output_type": "stream",
     "text": [
      "{'Name': ['Jeeva', 'balan', 'Karthik', 'Kaushik', 'Kiran', 'Sekar', 'Krishna'], 'ID': [12, 13, 14, 15, 16, 17, 18], 'CGPA': [6.7, 7.2, 8.3, 9.1, 5.5, 6.8, 7.1]}\n",
      "      Name  ID  CGPA\n",
      "0    Jeeva  12   6.7\n",
      "1    balan  13   7.2\n",
      "2  Karthik  14   8.3\n",
      "3  Kaushik  15   9.1\n",
      "4    Kiran  16   5.5\n",
      "5    Sekar  17   6.8\n",
      "6  Krishna  18   7.1\n",
      "\n",
      " ===axes===\n",
      "\n",
      "[RangeIndex(start=0, stop=7, step=1), Index(['Name', 'ID', 'CGPA'], dtype='object')]\n"
     ]
    }
   ],
   "source": [
    "#Axes\n",
    "import pandas as pd\n",
    "\n",
    "myDict={\"Name\":[\"Jeeva\",\"balan\",\"Karthik\",\"Kaushik\",\"Kiran\",\"Sekar\",\"Krishna\"],\n",
    "        \"ID\":[12,13,14,15,16,17,18],\n",
    "        \"CGPA\":[6.7,7.2,8.3,9.1,5.5,6.8,7.1]    \n",
    "        }\n",
    "\n",
    "print(myDict)\n",
    "\n",
    "dataFrame=pd.DataFrame(data=myDict)\n",
    "\n",
    "print(dataFrame)\n",
    "\n",
    "print(\"\\n ===axes===\")\n",
    "print()\n",
    "print(dataFrame.axes)"
   ]
  },
  {
   "cell_type": "code",
   "execution_count": 35,
   "metadata": {},
   "outputs": [
    {
     "name": "stdout",
     "output_type": "stream",
     "text": [
      "{'Name': ['Jeeva', 'balan', 'Karthik', 'Kaushik', 'Kiran', 'Sekar', 'Krishna'], 'ID': [12, 13, 14, 15, 16, 17, 18], 'CGPA': [6.7, 7.2, 8.3, 9.1, 5.5, 6.8, 7.1]}\n",
      "      Name  ID  CGPA\n",
      "0    Jeeva  12   6.7\n",
      "1    balan  13   7.2\n",
      "2  Karthik  14   8.3\n",
      "3  Kaushik  15   9.1\n",
      "4    Kiran  16   5.5\n",
      "5    Sekar  17   6.8\n",
      "6  Krishna  18   7.1\n",
      "\n",
      " ===dtype===\n",
      "\n",
      "Datatype of name: object\n",
      "Datatype of ID: int64\n",
      "Datatype of CGPA: float64\n"
     ]
    }
   ],
   "source": [
    "#dtype\n",
    "import pandas as pd\n",
    "\n",
    "myDict={\"Name\":[\"Jeeva\",\"balan\",\"Karthik\",\"Kaushik\",\"Kiran\",\"Sekar\",\"Krishna\"],\n",
    "        \"ID\":[12,13,14,15,16,17,18],\n",
    "        \"CGPA\":[6.7,7.2,8.3,9.1,5.5,6.8,7.1]    \n",
    "        }\n",
    "\n",
    "print(myDict)\n",
    "\n",
    "dataFrame=pd.DataFrame(data=myDict)\n",
    "\n",
    "print(dataFrame)\n",
    "\n",
    "print(\"\\n ===dtype===\")\n",
    "print()\n",
    "print(\"Datatype of name:\",dataFrame[\"Name\"].dtype)\n",
    "print(\"Datatype of ID:\",dataFrame[\"ID\"].dtype)\n",
    "print(\"Datatype of CGPA:\",dataFrame[\"CGPA\"].dtype)"
   ]
  },
  {
   "cell_type": "code",
   "execution_count": 37,
   "metadata": {},
   "outputs": [
    {
     "name": "stdout",
     "output_type": "stream",
     "text": [
      "{'Name': ['Jeeva', 'balan', 'Karthik', 'Kaushik', 'Kiran', 'Sekar', 'Krishna'], 'ID': [12, 13, 14, 15, 16, 17, 18], 'CGPA': [6.7, 7.2, 8.3, 9.1, 5.5, 6.8, 7.1]}\n",
      "      Name  ID  CGPA\n",
      "0    Jeeva  12   6.7\n",
      "1    balan  13   7.2\n",
      "2  Karthik  14   8.3\n",
      "3  Kaushik  15   9.1\n",
      "4    Kiran  16   5.5\n",
      "5    Sekar  17   6.8\n",
      "6  Krishna  18   7.1\n",
      "Empty DataFrame\n",
      "Columns: []\n",
      "Index: []\n",
      "\n",
      " ===epmty check===\n",
      "\n",
      "empty checkl False\n",
      "empty check2 True\n"
     ]
    }
   ],
   "source": [
    "#empty\n",
    "import pandas as pd\n",
    "\n",
    "myDict1={\"Name\":[\"Jeeva\",\"balan\",\"Karthik\",\"Kaushik\",\"Kiran\",\"Sekar\",\"Krishna\"],\n",
    "        \"ID\":[12,13,14,15,16,17,18],\n",
    "        \"CGPA\":[6.7,7.2,8.3,9.1,5.5,6.8,7.1]    \n",
    "        }\n",
    "\n",
    "myDict2={}        \n",
    "\n",
    "print(myDict1)\n",
    "\n",
    "dataFrame1=pd.DataFrame(data=myDict1)\n",
    "dataFrame2=pd.DataFrame(data=myDict2)\n",
    "\n",
    "print(dataFrame1)\n",
    "print(dataFrame2)\n",
    "\n",
    "print(\"\\n ===epmty check===\")\n",
    "print()\n",
    "print(\"empty checkl\",dataFrame1.empty)\n",
    "print(\"empty check2\",dataFrame2.empty)\n"
   ]
  },
  {
   "cell_type": "code",
   "execution_count": 42,
   "metadata": {},
   "outputs": [
    {
     "name": "stdout",
     "output_type": "stream",
     "text": [
      "{'Name': ['Jeeva', 'balan', 'Karthik', 'Kaushik', 'Kiran', 'Sekar', 'Krishna'], 'ID': [12, 13, 14, 15, 16, 17, 18], 'CGPA': [6.7, 7.2, 8.3, 9.1, 5.5, 6.8, 7.1]}\n",
      "      Name  ID  CGPA\n",
      "0    Jeeva  12   6.7\n",
      "1    balan  13   7.2\n",
      "2  Karthik  14   8.3\n",
      "3  Kaushik  15   9.1\n",
      "4    Kiran  16   5.5\n",
      "5    Sekar  17   6.8\n",
      "6  Krishna  18   7.1\n",
      "\n",
      " ===ndim===\n",
      "\n",
      "dimentionary array of: 2\n",
      "datatype: <class 'pandas.core.frame.DataFrame'>\n",
      "datatype: <class 'int'>\n"
     ]
    }
   ],
   "source": [
    "#ndim\n",
    "import pandas as pd\n",
    "\n",
    "myDict={\"Name\":[\"Jeeva\",\"balan\",\"Karthik\",\"Kaushik\",\"Kiran\",\"Sekar\",\"Krishna\"],\n",
    "        \"ID\":[12,13,14,15,16,17,18],\n",
    "        \"CGPA\":[6.7,7.2,8.3,9.1,5.5,6.8,7.1]    \n",
    "        }\n",
    "\n",
    "print(myDict)\n",
    "\n",
    "dataFrame=pd.DataFrame(data=myDict)\n",
    "\n",
    "print(dataFrame)\n",
    "\n",
    "print(\"\\n ===ndim===\")\n",
    "print()\n",
    "print(\"number of dimension:\",dataFrame.ndim)\n",
    "print(\"datatype:\",type(dataFrame))\n",
    "print(\"datatype:\",type(dataFrame.ndim))\n"
   ]
  },
  {
   "cell_type": "code",
   "execution_count": 48,
   "metadata": {},
   "outputs": [
    {
     "name": "stdout",
     "output_type": "stream",
     "text": [
      "{'Name': ['Jeeva', 'balan', 'Karthik', 'Kaushik', 'Kiran', 'Sekar', 'Krishna'], 'ID': [12, 13, 14, 15, 16, 17, 18], 'CGPA': [6.7, 7.2, 8.3, 9.1, 5.5, 6.8, 7.1]}\n",
      "      Name  ID  CGPA\n",
      "0    Jeeva  12   6.7\n",
      "1    balan  13   7.2\n",
      "2  Karthik  14   8.3\n",
      "3  Kaushik  15   9.1\n",
      "4    Kiran  16   5.5\n",
      "5    Sekar  17   6.8\n",
      "6  Krishna  18   7.1\n",
      "\n",
      " ===size===\n",
      "\n",
      "sixe of dictionary: 21\n"
     ]
    }
   ],
   "source": [
    "#size\n",
    "import pandas as pd\n",
    "\n",
    "myDict={\"Name\":[\"Jeeva\",\"balan\",\"Karthik\",\"Kaushik\",\"Kiran\",\"Sekar\",\"Krishna\"],\n",
    "        \"ID\":[12,13,14,15,16,17,18],\n",
    "        \"CGPA\":[6.7,7.2,8.3,9.1,5.5,6.8,7.1]    \n",
    "        }\n",
    "\n",
    "print(myDict)\n",
    "\n",
    "dataFrame=pd.DataFrame(data=myDict)\n",
    "\n",
    "print(dataFrame)\n",
    "\n",
    "print(\"\\n ===size===\")\n",
    "print()\n",
    "print(\"sixe of dictionary:\",dataFrame.size)\n"
   ]
  },
  {
   "cell_type": "code",
   "execution_count": 49,
   "metadata": {},
   "outputs": [
    {
     "name": "stdout",
     "output_type": "stream",
     "text": [
      "{'Name': ['Jeeva', 'balan', 'Karthik', 'Kaushik', 'Kiran', 'Sekar', 'Krishna'], 'ID': [12, 13, 14, 15, 16, 17, 18], 'CGPA': [6.7, 7.2, 8.3, 9.1, 5.5, 6.8, 7.1]}\n",
      "      Name  ID  CGPA\n",
      "0    Jeeva  12   6.7\n",
      "1    balan  13   7.2\n",
      "2  Karthik  14   8.3\n",
      "3  Kaushik  15   9.1\n",
      "4    Kiran  16   5.5\n",
      "5    Sekar  17   6.8\n",
      "6  Krishna  18   7.1\n",
      "\n",
      " ===values===\n",
      "\n",
      "dimentionary array of: [['Jeeva' 12 6.7]\n",
      " ['balan' 13 7.2]\n",
      " ['Karthik' 14 8.3]\n",
      " ['Kaushik' 15 9.1]\n",
      " ['Kiran' 16 5.5]\n",
      " ['Sekar' 17 6.8]\n",
      " ['Krishna' 18 7.1]]\n",
      "datatype: <class 'numpy.ndarray'>\n"
     ]
    }
   ],
   "source": [
    "#values\n",
    "import pandas as pd\n",
    "\n",
    "myDict={\"Name\":[\"Jeeva\",\"balan\",\"Karthik\",\"Kaushik\",\"Kiran\",\"Sekar\",\"Krishna\"],\n",
    "        \"ID\":[12,13,14,15,16,17,18],\n",
    "        \"CGPA\":[6.7,7.2,8.3,9.1,5.5,6.8,7.1]    \n",
    "        }\n",
    "\n",
    "print(myDict)\n",
    "\n",
    "dataFrame=pd.DataFrame(data=myDict)\n",
    "\n",
    "print(dataFrame)\n",
    "\n",
    "print(\"\\n ===values===\")\n",
    "print()\n",
    "print(\"dimentionary array of:\",dataFrame.values)\n",
    "print(\"datatype:\",type(dataFrame.values))\n"
   ]
  },
  {
   "cell_type": "code",
   "execution_count": 46,
   "metadata": {},
   "outputs": [
    {
     "name": "stdout",
     "output_type": "stream",
     "text": [
      "{'Name': ['Jeeva', 'balan', 'Karthik', 'Kaushik', 'Kiran', 'Sekar', 'Krishna'], 'ID': [12, 13, 14, 15, 16, 17, 18], 'CGPA': [6.7, 7.2, 8.3, 9.1, 5.5, 6.8, 7.1]}\n",
      "      Name  ID  CGPA\n",
      "0    Jeeva  12   6.7\n",
      "1    balan  13   7.2\n",
      "2  Karthik  14   8.3\n",
      "3  Kaushik  15   9.1\n",
      "4    Kiran  16   5.5\n",
      "5    Sekar  17   6.8\n",
      "6  Krishna  18   7.1\n",
      "\n",
      " ===head===\n",
      "\n",
      "deafult:       Name  ID  CGPA\n",
      "0    Jeeva  12   6.7\n",
      "1    balan  13   7.2\n",
      "2  Karthik  14   8.3\n",
      "3  Kaushik  15   9.1\n",
      "4    Kiran  16   5.5\n",
      "first 3:       Name  ID  CGPA\n",
      "0    Jeeva  12   6.7\n",
      "1    balan  13   7.2\n",
      "2  Karthik  14   8.3\n"
     ]
    }
   ],
   "source": [
    "#head\n",
    "import pandas as pd\n",
    "\n",
    "myDict={\"Name\":[\"Jeeva\",\"balan\",\"Karthik\",\"Kaushik\",\"Kiran\",\"Sekar\",\"Krishna\"],\n",
    "        \"ID\":[12,13,14,15,16,17,18],\n",
    "        \"CGPA\":[6.7,7.2,8.3,9.1,5.5,6.8,7.1]    \n",
    "        }\n",
    "\n",
    "print(myDict)\n",
    "\n",
    "dataFrame=pd.DataFrame(data=myDict)\n",
    "\n",
    "print(dataFrame)\n",
    "\n",
    "print(\"\\n ===head===\")\n",
    "print()\n",
    "print(\"deafult:\",dataFrame.head())\n",
    "print(\"first 3:\",dataFrame.head(n=3))\n",
    "\n"
   ]
  },
  {
   "cell_type": "code",
   "execution_count": 47,
   "metadata": {},
   "outputs": [
    {
     "name": "stdout",
     "output_type": "stream",
     "text": [
      "{'Name': ['Jeeva', 'balan', 'Karthik', 'Kaushik', 'Kiran', 'Sekar', 'Krishna'], 'ID': [12, 13, 14, 15, 16, 17, 18], 'CGPA': [6.7, 7.2, 8.3, 9.1, 5.5, 6.8, 7.1]}\n",
      "      Name  ID  CGPA\n",
      "0    Jeeva  12   6.7\n",
      "1    balan  13   7.2\n",
      "2  Karthik  14   8.3\n",
      "3  Kaushik  15   9.1\n",
      "4    Kiran  16   5.5\n",
      "5    Sekar  17   6.8\n",
      "6  Krishna  18   7.1\n",
      "\n",
      " ===Tail===\n",
      "\n",
      "deafult:       Name  ID  CGPA\n",
      "2  Karthik  14   8.3\n",
      "3  Kaushik  15   9.1\n",
      "4    Kiran  16   5.5\n",
      "5    Sekar  17   6.8\n",
      "6  Krishna  18   7.1\n",
      "Bottom 3:       Name  ID  CGPA\n",
      "4    Kiran  16   5.5\n",
      "5    Sekar  17   6.8\n",
      "6  Krishna  18   7.1\n"
     ]
    }
   ],
   "source": [
    "#Tail\n",
    "import pandas as pd\n",
    "\n",
    "myDict={\"Name\":[\"Jeeva\",\"balan\",\"Karthik\",\"Kaushik\",\"Kiran\",\"Sekar\",\"Krishna\"],\n",
    "        \"ID\":[12,13,14,15,16,17,18],\n",
    "        \"CGPA\":[6.7,7.2,8.3,9.1,5.5,6.8,7.1]    \n",
    "        }\n",
    "\n",
    "print(myDict)\n",
    "\n",
    "dataFrame=pd.DataFrame(data=myDict)\n",
    "\n",
    "print(dataFrame)\n",
    "\n",
    "print(\"\\n ===Tail===\")\n",
    "print()\n",
    "print(\"deafult:\",dataFrame.tail())\n",
    "print(\"Bottom 3:\",dataFrame.tail(n=3))\n",
    "\n"
   ]
  },
  {
   "cell_type": "code",
   "execution_count": null,
   "metadata": {},
   "outputs": [],
   "source": []
  }
 ],
 "metadata": {
  "kernelspec": {
   "display_name": "Python 3",
   "language": "python",
   "name": "python3"
  },
  "language_info": {
   "codemirror_mode": {
    "name": "ipython",
    "version": 3
   },
   "file_extension": ".py",
   "mimetype": "text/x-python",
   "name": "python",
   "nbconvert_exporter": "python",
   "pygments_lexer": "ipython3",
   "version": "3.7.3"
  }
 },
 "nbformat": 4,
 "nbformat_minor": 2
}
