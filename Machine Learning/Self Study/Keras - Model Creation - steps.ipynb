{
 "cells": [
  {
   "cell_type": "markdown",
   "metadata": {},
   "source": [
    "1. Adding input layer and first hidden layer\n",
    "\n",
    "    Ex: Model.add(Dense(units = 6, kernel_initializer = 'uniform', activation = 'relu', input_dim = 11))\n",
    "    * Dense --> layer name\n",
    "    * Units --> neuron count\n",
    "    * Kernel_initializer --> initial weights to the input tensors. Zeros, Constant, RandomNormal, Uniform and etc -->https://keras.io/initializers/\n",
    "    * Activation --> relu, tanh, sigmoid and etc --> https://keras.io/activations/\n",
    "    * input_dim --> number of feature columns"
   ]
  },
  {
   "cell_type": "markdown",
   "metadata": {},
   "source": [
    "2. Adding 2 or more hidden layers\n",
    "\n",
    "    Ex: Model.add(Dense(units = 6, kernel_initializer = 'uniform', activation = 'relu'))\n",
    "    * Dense --> layer name\n",
    "    * Units --> neuron count\n",
    "    * Kernel_initializer --> initial weights to the input tensors\n",
    "    * Activation --> relu, tanh, sigmoid and etc\n",
    "    "
   ]
  },
  {
   "cell_type": "markdown",
   "metadata": {},
   "source": [
    "3. Add output layer\n",
    "\n",
    "    Ex: model.add(Dense(units = 1, kernel_initializer = 'uniform', activation = 'sigmoid'))\n",
    "    * Dense --> layer name\n",
    "    * Units --> neuron count\n",
    "    * Kernel_initializer --> initial weights to the input tensors\n",
    "    * Activation --> relu, tanh, sigmoid and etc"
   ]
  },
  {
   "cell_type": "markdown",
   "metadata": {},
   "source": [
    "4. Compiling the model\n",
    "\n",
    "    Ex: classifier.compile(optimizer = 'adam', loss = 'binary_crossentropy', metrics = ['accuracy'])\n",
    "    \n",
    "    * optimizer --> to reduce loss function"
   ]
  }
 ],
 "metadata": {
  "kernelspec": {
   "display_name": "Python 3",
   "language": "python",
   "name": "python3"
  },
  "language_info": {
   "codemirror_mode": {
    "name": "ipython",
    "version": 3
   },
   "file_extension": ".py",
   "mimetype": "text/x-python",
   "name": "python",
   "nbconvert_exporter": "python",
   "pygments_lexer": "ipython3",
   "version": "3.7.4"
  }
 },
 "nbformat": 4,
 "nbformat_minor": 2
}
