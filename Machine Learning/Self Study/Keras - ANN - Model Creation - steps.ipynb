{
 "cells": [
  {
   "cell_type": "markdown",
   "metadata": {},
   "source": [
    "# 1. ANN"
   ]
  },
  {
   "cell_type": "markdown",
   "metadata": {},
   "source": [
    "    Required libraries:\n",
    "    - import tensorflow.keras\n",
    "    - from tensorflow.keras.models import Sequential\n",
    "    - from tensorflow.keras.layers import Dense"
   ]
  },
  {
   "cell_type": "markdown",
   "metadata": {},
   "source": [
    "   0. Initiate model\n",
    "\n",
    "    Ex: classifier = Sequential()"
   ]
  },
  {
   "cell_type": "markdown",
   "metadata": {},
   "source": [
    "1. Adding input layer and first hidden layer\n",
    "\n",
    "    Ex: Model.add(Dense(units = 6, kernel_initializer = 'uniform', activation = 'relu', input_dim = 11))\n",
    "    * Dense --> layer name\n",
    "    * Units --> neuron count\n",
    "    * Kernel_initializer --> initial weights to the input tensors. Zeros, Constant, RandomNormal, Uniform and etc -->https://keras.io/initializers/\n",
    "    * Activation --> relu, tanh, sigmoid and etc --> https://keras.io/activations/\n",
    "    * input_dim --> number of feature columns"
   ]
  },
  {
   "cell_type": "markdown",
   "metadata": {},
   "source": [
    "2. Adding 2 or more hidden layers\n",
    "\n",
    "    Ex: Model.add(Dense(units = 6, kernel_initializer = 'uniform', activation = 'relu'))\n",
    "    * Dense --> layer name\n",
    "    * Units --> neuron count\n",
    "    * Kernel_initializer --> initial weights to the input tensors\n",
    "    * Activation --> relu, tanh, sigmoid and etc\n",
    "    "
   ]
  },
  {
   "cell_type": "markdown",
   "metadata": {},
   "source": [
    "3. Add output layer\n",
    "\n",
    "    Ex: model.add(Dense(units = 1, kernel_initializer = 'uniform', activation = 'sigmoid'))\n",
    "    * Dense --> layer name\n",
    "    * Units --> neuron count\n",
    "    * Kernel_initializer --> initial weights to the input tensors\n",
    "    * Activation --> relu, tanh, sigmoid and etc"
   ]
  },
  {
   "cell_type": "markdown",
   "metadata": {},
   "source": [
    "4. Compiling the model\n",
    "\n",
    "    Ex: model.compile(optimizer = 'adam', loss = 'binary_crossentropy', metrics = ['accuracy'])\n",
    "    \n",
    "    * optimizer --> to reduce loss function. Adam, sgd, and etc --> https://keras.io/optimizers/ -->https://medium.com/datadriveninvestor/overview-of-different-optimizers-for-neural-networks-e0ed119440c3\n",
    "    \n",
    "    * loss --> difference between actual vs predicted. 'mean_squared_error','binary_crossentropy', and etc.. --> https://keras.io/losses/ -->https://machinelearningmastery.com/how-to-choose-loss-functions-when-training-deep-learning-neural-networks/\n",
    "    \n",
    "    * metrics --> metrics will be recorded in training or validation and output each epoch in verbose output. Ex: mse(mean square error), mae(mean absolute error), accuracy and etc  https://keras.io/metrics/ --> https://machinelearningmastery.com/custom-metrics-deep-learning-keras-python/"
   ]
  },
  {
   "cell_type": "markdown",
   "metadata": {},
   "source": [
    "5. Fit the model\n",
    "\n",
    "    Ex: model.fit(X = X_train, y = y_train, batch_size = 10, epochs = 100)\n",
    "\n",
    "    * X --> input\n",
    "    * y --> target\n",
    "    * batch_size --> The batch size is a number of samples processed before the model is updated\n",
    "    * epochs --> An epoch is an iteration over the entire `X` and `y` data provided or The number of epochs is the number of complete passes through the training dataset"
   ]
  },
  {
   "cell_type": "markdown",
   "metadata": {},
   "source": [
    "6. Predict the model\n",
    "\n",
    "    Ex: y_pred = model.predict(X_test)\n",
    "\n",
    "    * x --> input sample"
   ]
  }
 ],
 "metadata": {
  "kernelspec": {
   "display_name": "Python 3",
   "language": "python",
   "name": "python3"
  },
  "language_info": {
   "codemirror_mode": {
    "name": "ipython",
    "version": 3
   },
   "file_extension": ".py",
   "mimetype": "text/x-python",
   "name": "python",
   "nbconvert_exporter": "python",
   "pygments_lexer": "ipython3",
   "version": "3.7.4"
  }
 },
 "nbformat": 4,
 "nbformat_minor": 2
}
