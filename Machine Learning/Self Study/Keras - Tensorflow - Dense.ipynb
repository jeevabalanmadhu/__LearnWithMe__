{
 "cells": [
  {
   "cell_type": "markdown",
   "metadata": {},
   "source": [
    "### Dense layer: \n",
    "A linear operation in which every input is connected to every output by a weight (so there are n_inputs * n_outputs weights - which can be a lot!). Generally followed by a non-linear activation function.\n",
    "\n",
    "Dense layer will be used in keras, sequencial model. prefered to use for all data related regression or classification model(ANN). Dense will not be preferred for CNN or RNN neural network other words, its not good for image or word embeddings"
   ]
  },
  {
   "cell_type": "markdown",
   "metadata": {},
   "source": [
    "##### Dense layer Arguments in Keras documentation: \n",
    "Link - https://keras.io/layers/core/ ; *** are my understaings, * are important\n",
    "\n",
    "    *units: Positive integer, dimensionality of the output space. ***Number of Neurons(Cells) in the hidden layer***\n",
    "    \n",
    "    *activation: Activation function to use (see activations). If you don't specify anything, no activation is applied (ie. \"linear\" activation: a(x) = x). - link - https://keras.io/activations/\n",
    "    \n",
    "    use_bias: Boolean, whether the layer uses a bias vector.\n",
    "    \n",
    "    *kernel_initializer: Initializer for the kernel weights matrix (see initializers). Initializations define the way to set the initial random weights of Keras layers.\n",
    "       Types: --> Check this link for all types of initializers - https://keras.io/initializers/\n",
    "    \n",
    "    kernel_regularizer: Regularizer function applied to the kernel weights matrix (see regularizer).\n",
    "    \n",
    "    bias_regularizer: Regularizer function applied to the bias vector (see regularizer).\n",
    "    \n",
    "    activity_regularizer: Regularizer function applied to the output of the layer (its \"activation\"). (see regularizer).\n",
    "    \n",
    "    kernel_constraint: Constraint function applied to the kernel weights matrix (see constraints).\n",
    "    \n",
    "    bias_constraint: Constraint function applied to the bias vector (see constraints).\n",
    "    \n",
    "    *input_dim: ***number of input features*** - only for first layer. other layers its not required"
   ]
  },
  {
   "cell_type": "markdown",
   "metadata": {},
   "source": []
  }
 ],
 "metadata": {
  "kernelspec": {
   "display_name": "Python 3",
   "language": "python",
   "name": "python3"
  },
  "language_info": {
   "codemirror_mode": {
    "name": "ipython",
    "version": 3
   },
   "file_extension": ".py",
   "mimetype": "text/x-python",
   "name": "python",
   "nbconvert_exporter": "python",
   "pygments_lexer": "ipython3",
   "version": "3.7.4"
  }
 },
 "nbformat": 4,
 "nbformat_minor": 2
}
