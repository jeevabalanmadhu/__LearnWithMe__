{
 "cells": [
  {
   "cell_type": "markdown",
   "metadata": {},
   "source": [
    "# Python Literals or DataTypes"
   ]
  },
  {
   "cell_type": "markdown",
   "metadata": {},
   "source": [
    "### String\n",
    "---------------\n",
    "\n",
    "#### Declaration\n",
    "    strName = 'John'\n",
    "           or\n",
    "    strName = \"John\"\n",
    "    \n",
    "#### Type of String\n",
    "\n",
    "a) Single line String- Strings that are terminated within a single line are known as Single line Strings.\n",
    "\n",
    "    strName = 'john'\n",
    "\n",
    "b) Multi line String- A piece of text that is spread along multiple lines is known as Multiple line String.\n",
    "   \n",
    "    1). Adding black slash at the end of each line.\n",
    "            \t>>> a='Hello\\\n",
    "                        Python'\n",
    "                >>> a\n",
    "                    'HelloPython'\n",
    "                    \n",
    "    \n",
    "    2).Using triple quotation marks\n",
    "                >>>strDetails = '''John\n",
    "                                working\n",
    "                                in\n",
    "                                software\n",
    "                    company'''"
   ]
  },
  {
   "cell_type": "markdown",
   "metadata": {},
   "source": [
    "### Numeric literals\n",
    "--------------------\n",
    "\n",
    "Numeric Literals are immutable. Numeric literals can belong to following four different numerical types.\n",
    "\n",
    "1.Int(signed integers)\n",
    "\n",
    "\tNumbers( can be both positive and negative) with no fractional part.\n",
    "\tEx: 100\n",
    "\n",
    "2.Long(long integers)\n",
    "\n",
    "\tIntegers of unlimited size followed by lowercase or uppercase L \n",
    "\tEx: 87032845L\n",
    "\n",
    "3.float(floating point)\n",
    "\n",
    "\tReal numbers with both integer and fractional part \n",
    "\tEx: -26.2\n",
    "\n",
    "4.Complex(complex)\n",
    "\tIn the form of a+bj where a forms the real part and b forms the imaginary part of complex number. \n",
    "\tEx: 3.14j"
   ]
  },
  {
   "cell_type": "markdown",
   "metadata": {},
   "source": [
    "### Boolean literals\n",
    "----------------------\n",
    "\n",
    "\t*A Boolean literal can have any of the two values: True(1) or False(0).\n",
    "\n",
    "Example:1\n",
    "\n",
    "\t>>> a=True\n",
    "\t>>> print (a)\n",
    "\tTrue\n",
    "\n",
    "Example:2\n",
    "\n",
    "\t>>> a=False\n",
    "\t>>> print (a)\n",
    "\tFalse"
   ]
  },
  {
   "cell_type": "markdown",
   "metadata": {},
   "source": [
    "### Special literals\n",
    "--------------------\n",
    "\n",
    "\t*Python contains one special literal i.e., None.\n",
    "\n",
    "\t*None is used to specify to that field that is not created. It is also used for end of lists in Python.\n",
    "\n",
    "Example:1\n",
    "\n",
    "\t>>> a=None\n",
    "\t>>> print (a)\n",
    "\tNone"
   ]
  }
 ],
 "metadata": {
  "kernelspec": {
   "display_name": "Python 3",
   "language": "python",
   "name": "python3"
  },
  "language_info": {
   "codemirror_mode": {
    "name": "ipython",
    "version": 3
   },
   "file_extension": ".py",
   "mimetype": "text/x-python",
   "name": "python",
   "nbconvert_exporter": "python",
   "pygments_lexer": "ipython3",
   "version": "3.7.3"
  }
 },
 "nbformat": 4,
 "nbformat_minor": 4
}
