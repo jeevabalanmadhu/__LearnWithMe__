{
 "cells": [
  {
   "cell_type": "markdown",
   "metadata": {},
   "source": [
    "# Python Casting\n",
    "\n",
    "## Specify a Variable Type:\n",
    "------------------------\n",
    "\n",
    "* There may be times when you want to specify a type on to a variable. \n",
    "\n",
    "* This can be done with casting. \n",
    "\n",
    "* Python is an object-orientated language, and as such it uses classes to define data types, including its primitive types.\n",
    "\n",
    "\n",
    "## Casting in python is therefore done using constructor functions:\n",
    "----------------------------------------------------------------\n",
    "\n",
    "\t1.int() - constructs an integer number from an integer literal, a float literal \n",
    "\t\t  (by rounding down to the previous whole number) literal, or a string literal \n",
    "\t\t  (providing the string represents a whole number)\n",
    "\n",
    "\t2.float() - constructs a float number from an integer literal, a float literal or a string literal \n",
    "\t\t    (providing the string represents a float or an integer)\n",
    "\n",
    "\t3.str() - constructs a string from a wide variety of data types, including strings, integer literals \n",
    "\t\t  and float literals"
   ]
  },
  {
   "cell_type": "code",
   "execution_count": null,
   "metadata": {},
   "outputs": [],
   "source": []
  }
 ],
 "metadata": {
  "kernelspec": {
   "display_name": "Python 3",
   "language": "python",
   "name": "python3"
  },
  "language_info": {
   "codemirror_mode": {
    "name": "ipython",
    "version": 3
   },
   "file_extension": ".py",
   "mimetype": "text/x-python",
   "name": "python",
   "nbconvert_exporter": "python",
   "pygments_lexer": "ipython3",
   "version": "3.7.3"
  }
 },
 "nbformat": 4,
 "nbformat_minor": 4
}
