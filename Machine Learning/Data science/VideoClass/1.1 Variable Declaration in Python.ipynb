{
 "cells": [
  {
   "cell_type": "markdown",
   "metadata": {},
   "source": [
    "# Variable Declaration"
   ]
  },
  {
   "cell_type": "markdown",
   "metadata": {},
   "source": [
    "\n",
    "\t1.Variable is a name of the memory location where data is stored. \n",
    "\n",
    "\t2.Once a variable is stored that means a space is allocated in memory.\n",
    "    \n",
    "\t3.Variable also known as identifier and used to hold value.\n",
    "\n",
    "\t4.In Python, we don't need to specify the type of variable because Python is a type infer language and smart enough to get variable type.\n",
    "\n",
    "\t5.Variable names can be a group of both letters and digits, but they have to begin with a letter or an underscore.\n",
    "          \n",
    "### Note:\n",
    "\n",
    "1. Variable name should not be a keyword.\n",
    "    \n",
    "2. Remember that variables are case-sensitive"
   ]
  },
  {
   "cell_type": "markdown",
   "metadata": {},
   "source": [
    "Assigning values to Variable:\n",
    "-----------------------------\n",
    "\t1.We need not to declare explicitly variable in Python.\n",
    "\n",
    "\t2.When we assign any value to the variable that variable is declared automatically.\n",
    "\n",
    "\t3.The assignment is done using the equal (=) operator."
   ]
  },
  {
   "cell_type": "markdown",
   "metadata": {},
   "source": [
    "### Multiple Assignment:\n",
    "\n",
    "1.Multiple assignment can be done in Python at a time.\n",
    "\n",
    "\tThere are two ways to assign values in Python:\n",
    "\n",
    "\t1. Assigning single value to multiple variables:\n",
    "\n",
    "\tExample:\n",
    "\t\ta=b=c=50  \n",
    "\n",
    "\n",
    "    2.Assigning multiple values to multiple variables:\n",
    "\n",
    "\tExample:\n",
    "\n",
    "\t\ta,b,c=5,10,15  "
   ]
  }
 ],
 "metadata": {
  "kernelspec": {
   "display_name": "Python 3",
   "language": "python",
   "name": "python3"
  },
  "language_info": {
   "codemirror_mode": {
    "name": "ipython",
    "version": 3
   },
   "file_extension": ".py",
   "mimetype": "text/x-python",
   "name": "python",
   "nbconvert_exporter": "python",
   "pygments_lexer": "ipython3",
   "version": "3.7.3"
  }
 },
 "nbformat": 4,
 "nbformat_minor": 4
}
