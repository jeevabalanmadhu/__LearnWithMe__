{
 "cells": [
  {
   "cell_type": "code",
   "execution_count": 5,
   "metadata": {},
   "outputs": [],
   "source": [
    "import pandas as pd\n",
    "import numpy as np\n",
    "path = r\"C:\\Users\\HP1\\Documents\\Machine Learning\\DataScienceClass\\Group.xlsx\"\n",
    "\n",
    "x1 = np.random.randn(100, 2)\n",
    "df1 = pd.DataFrame(x1)\n",
    "\n",
    "x2 = np.random.randn(100, 2)\n",
    "df2 = pd.DataFrame(x2)\n",
    "\n",
    "x3 = np.random.randn(100, 2)\n",
    "df3 = pd.DataFrame(x3)\n",
    "\n",
    "x4 = np.random.randn(100, 2)\n",
    "df4 = pd.DataFrame(x4)\n",
    "\n",
    "writer = pd.ExcelWriter(path, engine = 'xlsxwriter')\n",
    "# df1.to_excel(writer, sheet_name = 'x1')\n",
    "# df2.to_excel(writer, sheet_name = 'x2')\n",
    "# df3.to_excel(writer, 'x3', index=False)\n",
    "# df4.to_excel(writer, sheet_name ='x4',)\n",
    "\n",
    "with pd.ExcelWriter(path, engine='openpyxl', mode='a') as writer: \n",
    "     df4.to_excel(writer,sheet_name='x5') \n",
    "\n",
    "writer.save()\n",
    "writer.close()"
   ]
  },
  {
   "cell_type": "code",
   "execution_count": 28,
   "metadata": {},
   "outputs": [],
   "source": [
    "import pandas as pd\n",
    "from openpyxl import load_workbook\n",
    "path=\"Group.xlsx\"\n",
    "data_filtered = pd.DataFrame({'Data': [11, 12, 13, 14]}) \n",
    "book = load_workbook(path)\n",
    "writer = pd.ExcelWriter(path, engine='openpyxl') \n",
    "writer.book = book\n",
    "writer.sheets = dict((ws.title, ws) for ws in book.worksheets)\n",
    "\n",
    "data_filtered.to_excel(writer, \"Main2\")\n",
    "\n",
    "writer.save()"
   ]
  },
  {
   "cell_type": "code",
   "execution_count": 27,
   "metadata": {},
   "outputs": [
    {
     "name": "stdout",
     "output_type": "stream",
     "text": [
      "Sheet1\n",
      "{'Sheet1': <Worksheet \"Sheet1\">, 'Sheet2': <Worksheet \"Sheet2\">, 'Sheet3': <Worksheet \"Sheet3\">, 'new': <Worksheet \"new\">, 'new1': <Worksheet \"new1\">, 'new2': <Worksheet \"new2\">, 'Sheet11': <Worksheet \"Sheet11\">, 'x5': <Worksheet \"x5\">, 'Main': <Worksheet \"Main\">}\n"
     ]
    }
   ],
   "source": [
    "import pandas as pd\n",
    "from openpyxl import load_workbook\n",
    "path=\"Group.xlsx\"\n",
    "\n",
    "writer=pd.ExcelWriter(path,engine='openpyxl')\n",
    "writer.book=book\n",
    "writer.sheets=dict((ws.title, ws) for ws in book.worksheets)\n",
    "print(book.worksheets[0].title)\n",
    "print(writer.sheets)"
   ]
  },
  {
   "cell_type": "code",
   "execution_count": null,
   "metadata": {},
   "outputs": [],
   "source": [
    "Mydict=dict((ws.title, ws) for ws in book.worksheets)"
   ]
  }
 ],
 "metadata": {
  "kernelspec": {
   "display_name": "Python 3",
   "language": "python",
   "name": "python3"
  },
  "language_info": {
   "codemirror_mode": {
    "name": "ipython",
    "version": 3
   },
   "file_extension": ".py",
   "mimetype": "text/x-python",
   "name": "python",
   "nbconvert_exporter": "python",
   "pygments_lexer": "ipython3",
   "version": "3.7.3"
  }
 },
 "nbformat": 4,
 "nbformat_minor": 2
}
