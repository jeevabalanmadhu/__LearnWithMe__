{
 "cells": [
  {
   "cell_type": "code",
   "execution_count": null,
   "metadata": {},
   "outputs": [],
   "source": [
    "1. It can be used for both classification and regression problems.\n",
    "2. However, it is more widely used in classification problems in the industry\n",
    "3. K nearest neibours is a simple algorithm that stores all available cases and classifies new cases by a \n",
    "    majority vote of its k neighbors\n",
    "4. The case being assigned to the class is most common amongst its K nearest neighbors measured by a distance function\n",
    "5. These distance function can be Euclidean, Manhattan, Minkowski and Hamming distance\n",
    "6. First three function are used for continous function and fourth one (Hamming) for cateforical\n",
    "7. If K=1, then the case is simply assigned to the class of its nearest neighbor\n",
    "8. At times, choosing K turns out to be a challenge while performing kNN modeling."
   ]
  },
  {
   "cell_type": "code",
   "execution_count": 5,
   "metadata": {},
   "outputs": [
    {
     "name": "stdout",
     "output_type": "stream",
     "text": [
      "          Name  Age  Salary Department  Experience  Gender\n",
      "0      Sridevi   21   25000  Developer           1       0\n",
      "1      Sathish   23   26000  Developer           2       1\n",
      "2     Dhayalan   25   27000  Developer           3       1\n",
      "3         Teja   27   28000  Developer           4       1\n",
      "4         Rani   29   29000  Developer           5       0\n",
      "5       Sundar   31   30000  Developer           6       1\n",
      "6        Deepa   33   31000  Developer           7       0\n",
      "7  Jeyalakshmi   35   32000  Developer           8       0\n",
      "8       Prince   37   33000  Developer           9       1\n",
      "9      Shanker   40   34000  Developer          10       1\n",
      "x:    Age  Experience\n",
      "0   21           1\n",
      "1   23           2\n",
      "2   25           3\n",
      "3   27           4\n",
      "4   29           5\n",
      "5   31           6\n",
      "6   33           7\n",
      "7   35           8\n",
      "8   37           9\n",
      "9   40          10\n",
      "y:    Salary\n",
      "0   25000\n",
      "1   26000\n",
      "2   27000\n",
      "3   28000\n",
      "4   29000\n",
      "5   30000\n",
      "6   31000\n",
      "7   32000\n",
      "8   33000\n",
      "9   34000\n"
     ]
    },
    {
     "data": {
      "image/png": "[encoded data removed]",
      "text/plain": [
       "<Figure size 432x288 with 1 Axes>"
      ]
     },
     "metadata": {
      "needs_background": "light"
     },
     "output_type": "display_data"
    },
    {
     "name": "stdout",
     "output_type": "stream",
     "text": [
      "R^2 value: 0.1\n",
      "Salary prediction: [25000 28000]\n"
     ]
    },
    {
     "name": "stderr",
     "output_type": "stream",
     "text": [
      "C:\\Users\\HP1\\Anaconda3\\lib\\site-packages\\ipykernel_launcher.py:28: DataConversionWarning: A column-vector y was passed when a 1d array was expected. Please change the shape of y to (n_samples, ), for example using ravel().\n"
     ]
    }
   ],
   "source": [
    "#Getting data from excel sheet\n",
    "import pandas as pd\n",
    "df=pd.read_excel(r\"D:\\Learning\\Data science\\DATA\\PythonSpreadSheet.xls\",sheet_name=1)\n",
    "print(df)\n",
    "\n",
    "#Training Data\n",
    "x=df.loc[:,[\"Age\",\"Experience\"]]\n",
    "print(\"x:\",x)\n",
    "\n",
    "y=df.loc[:,['Salary']]\n",
    "print(\"y:\",y)\n",
    "\n",
    "#Graphs and charts:\n",
    "import matplotlib.pyplot as plt\n",
    "plt.scatter(df.Age,df.Salary,color=\"steelblue\")\n",
    "plt.scatter(df.Experience,df.Salary,color=\"steelblue\")\n",
    "plt.title(\"Line Plot-Age vs Salary\",color=\"Green\",fontsize=20)\n",
    "plt.xlabel(\"Age\",color=\"Red\",fontsize=12)\n",
    "plt.ylabel(\"Salary\",color=\"Red\",fontsize=12)\n",
    "plt.grid(True)\n",
    "plt.legend([\"Age vs Salary\",\"Experience vs Salary\"])\n",
    "plt.show()\n",
    "\n",
    "from sklearn.neighbors import KNeighborsClassifier\n",
    "\n",
    "model=KNeighborsClassifier(n_neighbors=5,metric='euclidean')\n",
    "\n",
    "model.fit(x,y)\n",
    "\n",
    "Goodness_Score=model.score(x,y)\n",
    "print(\"R^2 value:\",Goodness_Score)\n",
    "\n",
    "Salary_Prediction=model.predict([[21,1],[31,4]])\n",
    "print(\"Salary prediction:\",Salary_Prediction)"
   ]
  },
  {
   "cell_type": "code",
   "execution_count": null,
   "metadata": {},
   "outputs": [],
   "source": [
    "https://www.listendata.com/2017/12/k-nearest-neighbor-step-by-step-tutorial.html"
   ]
  }
 ],
 "metadata": {
  "kernelspec": {
   "display_name": "Python 3",
   "language": "python",
   "name": "python3"
  },
  "language_info": {
   "codemirror_mode": {
    "name": "ipython",
    "version": 3
   },
   "file_extension": ".py",
   "mimetype": "text/x-python",
   "name": "python",
   "nbconvert_exporter": "python",
   "pygments_lexer": "ipython3",
   "version": "3.7.3"
  }
 },
 "nbformat": 4,
 "nbformat_minor": 2
}
