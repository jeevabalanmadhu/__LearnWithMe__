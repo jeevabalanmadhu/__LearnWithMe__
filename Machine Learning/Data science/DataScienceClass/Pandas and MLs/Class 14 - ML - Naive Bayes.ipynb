{
 "cells": [
  {
   "cell_type": "code",
   "execution_count": null,
   "metadata": {},
   "outputs": [],
   "source": [
    "1. It is a classification technique based on Bayes`s theorem with an assumption of independence between predictors.\n",
    "2. In simple terms, a Naive Bayes classifier assumes that the presence of a particular \n",
    "feature in a class is unrelated to the presense of any other feature.\n",
    "3. For example, a fruit may be considered to be an apple if it is red, round, and about 3 inches in diameter\n",
    "4. Even if these features depend on each other or uplon the existence of the other \n",
    "features, a naive bayes classifier would consider all of these properties to independently \n",
    "contribute to the probability that this fruit is an apple\n",
    "5. Naive Bayesian model is easy to build and partibularly useful for very large data sets.\n",
    "6. Along with simplicity, Naive Bayes is known to outperform even highly sophisticated classification methods.\n",
    "\n",
    "Python code: #import Library\n",
    "from sklearn.naive_bayes import GaussianNB"
   ]
  },
  {
   "cell_type": "code",
   "execution_count": 4,
   "metadata": {},
   "outputs": [
    {
     "name": "stdout",
     "output_type": "stream",
     "text": [
      "     Name  Size  weight  Price  Encode\n",
      "0   Apple   1.2     100      5       1\n",
      "1   Apple   1.3     110      6       1\n",
      "2   Apple   1.4     120      7       1\n",
      "3  Orange   1.2     100     10       2\n",
      "4  Orange   1.3     110     11       2\n",
      "5  Orange   1.4     120     12       2\n",
      "x:    Size  weight  Price\n",
      "0   1.2     100      5\n",
      "1   1.3     110      6\n",
      "2   1.4     120      7\n",
      "3   1.2     100     10\n",
      "4   1.3     110     11\n",
      "5   1.4     120     12\n",
      "y:    Encode\n",
      "0       1\n",
      "1       1\n",
      "2       1\n",
      "3       2\n",
      "4       2\n",
      "5       2\n"
     ]
    },
    {
     "data": {
      "image/png": "[encoded data removed]",
      "text/plain": [
       "<Figure size 432x288 with 1 Axes>"
      ]
     },
     "metadata": {
      "needs_background": "light"
     },
     "output_type": "display_data"
    },
    {
     "name": "stdout",
     "output_type": "stream",
     "text": [
      "R^2 value: 1.0\n",
      "Salary prediction: [1]\n"
     ]
    },
    {
     "name": "stderr",
     "output_type": "stream",
     "text": [
      "C:\\Users\\HP1\\Anaconda3\\lib\\site-packages\\sklearn\\utils\\validation.py:761: DataConversionWarning: A column-vector y was passed when a 1d array was expected. Please change the shape of y to (n_samples, ), for example using ravel().\n",
      "  y = column_or_1d(y, warn=True)\n"
     ]
    }
   ],
   "source": [
    "#Getting data from excel sheet\n",
    "import pandas as pd\n",
    "df=pd.read_excel(r\"D:\\Learning\\Data science\\DATA\\PythonSpreadSheet.xls\",sheet_name=4)\n",
    "print(df)\n",
    "\n",
    "#Training Data input Size  weight  Price  Encode\n",
    "x=df.loc[:,[\"Size\",  \"weight\",  \"Price\"]]\n",
    "print(\"x:\",x)\n",
    "\n",
    "y=df.loc[:,['Encode']]\n",
    "print(\"y:\",y)\n",
    "\n",
    "#Graphs and charts:\n",
    "import matplotlib.pyplot as plt\n",
    "plt.scatter(df.Size,df.Encode,color=\"steelblue\")\n",
    "plt.scatter(df.weight,df.Encode,color=\"green\")\n",
    "plt.scatter(df.Price,df.Encode,color=\"Red\")\n",
    "\n",
    "plt.title(\"Line Plot-Size, weight & Price vs Encode\",color=\"Green\",fontsize=20)\n",
    "plt.xlabel(\"Size, weight & Price\",color=\"Red\",fontsize=12)\n",
    "plt.ylabel(\"Encode\",color=\"Red\",fontsize=12)\n",
    "plt.grid(True)\n",
    "plt.legend([\"Size vs Encode\", \"weight vs Encode\", \"Price vs Encode\",])\n",
    "plt.show()\n",
    "\n",
    "from sklearn.naive_bayes import GaussianNB\n",
    "\n",
    "model=GaussianNB()\n",
    "\n",
    "model.fit(x,y)\n",
    "\n",
    "Goodness_Score=model.score(x,y)\n",
    "print(\"R^2 value:\",Goodness_Score)\n",
    "\n",
    "Salary_Prediction=model.predict([[1.5,113,7]])\n",
    "print(\"Salary prediction:\",Salary_Prediction)"
   ]
  },
  {
   "cell_type": "code",
   "execution_count": null,
   "metadata": {},
   "outputs": [],
   "source": []
  }
 ],
 "metadata": {
  "kernelspec": {
   "display_name": "Python 3",
   "language": "python",
   "name": "python3"
  },
  "language_info": {
   "codemirror_mode": {
    "name": "ipython",
    "version": 3
   },
   "file_extension": ".py",
   "mimetype": "text/x-python",
   "name": "python",
   "nbconvert_exporter": "python",
   "pygments_lexer": "ipython3",
   "version": "3.7.3"
  }
 },
 "nbformat": 4,
 "nbformat_minor": 2
}
