{
 "cells": [
  {
   "cell_type": "markdown",
   "metadata": {},
   "source": [
    "Indexing and selecting\n",
    "-------------------------------------\n",
    "* The python and numpy indexing operations \"[]\" and attribute operator \".\" \n",
    "provide quick and easy access to pandas data structure across a wide range of use cases."
   ]
  },
  {
   "cell_type": "markdown",
   "metadata": {},
   "source": [
    "Data pre-processing or data mining\n",
    "----------------------------------------------------\n",
    "\n",
    "1. .iloc() --> Integer based\n",
    "2. .loc() --> Label based\n",
    "3. .ix() --> Both label based and interger based\n",
    "\n"
   ]
  },
  {
   "cell_type": "code",
   "execution_count": 2,
   "metadata": {},
   "outputs": [
    {
     "name": "stdout",
     "output_type": "stream",
     "text": [
      "  FirstName    LastName  Salary  Rating\n",
      "0     jeeva       madhu   89897     6.4\n",
      "1   dhinesh  sivalingam   98988     8.0\n",
      "2    ganesh       sivam    6546     9.0\n",
      "3     manoj       kumar   87789     7.1\n",
      "4      mani        samy    6000     3.0\n",
      "5      Raja        mani   12354     4.0\n",
      "6     kumar       jeeva   85555     6.0\n",
      "7      bala       kumar    4142     7.0\n"
     ]
    }
   ],
   "source": [
    "import pandas as pd\n",
    "dataFrame=pd.read_excel(\"D:/Learning/Data science/testdata.xlsx\",sheetname=\"test\")\n",
    "print(dataFrame)"
   ]
  },
  {
   "cell_type": "code",
   "execution_count": 6,
   "metadata": {},
   "outputs": [
    {
     "name": "stdout",
     "output_type": "stream",
     "text": [
      "  FirstName    LastName\n",
      "0     jeeva       madhu\n",
      "1   dhinesh  sivalingam\n",
      "2    ganesh       sivam\n",
      "3     manoj       kumar\n",
      "4      mani        samy\n",
      "5      Raja        mani\n",
      "6     kumar       jeeva\n",
      "7      bala       kumar\n"
     ]
    }
   ],
   "source": [
    "print(dataFrame.iloc[0:,0:2])"
   ]
  },
  {
   "cell_type": "code",
   "execution_count": 8,
   "metadata": {},
   "outputs": [
    {
     "name": "stdout",
     "output_type": "stream",
     "text": [
      "     LastName  Rating\n",
      "1  sivalingam     8.0\n",
      "5        mani     4.0\n",
      "7       kumar     7.0\n"
     ]
    }
   ],
   "source": [
    "print(dataFrame.iloc[[1,5,7],[1,3]])"
   ]
  },
  {
   "cell_type": "code",
   "execution_count": 9,
   "metadata": {},
   "outputs": [
    {
     "name": "stdout",
     "output_type": "stream",
     "text": [
      "     LastName  Salary\n",
      "1  sivalingam   98988\n",
      "2       sivam    6546\n",
      "3       kumar   87789\n",
      "4        samy    6000\n",
      "5        mani   12354\n",
      "6       jeeva   85555\n"
     ]
    }
   ],
   "source": [
    "print(dataFrame.loc[1:6,\"LastName\":\"Salary\"])"
   ]
  },
  {
   "cell_type": "code",
   "execution_count": 11,
   "metadata": {},
   "outputs": [
    {
     "name": "stdout",
     "output_type": "stream",
     "text": [
      "  FirstName    LastName  Salary\n",
      "1   dhinesh  sivalingam   98988\n",
      "2    ganesh       sivam    6546\n",
      "3     manoj       kumar   87789\n"
     ]
    },
    {
     "name": "stderr",
     "output_type": "stream",
     "text": [
      "C:\\Users\\HP1\\Anaconda3\\lib\\site-packages\\ipykernel_launcher.py:1: DeprecationWarning: \n",
      ".ix is deprecated. Please use\n",
      ".loc for label based indexing or\n",
      ".iloc for positional indexing\n",
      "\n",
      "See the documentation here:\n",
      "http://pandas.pydata.org/pandas-docs/stable/indexing.html#ix-indexer-is-deprecated\n",
      "  \"\"\"Entry point for launching an IPython kernel.\n"
     ]
    }
   ],
   "source": [
    "print(dataFrame.ix[1:3,\"FirstName\":\"Salary\"])"
   ]
  },
  {
   "cell_type": "code",
   "execution_count": null,
   "metadata": {},
   "outputs": [],
   "source": []
  }
 ],
 "metadata": {
  "kernelspec": {
   "display_name": "Python 3",
   "language": "python",
   "name": "python3"
  },
  "language_info": {
   "codemirror_mode": {
    "name": "ipython",
    "version": 3
   },
   "file_extension": ".py",
   "mimetype": "text/x-python",
   "name": "python",
   "nbconvert_exporter": "python",
   "pygments_lexer": "ipython3",
   "version": "3.7.3"
  }
 },
 "nbformat": 4,
 "nbformat_minor": 2
}
