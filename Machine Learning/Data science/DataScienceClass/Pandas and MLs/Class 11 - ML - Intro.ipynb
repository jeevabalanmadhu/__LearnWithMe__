{
 "cells": [
  {
   "cell_type": "code",
   "execution_count": null,
   "metadata": {},
   "outputs": [],
   "source": [
    "* Data science is also called as Data prediction(analytics) using machine learning\n",
    "\n",
    "* Algorithm --> solving problem through steps\n",
    "\n",
    "Two types of learning:\n",
    "    1. Supervised learning\n",
    "    2. Unsupervised learning\n",
    "\n",
    "1. Supervised learning:\n",
    "    * Regression\n",
    "    * Regression and classification \n",
    "    1. Simple(single) linear regression\n",
    "    2. Multiple linear regression\n",
    "    3. Logistics regression\n",
    "    4. Decision tree\n",
    "    5. Random forest\n",
    "    6. KNN (K-nearest neibour)\n",
    "    7. Naive Bayes\n",
    "    \n",
    "2. Unsupervised learning:\n",
    "    *clustering\n",
    "    *classification\n",
    "    1. K-means clustoring"
   ]
  },
  {
   "cell_type": "code",
   "execution_count": null,
   "metadata": {},
   "outputs": [],
   "source": [
    "SLR (Simple or single linear regression):\n",
    "    * Regression analysis is a very used statistical tool to estabilish a relationship model between two variable.\n",
    "    * One of these variable is called predictor variable whose value is gathered through experiments\n",
    "    * The other variable is called response variable whose value is derived from the predictor variable\n",
    "    * In linear regression these two variables are related through an exquation, where exponent (power) of these variable is 1\n",
    "    * Mathematically a linear relationship represents a straight line when plotted as a graph\n",
    "    * A non-linear relationship where the exponent of any variable is not equal to 1 creates curve\n",
    "    \n",
    "The general mathematical equation for a linear equation is:\n",
    "    y=ax+b\n",
    "Following are the description of the parameter used:\n",
    "    1. y is the response variable\n",
    "    2. x is the predictor variable\n",
    "    3. a(correlation co-efficient) and b(intercept) are constents which are called co-efficient"
   ]
  }
 ],
 "metadata": {
  "kernelspec": {
   "display_name": "Python 3",
   "language": "python",
   "name": "python3"
  },
  "language_info": {
   "codemirror_mode": {
    "name": "ipython",
    "version": 3
   },
   "file_extension": ".py",
   "mimetype": "text/x-python",
   "name": "python",
   "nbconvert_exporter": "python",
   "pygments_lexer": "ipython3",
   "version": "3.7.3"
  }
 },
 "nbformat": 4,
 "nbformat_minor": 2
}
