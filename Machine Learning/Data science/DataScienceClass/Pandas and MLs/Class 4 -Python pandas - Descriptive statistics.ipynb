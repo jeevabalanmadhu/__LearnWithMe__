{
 "cells": [
  {
   "cell_type": "markdown",
   "metadata": {},
   "source": [
    "# Python pandas - Descriptive statistics:"
   ]
  },
  {
   "cell_type": "markdown",
   "metadata": {},
   "source": [
    "* A large number of method collectively compute descriptive statistics and other related operations on dataframe"
   ]
  },
  {
   "cell_type": "markdown",
   "metadata": {},
   "source": [
    "Functions and Description\n",
    "--------------------------------------\n",
    "\n",
    "S.No------------Function-------------------Description\n",
    "1. --------------count()-------------------Number of non-null observations\n",
    "2. --------------sum()---------------------sum of values\n",
    "3. --------------mean()--------------------mean of values\n",
    "4. --------------median()------------------median of values\n",
    "5. --------------mode()--------------------mode of values\n",
    "6. --------------std()---------------------standard division of values\n",
    "7. --------------min()---------------------minimum value\n",
    "8. --------------max()---------------------maximum value\n",
    "9. abs() - absolute value\n",
    "10. prod() - product of value\n",
    "11. cunsum() - cumulative sum\n",
    "12. cunprod() - cumulative product\n",
    "13. transpose() - transfer rows and columns values\n",
    "14. describe() - summary of statistics\n"
   ]
  },
  {
   "cell_type": "code",
   "execution_count": 12,
   "metadata": {},
   "outputs": [
    {
     "name": "stdout",
     "output_type": "stream",
     "text": [
      "  FirstName    LastName  Salary  Rating\n",
      "0     jeeva       madhu   89897     6.4\n",
      "1   dhinesh  sivalingam   98988     8.0\n",
      "2    ganesh       sivam    6546     9.0\n",
      "3     manoj       kumar   87789     7.1\n",
      "4      mani        samy    6000     3.0\n",
      "5      Raja        mani   12354     4.0\n",
      "6     kumar       jeeva   85555     6.0\n",
      "7      bala       kumar    4142     7.0\n",
      "--------------------\n",
      "size: \n",
      " 32\n",
      "--------------------\n",
      "Count: \n",
      " FirstName    8\n",
      "LastName     8\n",
      "Salary       8\n",
      "Rating       8\n",
      "dtype: int64\n",
      "--------------------\n",
      "sum: \n",
      " FirstName       jeevadhineshganeshmanojmaniRajakumarbala\n",
      "LastName     madhusivalingamsivamkumarsamymanijeevakumar\n",
      "Salary                                            391271\n",
      "Rating                                              50.5\n",
      "dtype: object\n",
      "--------------------\n",
      "sum: \n",
      " 391271\n",
      "sum: \n",
      " 50.5\n",
      "--------------------\n",
      "mean: \n",
      " Salary    48908.8750\n",
      "Rating        6.3125\n",
      "dtype: float64\n",
      "--------------------\n",
      "median: \n",
      " Salary    48954.5\n",
      "Rating        6.7\n",
      "dtype: float64\n",
      "--------------------\n",
      "std: \n",
      " Salary    44751.160344\n",
      "Rating        1.985258\n",
      "dtype: float64\n",
      "--------------------\n",
      "minumum: \n",
      " FirstName     Raja\n",
      "LastName     jeeva\n",
      "Salary        4142\n",
      "Rating           3\n",
      "dtype: object\n",
      "--------------------\n",
      "maximum: \n",
      " FirstName    manoj\n",
      "LastName     sivam\n",
      "Salary       98988\n",
      "Rating           9\n",
      "dtype: object\n",
      "--------------------\n",
      "abs: \n",
      " 0    6.4\n",
      "1    8.0\n",
      "2    9.0\n",
      "3    7.1\n",
      "4    3.0\n",
      "5    4.0\n",
      "6    6.0\n",
      "7    7.0\n",
      "Name: Rating, dtype: float64\n",
      "--------------------\n",
      "prod: \n",
      " Salary    1.343254e+35\n",
      "Rating    1.648927e+06\n",
      "dtype: float64\n",
      "--------------------\n",
      "cumsum: \n",
      "                                   FirstName  \\\n",
      "0                                     jeeva   \n",
      "1                              jeevadhinesh   \n",
      "2                        jeevadhineshganesh   \n",
      "3                   jeevadhineshganeshmanoj   \n",
      "4               jeevadhineshganeshmanojmani   \n",
      "5           jeevadhineshganeshmanojmaniRaja   \n",
      "6      jeevadhineshganeshmanojmaniRajakumar   \n",
      "7  jeevadhineshganeshmanojmaniRajakumarbala   \n",
      "\n",
      "                                      LastName  Salary Rating  \n",
      "0                                        madhu   89897    6.4  \n",
      "1                              madhusivalingam  188885   14.4  \n",
      "2                         madhusivalingamsivam  195431   23.4  \n",
      "3                    madhusivalingamsivamkumar  283220   30.5  \n",
      "4                madhusivalingamsivamkumarsamy  289220   33.5  \n",
      "5            madhusivalingamsivamkumarsamymani  301574   37.5  \n",
      "6       madhusivalingamsivamkumarsamymanijeeva  387129   43.5  \n",
      "7  madhusivalingamsivamkumarsamymanijeevakumar  391271   50.5  \n",
      "--------------------\n"
     ]
    },
    {
     "ename": "TypeError",
     "evalue": "can't multiply sequence by non-int of type 'str'",
     "output_type": "error",
     "traceback": [
      "\u001b[1;31m---------------------------------------------------------------------------\u001b[0m",
      "\u001b[1;31mTypeError\u001b[0m                                 Traceback (most recent call last)",
      "\u001b[1;32m<ipython-input-12-c211fc703ef9>\u001b[0m in \u001b[0;36m<module>\u001b[1;34m\u001b[0m\n\u001b[0;32m     28\u001b[0m \u001b[0mprint\u001b[0m\u001b[1;33m(\u001b[0m\u001b[1;34m\"cumsum: \\n\"\u001b[0m\u001b[1;33m,\u001b[0m\u001b[0mdataFrame\u001b[0m\u001b[1;33m.\u001b[0m\u001b[0mcumsum\u001b[0m\u001b[1;33m(\u001b[0m\u001b[1;33m)\u001b[0m\u001b[1;33m)\u001b[0m\u001b[1;33m\u001b[0m\u001b[1;33m\u001b[0m\u001b[0m\n\u001b[0;32m     29\u001b[0m \u001b[0mprint\u001b[0m\u001b[1;33m(\u001b[0m\u001b[1;34m\"--------------------\"\u001b[0m\u001b[1;33m)\u001b[0m\u001b[1;33m\u001b[0m\u001b[1;33m\u001b[0m\u001b[0m\n\u001b[1;32m---> 30\u001b[1;33m \u001b[0mprint\u001b[0m\u001b[1;33m(\u001b[0m\u001b[1;34m\"cumprod: \\n\"\u001b[0m\u001b[1;33m,\u001b[0m\u001b[0mdataFrame\u001b[0m\u001b[1;33m.\u001b[0m\u001b[0mcumprod\u001b[0m\u001b[1;33m(\u001b[0m\u001b[1;33m)\u001b[0m\u001b[1;33m)\u001b[0m\u001b[1;33m\u001b[0m\u001b[1;33m\u001b[0m\u001b[0m\n\u001b[0m",
      "\u001b[1;32m~\\Anaconda3\\lib\\site-packages\\pandas\\core\\generic.py\u001b[0m in \u001b[0;36mcum_func\u001b[1;34m(self, axis, skipna, *args, **kwargs)\u001b[0m\n\u001b[0;32m  11002\u001b[0m             \u001b[0mmask\u001b[0m \u001b[1;33m=\u001b[0m \u001b[0misna\u001b[0m\u001b[1;33m(\u001b[0m\u001b[0mself\u001b[0m\u001b[1;33m)\u001b[0m\u001b[1;33m\u001b[0m\u001b[1;33m\u001b[0m\u001b[0m\n\u001b[0;32m  11003\u001b[0m             \u001b[0mnp\u001b[0m\u001b[1;33m.\u001b[0m\u001b[0mputmask\u001b[0m\u001b[1;33m(\u001b[0m\u001b[0my\u001b[0m\u001b[1;33m,\u001b[0m \u001b[0mmask\u001b[0m\u001b[1;33m,\u001b[0m \u001b[0mmask_a\u001b[0m\u001b[1;33m)\u001b[0m\u001b[1;33m\u001b[0m\u001b[1;33m\u001b[0m\u001b[0m\n\u001b[1;32m> 11004\u001b[1;33m             \u001b[0mresult\u001b[0m \u001b[1;33m=\u001b[0m \u001b[0maccum_func\u001b[0m\u001b[1;33m(\u001b[0m\u001b[0my\u001b[0m\u001b[1;33m,\u001b[0m \u001b[0maxis\u001b[0m\u001b[1;33m)\u001b[0m\u001b[1;33m\u001b[0m\u001b[1;33m\u001b[0m\u001b[0m\n\u001b[0m\u001b[0;32m  11005\u001b[0m             \u001b[0mnp\u001b[0m\u001b[1;33m.\u001b[0m\u001b[0mputmask\u001b[0m\u001b[1;33m(\u001b[0m\u001b[0mresult\u001b[0m\u001b[1;33m,\u001b[0m \u001b[0mmask\u001b[0m\u001b[1;33m,\u001b[0m \u001b[0mmask_b\u001b[0m\u001b[1;33m)\u001b[0m\u001b[1;33m\u001b[0m\u001b[1;33m\u001b[0m\u001b[0m\n\u001b[0;32m  11006\u001b[0m         \u001b[1;32melse\u001b[0m\u001b[1;33m:\u001b[0m\u001b[1;33m\u001b[0m\u001b[1;33m\u001b[0m\u001b[0m\n",
      "\u001b[1;32m~\\Anaconda3\\lib\\site-packages\\pandas\\core\\generic.py\u001b[0m in \u001b[0;36m<lambda>\u001b[1;34m(y, axis)\u001b[0m\n\u001b[0;32m  10055\u001b[0m         cls.cumprod = _make_cum_function(\n\u001b[0;32m  10056\u001b[0m             \u001b[0mcls\u001b[0m\u001b[1;33m,\u001b[0m \u001b[1;34m'cumprod'\u001b[0m\u001b[1;33m,\u001b[0m \u001b[0mname\u001b[0m\u001b[1;33m,\u001b[0m \u001b[0mname2\u001b[0m\u001b[1;33m,\u001b[0m \u001b[0maxis_descr\u001b[0m\u001b[1;33m,\u001b[0m \u001b[1;34m\"product\"\u001b[0m\u001b[1;33m,\u001b[0m\u001b[1;33m\u001b[0m\u001b[1;33m\u001b[0m\u001b[0m\n\u001b[1;32m> 10057\u001b[1;33m             \u001b[1;32mlambda\u001b[0m \u001b[0my\u001b[0m\u001b[1;33m,\u001b[0m \u001b[0maxis\u001b[0m\u001b[1;33m:\u001b[0m \u001b[0my\u001b[0m\u001b[1;33m.\u001b[0m\u001b[0mcumprod\u001b[0m\u001b[1;33m(\u001b[0m\u001b[0maxis\u001b[0m\u001b[1;33m)\u001b[0m\u001b[1;33m,\u001b[0m \u001b[1;34m\"prod\"\u001b[0m\u001b[1;33m,\u001b[0m \u001b[1;36m1.\u001b[0m\u001b[1;33m,\u001b[0m\u001b[1;33m\u001b[0m\u001b[1;33m\u001b[0m\u001b[0m\n\u001b[0m\u001b[0;32m  10058\u001b[0m             np.nan, _cumprod_examples)\n\u001b[0;32m  10059\u001b[0m         cls.cummax = _make_cum_function(\n",
      "\u001b[1;31mTypeError\u001b[0m: can't multiply sequence by non-int of type 'str'"
     ]
    }
   ],
   "source": [
    "import pandas as pd\n",
    "dataFrame=pd.read_excel(\"D:/Learning/Data science/testdata.xlsx\",sheetname=\"test\")\n",
    "print(dataFrame)\n",
    "print(\"--------------------\")\n",
    "print(\"size: \\n\",dataFrame.size)\n",
    "print(\"--------------------\")\n",
    "print(\"Count: \\n\",dataFrame.count())\n",
    "print(\"--------------------\")\n",
    "print(\"sum: \\n\",dataFrame.sum())\n",
    "print(\"--------------------\")\n",
    "print(\"sum: \\n\",dataFrame[\"Salary\"].sum())\n",
    "print(\"sum: \\n\",dataFrame[\"Rating\"].sum())\n",
    "print(\"--------------------\")\n",
    "print(\"mean: \\n\",dataFrame.mean())\n",
    "print(\"--------------------\")\n",
    "print(\"median: \\n\",dataFrame.median())\n",
    "print(\"--------------------\")\n",
    "print(\"std: \\n\",dataFrame.std())\n",
    "print(\"--------------------\")\n",
    "print(\"minumum: \\n\",dataFrame.min())\n",
    "print(\"--------------------\")\n",
    "print(\"maximum: \\n\",dataFrame.max())\n",
    "print(\"--------------------\")\n",
    "print(\"abs: \\n\",dataFrame[\"Rating\"].abs())\n",
    "print(\"--------------------\")\n",
    "print(\"prod: \\n\",dataFrame.prod())\n",
    "print(\"--------------------\")\n",
    "print(\"cumsum: \\n\",dataFrame.cumsum())\n",
    "print(\"--------------------\")\n",
    "print(\"cumprod: \\n\",dataFrame.cumprod())"
   ]
  },
  {
   "cell_type": "code",
   "execution_count": 5,
   "metadata": {},
   "outputs": [
    {
     "name": "stdout",
     "output_type": "stream",
     "text": [
      "   0\n",
      "0 -5\n",
      "1  3\n",
      "2  5\n",
      "3 -7\n",
      "\n",
      "\n",
      "Absolute value of myList values\n",
      "    0\n",
      "0  5\n",
      "1  3\n",
      "2  5\n",
      "3  7\n"
     ]
    }
   ],
   "source": [
    "myList=[-5,3,5,-7]\n",
    "\n",
    "import pandas as pd\n",
    "df=pd.DataFrame(data=myList)\n",
    "print(df)\n",
    "print(\"\\n\")\n",
    "\n",
    "print(\"Absolute value of myList values\\n\",df.abs())"
   ]
  },
  {
   "cell_type": "code",
   "execution_count": 8,
   "metadata": {},
   "outputs": [
    {
     "ename": "AttributeError",
     "evalue": "'DataFrame' object has no attribute 'cunsum'",
     "output_type": "error",
     "traceback": [
      "\u001b[1;31m---------------------------------------------------------------------------\u001b[0m",
      "\u001b[1;31mAttributeError\u001b[0m                            Traceback (most recent call last)",
      "\u001b[1;32m<ipython-input-8-aba80aceb3db>\u001b[0m in \u001b[0;36m<module>\u001b[1;34m\u001b[0m\n\u001b[1;32m----> 1\u001b[1;33m \u001b[0mprint\u001b[0m\u001b[1;33m(\u001b[0m\u001b[1;34m\"prod: \\n\"\u001b[0m\u001b[1;33m,\u001b[0m\u001b[0mdataFrame\u001b[0m\u001b[1;33m.\u001b[0m\u001b[0mcunsum\u001b[0m\u001b[1;33m(\u001b[0m\u001b[1;33m)\u001b[0m\u001b[1;33m)\u001b[0m\u001b[1;33m\u001b[0m\u001b[1;33m\u001b[0m\u001b[0m\n\u001b[0m",
      "\u001b[1;32m~\\Anaconda3\\lib\\site-packages\\pandas\\core\\generic.py\u001b[0m in \u001b[0;36m__getattr__\u001b[1;34m(self, name)\u001b[0m\n\u001b[0;32m   5065\u001b[0m             \u001b[1;32mif\u001b[0m \u001b[0mself\u001b[0m\u001b[1;33m.\u001b[0m\u001b[0m_info_axis\u001b[0m\u001b[1;33m.\u001b[0m\u001b[0m_can_hold_identifiers_and_holds_name\u001b[0m\u001b[1;33m(\u001b[0m\u001b[0mname\u001b[0m\u001b[1;33m)\u001b[0m\u001b[1;33m:\u001b[0m\u001b[1;33m\u001b[0m\u001b[1;33m\u001b[0m\u001b[0m\n\u001b[0;32m   5066\u001b[0m                 \u001b[1;32mreturn\u001b[0m \u001b[0mself\u001b[0m\u001b[1;33m[\u001b[0m\u001b[0mname\u001b[0m\u001b[1;33m]\u001b[0m\u001b[1;33m\u001b[0m\u001b[1;33m\u001b[0m\u001b[0m\n\u001b[1;32m-> 5067\u001b[1;33m             \u001b[1;32mreturn\u001b[0m \u001b[0mobject\u001b[0m\u001b[1;33m.\u001b[0m\u001b[0m__getattribute__\u001b[0m\u001b[1;33m(\u001b[0m\u001b[0mself\u001b[0m\u001b[1;33m,\u001b[0m \u001b[0mname\u001b[0m\u001b[1;33m)\u001b[0m\u001b[1;33m\u001b[0m\u001b[1;33m\u001b[0m\u001b[0m\n\u001b[0m\u001b[0;32m   5068\u001b[0m \u001b[1;33m\u001b[0m\u001b[0m\n\u001b[0;32m   5069\u001b[0m     \u001b[1;32mdef\u001b[0m \u001b[0m__setattr__\u001b[0m\u001b[1;33m(\u001b[0m\u001b[0mself\u001b[0m\u001b[1;33m,\u001b[0m \u001b[0mname\u001b[0m\u001b[1;33m,\u001b[0m \u001b[0mvalue\u001b[0m\u001b[1;33m)\u001b[0m\u001b[1;33m:\u001b[0m\u001b[1;33m\u001b[0m\u001b[1;33m\u001b[0m\u001b[0m\n",
      "\u001b[1;31mAttributeError\u001b[0m: 'DataFrame' object has no attribute 'cunsum'"
     ]
    }
   ],
   "source": [
    "print(\"prod: \\n\",dataFrame.cunsum())"
   ]
  },
  {
   "cell_type": "code",
   "execution_count": null,
   "metadata": {},
   "outputs": [],
   "source": []
  }
 ],
 "metadata": {
  "kernelspec": {
   "display_name": "Python 3",
   "language": "python",
   "name": "python3"
  },
  "language_info": {
   "codemirror_mode": {
    "name": "ipython",
    "version": 3
   },
   "file_extension": ".py",
   "mimetype": "text/x-python",
   "name": "python",
   "nbconvert_exporter": "python",
   "pygments_lexer": "ipython3",
   "version": "3.7.3"
  }
 },
 "nbformat": 4,
 "nbformat_minor": 2
}
