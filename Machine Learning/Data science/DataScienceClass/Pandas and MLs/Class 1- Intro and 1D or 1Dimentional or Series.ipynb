{
 "cells": [
  {
   "cell_type": "markdown",
   "metadata": {},
   "source": [
    "# Pandas Intro"
   ]
  },
  {
   "cell_type": "markdown",
   "metadata": {},
   "source": [
    "1. 1D or one dimentional or series \n",
    "\n",
    "2. 2D or two dimentional or DataFrame\n",
    "\n",
    "3. 3D or three dimentional or Panel\n",
    "\n",
    "(Pa)nel + (Da)ta'(s)=Pandas\n"
   ]
  },
  {
   "cell_type": "markdown",
   "metadata": {},
   "source": [
    "# 1D or one dimentional or series"
   ]
  },
  {
   "cell_type": "markdown",
   "metadata": {},
   "source": [
    "1. List\n",
    "2. Tuple\n",
    "3. Dictionary\n",
    "4. Array or ndarray - number dimentional array\n",
    "\n",
    "Structure:\n",
    "---------------\n",
    "\n",
    "Index or Rows or axis=0 or major_axis\n",
    "\n",
    "Import Pandas\n",
    "pandas.Series(data, index, dtype, copy)"
   ]
  },
  {
   "cell_type": "code",
   "execution_count": 1,
   "metadata": {},
   "outputs": [
    {
     "name": "stdout",
     "output_type": "stream",
     "text": [
      "[10, 'data', 3.15]\n",
      "\n",
      "Using pandas package for series data conversion\n",
      "0      10\n",
      "1    data\n",
      "2    3.15\n",
      "dtype: object\n"
     ]
    }
   ],
   "source": [
    "MyList=[10, \"data\", 3.15]\n",
    "print(MyList)\n",
    "\n",
    "print(\"\\nUsing pandas package for series data conversion\")\n",
    "import pandas\n",
    "series_data=pandas.Series(data=MyList)\n",
    "print(series_data)"
   ]
  },
  {
   "cell_type": "code",
   "execution_count": 2,
   "metadata": {},
   "outputs": [
    {
     "name": "stdout",
     "output_type": "stream",
     "text": [
      "[10, 'data', 3.15]\n",
      "\n",
      "Using pandas package for series data conversion\n",
      "row1      10\n",
      "row2    data\n",
      "row3    3.15\n",
      "dtype: object\n",
      "\n",
      "data\n",
      "\n",
      "3.15\n"
     ]
    }
   ],
   "source": [
    "MyList=[10, \"data\", 3.15]\n",
    "print(MyList)\n",
    "\n",
    "print(\"\\nUsing pandas package for series data conversion\")\n",
    "import pandas\n",
    "series_data=pandas.Series(data=MyList,index=[\"row1\",\"row2\",\"row3\"])\n",
    "print(series_data)\n",
    "print()\n",
    "print(series_data[1])\n",
    "print()\n",
    "print(series_data[\"row3\"])"
   ]
  },
  {
   "cell_type": "code",
   "execution_count": 4,
   "metadata": {},
   "outputs": [
    {
     "name": "stdout",
     "output_type": "stream",
     "text": [
      "(10, 'data', 3.15)\n",
      "\n",
      "Using pandas package for series data conversion\n",
      "row1      10\n",
      "row2    data\n",
      "row3    3.15\n",
      "dtype: object\n"
     ]
    }
   ],
   "source": [
    "MyTuple=(10, \"data\", 3.15)\n",
    "print(MyTuple)\n",
    "\n",
    "print(\"\\nUsing pandas package for series data conversion\")\n",
    "import pandas\n",
    "series_data=pandas.Series(data=MyTuple,index=[\"row1\",\"row2\",\"row3\"])\n",
    "print(series_data)"
   ]
  },
  {
   "cell_type": "code",
   "execution_count": 5,
   "metadata": {},
   "outputs": [
    {
     "name": "stdout",
     "output_type": "stream",
     "text": [
      "{'name': 'Jeevabalan', 'age': 34, 'rank': 6.8}\n",
      "\n",
      "Using pandas package for series data conversion\n",
      "name    Jeevabalan\n",
      "age             34\n",
      "rank           6.8\n",
      "dtype: object\n"
     ]
    }
   ],
   "source": [
    "MyDict={\"name\":\"Jeevabalan\",\"age\":34,\"rank\":6.8}\n",
    "print(MyDict)\n",
    "\n",
    "print(\"\\nUsing pandas package for series data conversion\")\n",
    "import pandas\n",
    "series_data=pandas.Series(data=MyDict)\n",
    "print(series_data)"
   ]
  },
  {
   "cell_type": "code",
   "execution_count": 6,
   "metadata": {},
   "outputs": [
    {
     "name": "stdout",
     "output_type": "stream",
     "text": [
      "{'name': 'Jeevabalan', 'age': 34, 'rank': 6.8}\n",
      "\n",
      "Using pandas package for series data conversion\n",
      "row1    NaN\n",
      "row2    NaN\n",
      "row3    NaN\n",
      "dtype: object\n"
     ]
    }
   ],
   "source": [
    "MyDict={\"name\":\"Jeevabalan\",\"age\":34,\"rank\":6.8}\n",
    "print(MyDict)\n",
    "\n",
    "print(\"\\nUsing pandas package for series data conversion\")\n",
    "import pandas\n",
    "series_data=pandas.Series(data=MyDict,index=[\"row1\",\"row2\",\"row3\"])\n",
    "print(series_data)"
   ]
  },
  {
   "cell_type": "code",
   "execution_count": 7,
   "metadata": {},
   "outputs": [
    {
     "name": "stdout",
     "output_type": "stream",
     "text": [
      "{'name': 'Jeevabalan', 'age': 34, 'rank': 6.8}\n",
      "\n",
      "Using pandas package for series data conversion\n",
      "age             34\n",
      "name    Jeevabalan\n",
      "rank           6.8\n",
      "dtype: object\n"
     ]
    }
   ],
   "source": [
    "MyDict={\"name\":\"Jeevabalan\",\"age\":34,\"rank\":6.8}\n",
    "print(MyDict)\n",
    "\n",
    "print(\"\\nUsing pandas package for series data conversion\")\n",
    "import pandas\n",
    "series_data=pandas.Series(data=MyDict,index=[\"age\",\"name\",\"rank\"])\n",
    "print(series_data)"
   ]
  },
  {
   "cell_type": "code",
   "execution_count": 8,
   "metadata": {},
   "outputs": [
    {
     "name": "stdout",
     "output_type": "stream",
     "text": [
      "[10 20 30]\n",
      "\n",
      "Using pandas package for series data conversion\n",
      "ID1    10\n",
      "ID2    20\n",
      "ID3    30\n",
      "dtype: int32\n"
     ]
    }
   ],
   "source": [
    "import numpy\n",
    "MyData=numpy.array([10,20,30])\n",
    "print(MyData)\n",
    "\n",
    "print(\"\\nUsing pandas package for series data conversion\")\n",
    "import pandas\n",
    "series_data=pandas.Series(data=MyData,index=[\"ID1\",\"ID2\",\"ID3\"])\n",
    "print(series_data)"
   ]
  },
  {
   "cell_type": "code",
   "execution_count": null,
   "metadata": {},
   "outputs": [],
   "source": []
  }
 ],
 "metadata": {
  "kernelspec": {
   "display_name": "Python 3",
   "language": "python",
   "name": "python3"
  },
  "language_info": {
   "codemirror_mode": {
    "name": "ipython",
    "version": 3
   },
   "file_extension": ".py",
   "mimetype": "text/x-python",
   "name": "python",
   "nbconvert_exporter": "python",
   "pygments_lexer": "ipython3",
   "version": "3.7.3"
  }
 },
 "nbformat": 4,
 "nbformat_minor": 2
}
